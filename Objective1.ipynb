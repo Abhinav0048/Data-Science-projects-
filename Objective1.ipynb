{
 "cells": [
  {
   "cell_type": "code",
   "execution_count": 88,
   "id": "8a1b25d8",
   "metadata": {},
   "outputs": [],
   "source": [
    "import numpy as np\n",
    "import pandas as pd \n",
    "\n",
    "\n",
    "df=pd.read_csv('~/Downloads/NLP.csv')"
   ]
  },
  {
   "cell_type": "code",
   "execution_count": 89,
   "id": "847205f6",
   "metadata": {},
   "outputs": [],
   "source": [
    "pd.options.display.max_colwidth=200"
   ]
  },
  {
   "cell_type": "code",
   "execution_count": 90,
   "id": "e7203c68",
   "metadata": {},
   "outputs": [],
   "source": [
    "df.columns=['Time_Date','author','text']"
   ]
  },
  {
   "cell_type": "code",
   "execution_count": 91,
   "id": "0654ae2e",
   "metadata": {},
   "outputs": [
    {
     "data": {
      "text/html": [
       "<div>\n",
       "<style scoped>\n",
       "    .dataframe tbody tr th:only-of-type {\n",
       "        vertical-align: middle;\n",
       "    }\n",
       "\n",
       "    .dataframe tbody tr th {\n",
       "        vertical-align: top;\n",
       "    }\n",
       "\n",
       "    .dataframe thead th {\n",
       "        text-align: right;\n",
       "    }\n",
       "</style>\n",
       "<table border=\"1\" class=\"dataframe\">\n",
       "  <thead>\n",
       "    <tr style=\"text-align: right;\">\n",
       "      <th></th>\n",
       "      <th>Time_Date</th>\n",
       "      <th>author</th>\n",
       "      <th>text</th>\n",
       "    </tr>\n",
       "  </thead>\n",
       "  <tbody>\n",
       "    <tr>\n",
       "      <th>0</th>\n",
       "      <td>2013-07-18 09:39:46.071961602</td>\n",
       "      <td>Hematopoiesis News</td>\n",
       "      <td>⚕️ Scientists conducted a Phase II study of acalabrutinib in patients with relapsed/refractory #CLL who were ibrutinib-intolerant, and found an overall response rate of 73%. \\nhttps://t.co/eJ6m4Qp...</td>\n",
       "    </tr>\n",
       "    <tr>\n",
       "      <th>1</th>\n",
       "      <td>2013-07-17 03:40:32.173842437</td>\n",
       "      <td>Michael Wang, MD</td>\n",
       "      <td>This phase 2 Acalabrutinib-Venetoclax (AV) trial that is still in recruitment phase will study how well venetoclax and acalabrutinib works in MCL patients who either relapsed or non-respondent to ...</td>\n",
       "    </tr>\n",
       "    <tr>\n",
       "      <th>2</th>\n",
       "      <td>2013-07-15 15:41:16.553048065</td>\n",
       "      <td>1stOncology</td>\n",
       "      <td>#NICE backs #AstraZenecas #Calquence for #CLL https://t.co/Vb5lPDoGrA</td>\n",
       "    </tr>\n",
       "    <tr>\n",
       "      <th>3</th>\n",
       "      <td>2013-07-12 19:19:42.367813635</td>\n",
       "      <td>Toby Eyre</td>\n",
       "      <td>#acalabrutinib is a valuable option in pts intolerant to #ibrutinib. Further valuable data to help decision making in #CLL \\n\\nEarly View | Haematologica https://t.co/Z2kCLZaX0D</td>\n",
       "    </tr>\n",
       "    <tr>\n",
       "      <th>4</th>\n",
       "      <td>2013-07-04 12:40:34.334232586</td>\n",
       "      <td>Lymphoma Hub</td>\n",
       "      <td>NICE has recommended the use of acalabrutinib for patients with treatment-naïve chronic lymphocytic leukemia. Find out more here https://t.co/6OuJptLCIN #lymsm #lymphoma</td>\n",
       "    </tr>\n",
       "  </tbody>\n",
       "</table>\n",
       "</div>"
      ],
      "text/plain": [
       "                       Time_Date              author  \\\n",
       "0  2013-07-18 09:39:46.071961602  Hematopoiesis News   \n",
       "1  2013-07-17 03:40:32.173842437    Michael Wang, MD   \n",
       "2  2013-07-15 15:41:16.553048065         1stOncology   \n",
       "3  2013-07-12 19:19:42.367813635           Toby Eyre   \n",
       "4  2013-07-04 12:40:34.334232586        Lymphoma Hub   \n",
       "\n",
       "                                                                                                                                                                                                      text  \n",
       "0  ⚕️ Scientists conducted a Phase II study of acalabrutinib in patients with relapsed/refractory #CLL who were ibrutinib-intolerant, and found an overall response rate of 73%. \\nhttps://t.co/eJ6m4Qp...  \n",
       "1  This phase 2 Acalabrutinib-Venetoclax (AV) trial that is still in recruitment phase will study how well venetoclax and acalabrutinib works in MCL patients who either relapsed or non-respondent to ...  \n",
       "2                                                                                                                                    #NICE backs #AstraZenecas #Calquence for #CLL https://t.co/Vb5lPDoGrA  \n",
       "3                        #acalabrutinib is a valuable option in pts intolerant to #ibrutinib. Further valuable data to help decision making in #CLL \\n\\nEarly View | Haematologica https://t.co/Z2kCLZaX0D  \n",
       "4                                NICE has recommended the use of acalabrutinib for patients with treatment-naïve chronic lymphocytic leukemia. Find out more here https://t.co/6OuJptLCIN #lymsm #lymphoma  "
      ]
     },
     "execution_count": 91,
     "metadata": {},
     "output_type": "execute_result"
    }
   ],
   "source": [
    "df.head()"
   ]
  },
  {
   "cell_type": "markdown",
   "id": "5c3c924b",
   "metadata": {},
   "source": [
    "# Cleaning The Text "
   ]
  },
  {
   "cell_type": "code",
   "execution_count": 92,
   "id": "0a4cce73",
   "metadata": {},
   "outputs": [
    {
     "name": "stderr",
     "output_type": "stream",
     "text": [
      "[nltk_data] Downloading package stopwords to /Users/abhi/nltk_data...\n",
      "[nltk_data]   Package stopwords is already up-to-date!\n"
     ]
    }
   ],
   "source": [
    "import re\n",
    "import nltk\n",
    "nltk.download('stopwords')\n",
    "from nltk.corpus import stopwords"
   ]
  },
  {
   "cell_type": "code",
   "execution_count": 93,
   "id": "fd310ef4",
   "metadata": {},
   "outputs": [],
   "source": [
    "# Converting upper case to lower case "
   ]
  },
  {
   "cell_type": "code",
   "execution_count": 94,
   "id": "c770c7e1",
   "metadata": {},
   "outputs": [],
   "source": [
    "def to_lower(word): \n",
    "     result = word.lower() \n",
    "     return result"
   ]
  },
  {
   "cell_type": "code",
   "execution_count": 95,
   "id": "e126fffa",
   "metadata": {},
   "outputs": [],
   "source": [
    "df['clean_text']=df['text'].apply(to_lower)"
   ]
  },
  {
   "cell_type": "code",
   "execution_count": 96,
   "id": "0baec1a5",
   "metadata": {},
   "outputs": [
    {
     "data": {
      "text/html": [
       "<div>\n",
       "<style scoped>\n",
       "    .dataframe tbody tr th:only-of-type {\n",
       "        vertical-align: middle;\n",
       "    }\n",
       "\n",
       "    .dataframe tbody tr th {\n",
       "        vertical-align: top;\n",
       "    }\n",
       "\n",
       "    .dataframe thead th {\n",
       "        text-align: right;\n",
       "    }\n",
       "</style>\n",
       "<table border=\"1\" class=\"dataframe\">\n",
       "  <thead>\n",
       "    <tr style=\"text-align: right;\">\n",
       "      <th></th>\n",
       "      <th>Time_Date</th>\n",
       "      <th>author</th>\n",
       "      <th>text</th>\n",
       "      <th>clean_text</th>\n",
       "    </tr>\n",
       "  </thead>\n",
       "  <tbody>\n",
       "    <tr>\n",
       "      <th>0</th>\n",
       "      <td>2013-07-18 09:39:46.071961602</td>\n",
       "      <td>Hematopoiesis News</td>\n",
       "      <td>⚕️ Scientists conducted a Phase II study of acalabrutinib in patients with relapsed/refractory #CLL who were ibrutinib-intolerant, and found an overall response rate of 73%. \\nhttps://t.co/eJ6m4Qp...</td>\n",
       "      <td>⚕️ scientists conducted a phase ii study of acalabrutinib in patients with relapsed/refractory #cll who were ibrutinib-intolerant, and found an overall response rate of 73%. \\nhttps://t.co/ej6m4qp...</td>\n",
       "    </tr>\n",
       "    <tr>\n",
       "      <th>1</th>\n",
       "      <td>2013-07-17 03:40:32.173842437</td>\n",
       "      <td>Michael Wang, MD</td>\n",
       "      <td>This phase 2 Acalabrutinib-Venetoclax (AV) trial that is still in recruitment phase will study how well venetoclax and acalabrutinib works in MCL patients who either relapsed or non-respondent to ...</td>\n",
       "      <td>this phase 2 acalabrutinib-venetoclax (av) trial that is still in recruitment phase will study how well venetoclax and acalabrutinib works in mcl patients who either relapsed or non-respondent to ...</td>\n",
       "    </tr>\n",
       "    <tr>\n",
       "      <th>2</th>\n",
       "      <td>2013-07-15 15:41:16.553048065</td>\n",
       "      <td>1stOncology</td>\n",
       "      <td>#NICE backs #AstraZenecas #Calquence for #CLL https://t.co/Vb5lPDoGrA</td>\n",
       "      <td>#nice backs #astrazenecas #calquence for #cll https://t.co/vb5lpdogra</td>\n",
       "    </tr>\n",
       "    <tr>\n",
       "      <th>3</th>\n",
       "      <td>2013-07-12 19:19:42.367813635</td>\n",
       "      <td>Toby Eyre</td>\n",
       "      <td>#acalabrutinib is a valuable option in pts intolerant to #ibrutinib. Further valuable data to help decision making in #CLL \\n\\nEarly View | Haematologica https://t.co/Z2kCLZaX0D</td>\n",
       "      <td>#acalabrutinib is a valuable option in pts intolerant to #ibrutinib. further valuable data to help decision making in #cll \\n\\nearly view | haematologica https://t.co/z2kclzax0d</td>\n",
       "    </tr>\n",
       "    <tr>\n",
       "      <th>4</th>\n",
       "      <td>2013-07-04 12:40:34.334232586</td>\n",
       "      <td>Lymphoma Hub</td>\n",
       "      <td>NICE has recommended the use of acalabrutinib for patients with treatment-naïve chronic lymphocytic leukemia. Find out more here https://t.co/6OuJptLCIN #lymsm #lymphoma</td>\n",
       "      <td>nice has recommended the use of acalabrutinib for patients with treatment-naïve chronic lymphocytic leukemia. find out more here https://t.co/6oujptlcin #lymsm #lymphoma</td>\n",
       "    </tr>\n",
       "  </tbody>\n",
       "</table>\n",
       "</div>"
      ],
      "text/plain": [
       "                       Time_Date              author  \\\n",
       "0  2013-07-18 09:39:46.071961602  Hematopoiesis News   \n",
       "1  2013-07-17 03:40:32.173842437    Michael Wang, MD   \n",
       "2  2013-07-15 15:41:16.553048065         1stOncology   \n",
       "3  2013-07-12 19:19:42.367813635           Toby Eyre   \n",
       "4  2013-07-04 12:40:34.334232586        Lymphoma Hub   \n",
       "\n",
       "                                                                                                                                                                                                      text  \\\n",
       "0  ⚕️ Scientists conducted a Phase II study of acalabrutinib in patients with relapsed/refractory #CLL who were ibrutinib-intolerant, and found an overall response rate of 73%. \\nhttps://t.co/eJ6m4Qp...   \n",
       "1  This phase 2 Acalabrutinib-Venetoclax (AV) trial that is still in recruitment phase will study how well venetoclax and acalabrutinib works in MCL patients who either relapsed or non-respondent to ...   \n",
       "2                                                                                                                                    #NICE backs #AstraZenecas #Calquence for #CLL https://t.co/Vb5lPDoGrA   \n",
       "3                        #acalabrutinib is a valuable option in pts intolerant to #ibrutinib. Further valuable data to help decision making in #CLL \\n\\nEarly View | Haematologica https://t.co/Z2kCLZaX0D   \n",
       "4                                NICE has recommended the use of acalabrutinib for patients with treatment-naïve chronic lymphocytic leukemia. Find out more here https://t.co/6OuJptLCIN #lymsm #lymphoma   \n",
       "\n",
       "                                                                                                                                                                                                clean_text  \n",
       "0  ⚕️ scientists conducted a phase ii study of acalabrutinib in patients with relapsed/refractory #cll who were ibrutinib-intolerant, and found an overall response rate of 73%. \\nhttps://t.co/ej6m4qp...  \n",
       "1  this phase 2 acalabrutinib-venetoclax (av) trial that is still in recruitment phase will study how well venetoclax and acalabrutinib works in mcl patients who either relapsed or non-respondent to ...  \n",
       "2                                                                                                                                    #nice backs #astrazenecas #calquence for #cll https://t.co/vb5lpdogra  \n",
       "3                        #acalabrutinib is a valuable option in pts intolerant to #ibrutinib. further valuable data to help decision making in #cll \\n\\nearly view | haematologica https://t.co/z2kclzax0d  \n",
       "4                                nice has recommended the use of acalabrutinib for patients with treatment-naïve chronic lymphocytic leukemia. find out more here https://t.co/6oujptlcin #lymsm #lymphoma  "
      ]
     },
     "execution_count": 96,
     "metadata": {},
     "output_type": "execute_result"
    }
   ],
   "source": [
    "df.head()"
   ]
  },
  {
   "cell_type": "code",
   "execution_count": 97,
   "id": "c4118fff",
   "metadata": {},
   "outputs": [],
   "source": [
    "# Removal of Mentions "
   ]
  },
  {
   "cell_type": "code",
   "execution_count": 98,
   "id": "742b2633",
   "metadata": {},
   "outputs": [],
   "source": [
    "def remove_mentions(word):       \n",
    "    result = re.sub(r\"@\\S+\", \"\", word)       \n",
    "    return result"
   ]
  },
  {
   "cell_type": "code",
   "execution_count": 99,
   "id": "cc6a5904",
   "metadata": {},
   "outputs": [],
   "source": [
    "df['clean_text']=df['clean_text'].apply(remove_mentions)"
   ]
  },
  {
   "cell_type": "code",
   "execution_count": 100,
   "id": "67b2c9c8",
   "metadata": {},
   "outputs": [
    {
     "data": {
      "text/html": [
       "<div>\n",
       "<style scoped>\n",
       "    .dataframe tbody tr th:only-of-type {\n",
       "        vertical-align: middle;\n",
       "    }\n",
       "\n",
       "    .dataframe tbody tr th {\n",
       "        vertical-align: top;\n",
       "    }\n",
       "\n",
       "    .dataframe thead th {\n",
       "        text-align: right;\n",
       "    }\n",
       "</style>\n",
       "<table border=\"1\" class=\"dataframe\">\n",
       "  <thead>\n",
       "    <tr style=\"text-align: right;\">\n",
       "      <th></th>\n",
       "      <th>Time_Date</th>\n",
       "      <th>author</th>\n",
       "      <th>text</th>\n",
       "      <th>clean_text</th>\n",
       "    </tr>\n",
       "  </thead>\n",
       "  <tbody>\n",
       "    <tr>\n",
       "      <th>0</th>\n",
       "      <td>2013-07-18 09:39:46.071961602</td>\n",
       "      <td>Hematopoiesis News</td>\n",
       "      <td>⚕️ Scientists conducted a Phase II study of acalabrutinib in patients with relapsed/refractory #CLL who were ibrutinib-intolerant, and found an overall response rate of 73%. \\nhttps://t.co/eJ6m4Qp...</td>\n",
       "      <td>⚕️ scientists conducted a phase ii study of acalabrutinib in patients with relapsed/refractory #cll who were ibrutinib-intolerant, and found an overall response rate of 73%. \\nhttps://t.co/ej6m4qp...</td>\n",
       "    </tr>\n",
       "    <tr>\n",
       "      <th>1</th>\n",
       "      <td>2013-07-17 03:40:32.173842437</td>\n",
       "      <td>Michael Wang, MD</td>\n",
       "      <td>This phase 2 Acalabrutinib-Venetoclax (AV) trial that is still in recruitment phase will study how well venetoclax and acalabrutinib works in MCL patients who either relapsed or non-respondent to ...</td>\n",
       "      <td>this phase 2 acalabrutinib-venetoclax (av) trial that is still in recruitment phase will study how well venetoclax and acalabrutinib works in mcl patients who either relapsed or non-respondent to ...</td>\n",
       "    </tr>\n",
       "    <tr>\n",
       "      <th>2</th>\n",
       "      <td>2013-07-15 15:41:16.553048065</td>\n",
       "      <td>1stOncology</td>\n",
       "      <td>#NICE backs #AstraZenecas #Calquence for #CLL https://t.co/Vb5lPDoGrA</td>\n",
       "      <td>#nice backs #astrazenecas #calquence for #cll https://t.co/vb5lpdogra</td>\n",
       "    </tr>\n",
       "    <tr>\n",
       "      <th>3</th>\n",
       "      <td>2013-07-12 19:19:42.367813635</td>\n",
       "      <td>Toby Eyre</td>\n",
       "      <td>#acalabrutinib is a valuable option in pts intolerant to #ibrutinib. Further valuable data to help decision making in #CLL \\n\\nEarly View | Haematologica https://t.co/Z2kCLZaX0D</td>\n",
       "      <td>#acalabrutinib is a valuable option in pts intolerant to #ibrutinib. further valuable data to help decision making in #cll \\n\\nearly view | haematologica https://t.co/z2kclzax0d</td>\n",
       "    </tr>\n",
       "    <tr>\n",
       "      <th>4</th>\n",
       "      <td>2013-07-04 12:40:34.334232586</td>\n",
       "      <td>Lymphoma Hub</td>\n",
       "      <td>NICE has recommended the use of acalabrutinib for patients with treatment-naïve chronic lymphocytic leukemia. Find out more here https://t.co/6OuJptLCIN #lymsm #lymphoma</td>\n",
       "      <td>nice has recommended the use of acalabrutinib for patients with treatment-naïve chronic lymphocytic leukemia. find out more here https://t.co/6oujptlcin #lymsm #lymphoma</td>\n",
       "    </tr>\n",
       "  </tbody>\n",
       "</table>\n",
       "</div>"
      ],
      "text/plain": [
       "                       Time_Date              author  \\\n",
       "0  2013-07-18 09:39:46.071961602  Hematopoiesis News   \n",
       "1  2013-07-17 03:40:32.173842437    Michael Wang, MD   \n",
       "2  2013-07-15 15:41:16.553048065         1stOncology   \n",
       "3  2013-07-12 19:19:42.367813635           Toby Eyre   \n",
       "4  2013-07-04 12:40:34.334232586        Lymphoma Hub   \n",
       "\n",
       "                                                                                                                                                                                                      text  \\\n",
       "0  ⚕️ Scientists conducted a Phase II study of acalabrutinib in patients with relapsed/refractory #CLL who were ibrutinib-intolerant, and found an overall response rate of 73%. \\nhttps://t.co/eJ6m4Qp...   \n",
       "1  This phase 2 Acalabrutinib-Venetoclax (AV) trial that is still in recruitment phase will study how well venetoclax and acalabrutinib works in MCL patients who either relapsed or non-respondent to ...   \n",
       "2                                                                                                                                    #NICE backs #AstraZenecas #Calquence for #CLL https://t.co/Vb5lPDoGrA   \n",
       "3                        #acalabrutinib is a valuable option in pts intolerant to #ibrutinib. Further valuable data to help decision making in #CLL \\n\\nEarly View | Haematologica https://t.co/Z2kCLZaX0D   \n",
       "4                                NICE has recommended the use of acalabrutinib for patients with treatment-naïve chronic lymphocytic leukemia. Find out more here https://t.co/6OuJptLCIN #lymsm #lymphoma   \n",
       "\n",
       "                                                                                                                                                                                                clean_text  \n",
       "0  ⚕️ scientists conducted a phase ii study of acalabrutinib in patients with relapsed/refractory #cll who were ibrutinib-intolerant, and found an overall response rate of 73%. \\nhttps://t.co/ej6m4qp...  \n",
       "1  this phase 2 acalabrutinib-venetoclax (av) trial that is still in recruitment phase will study how well venetoclax and acalabrutinib works in mcl patients who either relapsed or non-respondent to ...  \n",
       "2                                                                                                                                    #nice backs #astrazenecas #calquence for #cll https://t.co/vb5lpdogra  \n",
       "3                        #acalabrutinib is a valuable option in pts intolerant to #ibrutinib. further valuable data to help decision making in #cll \\n\\nearly view | haematologica https://t.co/z2kclzax0d  \n",
       "4                                nice has recommended the use of acalabrutinib for patients with treatment-naïve chronic lymphocytic leukemia. find out more here https://t.co/6oujptlcin #lymsm #lymphoma  "
      ]
     },
     "execution_count": 100,
     "metadata": {},
     "output_type": "execute_result"
    }
   ],
   "source": [
    "df.head()"
   ]
  },
  {
   "cell_type": "code",
   "execution_count": 101,
   "id": "c13acd80",
   "metadata": {},
   "outputs": [],
   "source": [
    "# Removing of Special Characters "
   ]
  },
  {
   "cell_type": "code",
   "execution_count": 102,
   "id": "cb96eabf",
   "metadata": {},
   "outputs": [],
   "source": [
    "def remove_special_characters(x):\n",
    "    result=re.sub('[^a-zA-Z]', ' ',x)\n",
    "    return result\n"
   ]
  },
  {
   "cell_type": "code",
   "execution_count": 103,
   "id": "99a4ea98",
   "metadata": {},
   "outputs": [],
   "source": [
    "df['clean_text']=df['clean_text'].apply(remove_special_characters)"
   ]
  },
  {
   "cell_type": "code",
   "execution_count": 104,
   "id": "f0ec8a99",
   "metadata": {},
   "outputs": [
    {
     "data": {
      "text/html": [
       "<div>\n",
       "<style scoped>\n",
       "    .dataframe tbody tr th:only-of-type {\n",
       "        vertical-align: middle;\n",
       "    }\n",
       "\n",
       "    .dataframe tbody tr th {\n",
       "        vertical-align: top;\n",
       "    }\n",
       "\n",
       "    .dataframe thead th {\n",
       "        text-align: right;\n",
       "    }\n",
       "</style>\n",
       "<table border=\"1\" class=\"dataframe\">\n",
       "  <thead>\n",
       "    <tr style=\"text-align: right;\">\n",
       "      <th></th>\n",
       "      <th>Time_Date</th>\n",
       "      <th>author</th>\n",
       "      <th>text</th>\n",
       "      <th>clean_text</th>\n",
       "    </tr>\n",
       "  </thead>\n",
       "  <tbody>\n",
       "    <tr>\n",
       "      <th>0</th>\n",
       "      <td>2013-07-18 09:39:46.071961602</td>\n",
       "      <td>Hematopoiesis News</td>\n",
       "      <td>⚕️ Scientists conducted a Phase II study of acalabrutinib in patients with relapsed/refractory #CLL who were ibrutinib-intolerant, and found an overall response rate of 73%. \\nhttps://t.co/eJ6m4Qp...</td>\n",
       "      <td>scientists conducted a phase ii study of acalabrutinib in patients with relapsed refractory  cll who were ibrutinib intolerant  and found an overall response rate of       https   t co ej m qpc...</td>\n",
       "    </tr>\n",
       "    <tr>\n",
       "      <th>1</th>\n",
       "      <td>2013-07-17 03:40:32.173842437</td>\n",
       "      <td>Michael Wang, MD</td>\n",
       "      <td>This phase 2 Acalabrutinib-Venetoclax (AV) trial that is still in recruitment phase will study how well venetoclax and acalabrutinib works in MCL patients who either relapsed or non-respondent to ...</td>\n",
       "      <td>this phase   acalabrutinib venetoclax  av  trial that is still in recruitment phase will study how well venetoclax and acalabrutinib works in mcl patients who either relapsed or non respondent to ...</td>\n",
       "    </tr>\n",
       "    <tr>\n",
       "      <th>2</th>\n",
       "      <td>2013-07-15 15:41:16.553048065</td>\n",
       "      <td>1stOncology</td>\n",
       "      <td>#NICE backs #AstraZenecas #Calquence for #CLL https://t.co/Vb5lPDoGrA</td>\n",
       "      <td>nice backs  astrazenecas  calquence for  cll https   t co vb lpdogra</td>\n",
       "    </tr>\n",
       "    <tr>\n",
       "      <th>3</th>\n",
       "      <td>2013-07-12 19:19:42.367813635</td>\n",
       "      <td>Toby Eyre</td>\n",
       "      <td>#acalabrutinib is a valuable option in pts intolerant to #ibrutinib. Further valuable data to help decision making in #CLL \\n\\nEarly View | Haematologica https://t.co/Z2kCLZaX0D</td>\n",
       "      <td>acalabrutinib is a valuable option in pts intolerant to  ibrutinib  further valuable data to help decision making in  cll   early view   haematologica https   t co z kclzax d</td>\n",
       "    </tr>\n",
       "    <tr>\n",
       "      <th>4</th>\n",
       "      <td>2013-07-04 12:40:34.334232586</td>\n",
       "      <td>Lymphoma Hub</td>\n",
       "      <td>NICE has recommended the use of acalabrutinib for patients with treatment-naïve chronic lymphocytic leukemia. Find out more here https://t.co/6OuJptLCIN #lymsm #lymphoma</td>\n",
       "      <td>nice has recommended the use of acalabrutinib for patients with treatment na ve chronic lymphocytic leukemia  find out more here https   t co  oujptlcin  lymsm  lymphoma</td>\n",
       "    </tr>\n",
       "  </tbody>\n",
       "</table>\n",
       "</div>"
      ],
      "text/plain": [
       "                       Time_Date              author  \\\n",
       "0  2013-07-18 09:39:46.071961602  Hematopoiesis News   \n",
       "1  2013-07-17 03:40:32.173842437    Michael Wang, MD   \n",
       "2  2013-07-15 15:41:16.553048065         1stOncology   \n",
       "3  2013-07-12 19:19:42.367813635           Toby Eyre   \n",
       "4  2013-07-04 12:40:34.334232586        Lymphoma Hub   \n",
       "\n",
       "                                                                                                                                                                                                      text  \\\n",
       "0  ⚕️ Scientists conducted a Phase II study of acalabrutinib in patients with relapsed/refractory #CLL who were ibrutinib-intolerant, and found an overall response rate of 73%. \\nhttps://t.co/eJ6m4Qp...   \n",
       "1  This phase 2 Acalabrutinib-Venetoclax (AV) trial that is still in recruitment phase will study how well venetoclax and acalabrutinib works in MCL patients who either relapsed or non-respondent to ...   \n",
       "2                                                                                                                                    #NICE backs #AstraZenecas #Calquence for #CLL https://t.co/Vb5lPDoGrA   \n",
       "3                        #acalabrutinib is a valuable option in pts intolerant to #ibrutinib. Further valuable data to help decision making in #CLL \\n\\nEarly View | Haematologica https://t.co/Z2kCLZaX0D   \n",
       "4                                NICE has recommended the use of acalabrutinib for patients with treatment-naïve chronic lymphocytic leukemia. Find out more here https://t.co/6OuJptLCIN #lymsm #lymphoma   \n",
       "\n",
       "                                                                                                                                                                                                clean_text  \n",
       "0     scientists conducted a phase ii study of acalabrutinib in patients with relapsed refractory  cll who were ibrutinib intolerant  and found an overall response rate of       https   t co ej m qpc...  \n",
       "1  this phase   acalabrutinib venetoclax  av  trial that is still in recruitment phase will study how well venetoclax and acalabrutinib works in mcl patients who either relapsed or non respondent to ...  \n",
       "2                                                                                                                                     nice backs  astrazenecas  calquence for  cll https   t co vb lpdogra  \n",
       "3                           acalabrutinib is a valuable option in pts intolerant to  ibrutinib  further valuable data to help decision making in  cll   early view   haematologica https   t co z kclzax d  \n",
       "4                                nice has recommended the use of acalabrutinib for patients with treatment na ve chronic lymphocytic leukemia  find out more here https   t co  oujptlcin  lymsm  lymphoma  "
      ]
     },
     "execution_count": 104,
     "metadata": {},
     "output_type": "execute_result"
    }
   ],
   "source": [
    "df.head()"
   ]
  },
  {
   "cell_type": "code",
   "execution_count": 105,
   "id": "d3eee0bb",
   "metadata": {},
   "outputs": [],
   "source": [
    "# Removal of stopwords"
   ]
  },
  {
   "cell_type": "code",
   "execution_count": 106,
   "id": "2142c5f2",
   "metadata": {},
   "outputs": [],
   "source": [
    "stop_words=set(stopwords.words('english'))"
   ]
  },
  {
   "cell_type": "code",
   "execution_count": 107,
   "id": "d330f759",
   "metadata": {},
   "outputs": [],
   "source": [
    "def remove_stop(x):\n",
    "    return ','.join([ word for word in str(x).split() if word not in stop_words])"
   ]
  },
  {
   "cell_type": "code",
   "execution_count": 108,
   "id": "5fee9424",
   "metadata": {},
   "outputs": [],
   "source": [
    "df['clean_text']=df['clean_text'].apply(lambda x: remove_stop(x))"
   ]
  },
  {
   "cell_type": "code",
   "execution_count": 109,
   "id": "8fc1a6fb",
   "metadata": {},
   "outputs": [
    {
     "data": {
      "text/html": [
       "<div>\n",
       "<style scoped>\n",
       "    .dataframe tbody tr th:only-of-type {\n",
       "        vertical-align: middle;\n",
       "    }\n",
       "\n",
       "    .dataframe tbody tr th {\n",
       "        vertical-align: top;\n",
       "    }\n",
       "\n",
       "    .dataframe thead th {\n",
       "        text-align: right;\n",
       "    }\n",
       "</style>\n",
       "<table border=\"1\" class=\"dataframe\">\n",
       "  <thead>\n",
       "    <tr style=\"text-align: right;\">\n",
       "      <th></th>\n",
       "      <th>Time_Date</th>\n",
       "      <th>author</th>\n",
       "      <th>text</th>\n",
       "      <th>clean_text</th>\n",
       "    </tr>\n",
       "  </thead>\n",
       "  <tbody>\n",
       "    <tr>\n",
       "      <th>0</th>\n",
       "      <td>2013-07-18 09:39:46.071961602</td>\n",
       "      <td>Hematopoiesis News</td>\n",
       "      <td>⚕️ Scientists conducted a Phase II study of acalabrutinib in patients with relapsed/refractory #CLL who were ibrutinib-intolerant, and found an overall response rate of 73%. \\nhttps://t.co/eJ6m4Qp...</td>\n",
       "      <td>scientists,conducted,phase,ii,study,acalabrutinib,patients,relapsed,refractory,cll,ibrutinib,intolerant,found,overall,response,rate,https,co,ej,qpc,p,https,co,kuzz,zo,r</td>\n",
       "    </tr>\n",
       "    <tr>\n",
       "      <th>1</th>\n",
       "      <td>2013-07-17 03:40:32.173842437</td>\n",
       "      <td>Michael Wang, MD</td>\n",
       "      <td>This phase 2 Acalabrutinib-Venetoclax (AV) trial that is still in recruitment phase will study how well venetoclax and acalabrutinib works in MCL patients who either relapsed or non-respondent to ...</td>\n",
       "      <td>phase,acalabrutinib,venetoclax,av,trial,still,recruitment,phase,study,well,venetoclax,acalabrutinib,works,mcl,patients,either,relapsed,non,respondent,initial,therapy,https,co,gg,g,n</td>\n",
       "    </tr>\n",
       "    <tr>\n",
       "      <th>2</th>\n",
       "      <td>2013-07-15 15:41:16.553048065</td>\n",
       "      <td>1stOncology</td>\n",
       "      <td>#NICE backs #AstraZenecas #Calquence for #CLL https://t.co/Vb5lPDoGrA</td>\n",
       "      <td>nice,backs,astrazenecas,calquence,cll,https,co,vb,lpdogra</td>\n",
       "    </tr>\n",
       "    <tr>\n",
       "      <th>3</th>\n",
       "      <td>2013-07-12 19:19:42.367813635</td>\n",
       "      <td>Toby Eyre</td>\n",
       "      <td>#acalabrutinib is a valuable option in pts intolerant to #ibrutinib. Further valuable data to help decision making in #CLL \\n\\nEarly View | Haematologica https://t.co/Z2kCLZaX0D</td>\n",
       "      <td>acalabrutinib,valuable,option,pts,intolerant,ibrutinib,valuable,data,help,decision,making,cll,early,view,haematologica,https,co,z,kclzax</td>\n",
       "    </tr>\n",
       "    <tr>\n",
       "      <th>4</th>\n",
       "      <td>2013-07-04 12:40:34.334232586</td>\n",
       "      <td>Lymphoma Hub</td>\n",
       "      <td>NICE has recommended the use of acalabrutinib for patients with treatment-naïve chronic lymphocytic leukemia. Find out more here https://t.co/6OuJptLCIN #lymsm #lymphoma</td>\n",
       "      <td>nice,recommended,use,acalabrutinib,patients,treatment,na,chronic,lymphocytic,leukemia,find,https,co,oujptlcin,lymsm,lymphoma</td>\n",
       "    </tr>\n",
       "  </tbody>\n",
       "</table>\n",
       "</div>"
      ],
      "text/plain": [
       "                       Time_Date              author  \\\n",
       "0  2013-07-18 09:39:46.071961602  Hematopoiesis News   \n",
       "1  2013-07-17 03:40:32.173842437    Michael Wang, MD   \n",
       "2  2013-07-15 15:41:16.553048065         1stOncology   \n",
       "3  2013-07-12 19:19:42.367813635           Toby Eyre   \n",
       "4  2013-07-04 12:40:34.334232586        Lymphoma Hub   \n",
       "\n",
       "                                                                                                                                                                                                      text  \\\n",
       "0  ⚕️ Scientists conducted a Phase II study of acalabrutinib in patients with relapsed/refractory #CLL who were ibrutinib-intolerant, and found an overall response rate of 73%. \\nhttps://t.co/eJ6m4Qp...   \n",
       "1  This phase 2 Acalabrutinib-Venetoclax (AV) trial that is still in recruitment phase will study how well venetoclax and acalabrutinib works in MCL patients who either relapsed or non-respondent to ...   \n",
       "2                                                                                                                                    #NICE backs #AstraZenecas #Calquence for #CLL https://t.co/Vb5lPDoGrA   \n",
       "3                        #acalabrutinib is a valuable option in pts intolerant to #ibrutinib. Further valuable data to help decision making in #CLL \\n\\nEarly View | Haematologica https://t.co/Z2kCLZaX0D   \n",
       "4                                NICE has recommended the use of acalabrutinib for patients with treatment-naïve chronic lymphocytic leukemia. Find out more here https://t.co/6OuJptLCIN #lymsm #lymphoma   \n",
       "\n",
       "                                                                                                                                                                              clean_text  \n",
       "0               scientists,conducted,phase,ii,study,acalabrutinib,patients,relapsed,refractory,cll,ibrutinib,intolerant,found,overall,response,rate,https,co,ej,qpc,p,https,co,kuzz,zo,r  \n",
       "1  phase,acalabrutinib,venetoclax,av,trial,still,recruitment,phase,study,well,venetoclax,acalabrutinib,works,mcl,patients,either,relapsed,non,respondent,initial,therapy,https,co,gg,g,n  \n",
       "2                                                                                                                              nice,backs,astrazenecas,calquence,cll,https,co,vb,lpdogra  \n",
       "3                                               acalabrutinib,valuable,option,pts,intolerant,ibrutinib,valuable,data,help,decision,making,cll,early,view,haematologica,https,co,z,kclzax  \n",
       "4                                                           nice,recommended,use,acalabrutinib,patients,treatment,na,chronic,lymphocytic,leukemia,find,https,co,oujptlcin,lymsm,lymphoma  "
      ]
     },
     "execution_count": 109,
     "metadata": {},
     "output_type": "execute_result"
    }
   ],
   "source": [
    "df.head()"
   ]
  },
  {
   "cell_type": "markdown",
   "id": "b3d2139d",
   "metadata": {},
   "source": [
    "# Removal of Hyperlinks:"
   ]
  },
  {
   "cell_type": "code",
   "execution_count": 110,
   "id": "b566b198",
   "metadata": {},
   "outputs": [],
   "source": [
    "def remove_hyperlink(word):       \n",
    "    return re.sub(r\"http\\S+\", \"\", word)"
   ]
  },
  {
   "cell_type": "code",
   "execution_count": 111,
   "id": "65800833",
   "metadata": {},
   "outputs": [],
   "source": [
    "df['clean_text']=df['clean_text'].apply(remove_hyperlink)"
   ]
  },
  {
   "cell_type": "code",
   "execution_count": 112,
   "id": "9d385b45",
   "metadata": {},
   "outputs": [
    {
     "data": {
      "text/html": [
       "<div>\n",
       "<style scoped>\n",
       "    .dataframe tbody tr th:only-of-type {\n",
       "        vertical-align: middle;\n",
       "    }\n",
       "\n",
       "    .dataframe tbody tr th {\n",
       "        vertical-align: top;\n",
       "    }\n",
       "\n",
       "    .dataframe thead th {\n",
       "        text-align: right;\n",
       "    }\n",
       "</style>\n",
       "<table border=\"1\" class=\"dataframe\">\n",
       "  <thead>\n",
       "    <tr style=\"text-align: right;\">\n",
       "      <th></th>\n",
       "      <th>Time_Date</th>\n",
       "      <th>author</th>\n",
       "      <th>text</th>\n",
       "      <th>clean_text</th>\n",
       "    </tr>\n",
       "  </thead>\n",
       "  <tbody>\n",
       "    <tr>\n",
       "      <th>0</th>\n",
       "      <td>2013-07-18 09:39:46.071961602</td>\n",
       "      <td>Hematopoiesis News</td>\n",
       "      <td>⚕️ Scientists conducted a Phase II study of acalabrutinib in patients with relapsed/refractory #CLL who were ibrutinib-intolerant, and found an overall response rate of 73%. \\nhttps://t.co/eJ6m4Qp...</td>\n",
       "      <td>scientists,conducted,phase,ii,study,acalabrutinib,patients,relapsed,refractory,cll,ibrutinib,intolerant,found,overall,response,rate,</td>\n",
       "    </tr>\n",
       "    <tr>\n",
       "      <th>1</th>\n",
       "      <td>2013-07-17 03:40:32.173842437</td>\n",
       "      <td>Michael Wang, MD</td>\n",
       "      <td>This phase 2 Acalabrutinib-Venetoclax (AV) trial that is still in recruitment phase will study how well venetoclax and acalabrutinib works in MCL patients who either relapsed or non-respondent to ...</td>\n",
       "      <td>phase,acalabrutinib,venetoclax,av,trial,still,recruitment,phase,study,well,venetoclax,acalabrutinib,works,mcl,patients,either,relapsed,non,respondent,initial,therapy,</td>\n",
       "    </tr>\n",
       "    <tr>\n",
       "      <th>2</th>\n",
       "      <td>2013-07-15 15:41:16.553048065</td>\n",
       "      <td>1stOncology</td>\n",
       "      <td>#NICE backs #AstraZenecas #Calquence for #CLL https://t.co/Vb5lPDoGrA</td>\n",
       "      <td>nice,backs,astrazenecas,calquence,cll,</td>\n",
       "    </tr>\n",
       "    <tr>\n",
       "      <th>3</th>\n",
       "      <td>2013-07-12 19:19:42.367813635</td>\n",
       "      <td>Toby Eyre</td>\n",
       "      <td>#acalabrutinib is a valuable option in pts intolerant to #ibrutinib. Further valuable data to help decision making in #CLL \\n\\nEarly View | Haematologica https://t.co/Z2kCLZaX0D</td>\n",
       "      <td>acalabrutinib,valuable,option,pts,intolerant,ibrutinib,valuable,data,help,decision,making,cll,early,view,haematologica,</td>\n",
       "    </tr>\n",
       "    <tr>\n",
       "      <th>4</th>\n",
       "      <td>2013-07-04 12:40:34.334232586</td>\n",
       "      <td>Lymphoma Hub</td>\n",
       "      <td>NICE has recommended the use of acalabrutinib for patients with treatment-naïve chronic lymphocytic leukemia. Find out more here https://t.co/6OuJptLCIN #lymsm #lymphoma</td>\n",
       "      <td>nice,recommended,use,acalabrutinib,patients,treatment,na,chronic,lymphocytic,leukemia,find,</td>\n",
       "    </tr>\n",
       "  </tbody>\n",
       "</table>\n",
       "</div>"
      ],
      "text/plain": [
       "                       Time_Date              author  \\\n",
       "0  2013-07-18 09:39:46.071961602  Hematopoiesis News   \n",
       "1  2013-07-17 03:40:32.173842437    Michael Wang, MD   \n",
       "2  2013-07-15 15:41:16.553048065         1stOncology   \n",
       "3  2013-07-12 19:19:42.367813635           Toby Eyre   \n",
       "4  2013-07-04 12:40:34.334232586        Lymphoma Hub   \n",
       "\n",
       "                                                                                                                                                                                                      text  \\\n",
       "0  ⚕️ Scientists conducted a Phase II study of acalabrutinib in patients with relapsed/refractory #CLL who were ibrutinib-intolerant, and found an overall response rate of 73%. \\nhttps://t.co/eJ6m4Qp...   \n",
       "1  This phase 2 Acalabrutinib-Venetoclax (AV) trial that is still in recruitment phase will study how well venetoclax and acalabrutinib works in MCL patients who either relapsed or non-respondent to ...   \n",
       "2                                                                                                                                    #NICE backs #AstraZenecas #Calquence for #CLL https://t.co/Vb5lPDoGrA   \n",
       "3                        #acalabrutinib is a valuable option in pts intolerant to #ibrutinib. Further valuable data to help decision making in #CLL \\n\\nEarly View | Haematologica https://t.co/Z2kCLZaX0D   \n",
       "4                                NICE has recommended the use of acalabrutinib for patients with treatment-naïve chronic lymphocytic leukemia. Find out more here https://t.co/6OuJptLCIN #lymsm #lymphoma   \n",
       "\n",
       "                                                                                                                                                               clean_text  \n",
       "0                                    scientists,conducted,phase,ii,study,acalabrutinib,patients,relapsed,refractory,cll,ibrutinib,intolerant,found,overall,response,rate,  \n",
       "1  phase,acalabrutinib,venetoclax,av,trial,still,recruitment,phase,study,well,venetoclax,acalabrutinib,works,mcl,patients,either,relapsed,non,respondent,initial,therapy,  \n",
       "2                                                                                                                                  nice,backs,astrazenecas,calquence,cll,  \n",
       "3                                                 acalabrutinib,valuable,option,pts,intolerant,ibrutinib,valuable,data,help,decision,making,cll,early,view,haematologica,  \n",
       "4                                                                             nice,recommended,use,acalabrutinib,patients,treatment,na,chronic,lymphocytic,leukemia,find,  "
      ]
     },
     "execution_count": 112,
     "metadata": {},
     "output_type": "execute_result"
    }
   ],
   "source": [
    "df.head()"
   ]
  },
  {
   "cell_type": "markdown",
   "id": "2d3e6d28",
   "metadata": {},
   "source": [
    "# Generating Frequency"
   ]
  },
  {
   "cell_type": "code",
   "execution_count": 114,
   "id": "f7c4ae27",
   "metadata": {},
   "outputs": [],
   "source": [
    "freq=nltk.FreqDist(df.clean_text)"
   ]
  },
  {
   "cell_type": "code",
   "execution_count": 115,
   "id": "7b2f5a37",
   "metadata": {},
   "outputs": [
    {
     "data": {
      "text/plain": [
       "FreqDist({'': 663, 'luciacalabru,calquence,acalabrutinib,': 523, 'chronic,lymphocytic,leukemia,primarily,cancer,adults,amp,slow,growing,cancer,involving,lymphocytes,cll,': 373, 'targeted,leukemia,rx,gets,green,light,': 193, 'new,cll,research,study,available,placebo,see,qualify,': 151, 'need,pickup,listen,comes,sun,paralysis,cancer,cll,': 120, 'cll,': 108, 'looking,new,solutions,cll,explores,cll,treatment,w,expert,dr,jeff,sharman,check,': 90, 'fda,approves,new,drug,chronic,lymphocytic,leukemia,patients,specific,chromosomal,abnormality,': 81, 'chronic,lymphocytic,leukemia': 80, ...})"
      ]
     },
     "execution_count": 115,
     "metadata": {},
     "output_type": "execute_result"
    }
   ],
   "source": [
    "freq"
   ]
  },
  {
   "cell_type": "code",
   "execution_count": 116,
   "id": "626f9cef",
   "metadata": {},
   "outputs": [],
   "source": [
    "top_N=len(df)"
   ]
  },
  {
   "cell_type": "code",
   "execution_count": 121,
   "id": "25a67004",
   "metadata": {},
   "outputs": [],
   "source": [
    "rslt=pd.DataFrame(freq.most_common(top_N),columns=['Entities','Frequency'])"
   ]
  },
  {
   "cell_type": "code",
   "execution_count": 122,
   "id": "337acac8",
   "metadata": {},
   "outputs": [],
   "source": [
    "final_result=rslt.drop(index=0)"
   ]
  },
  {
   "cell_type": "code",
   "execution_count": 123,
   "id": "70157778",
   "metadata": {},
   "outputs": [
    {
     "data": {
      "text/html": [
       "<div>\n",
       "<style scoped>\n",
       "    .dataframe tbody tr th:only-of-type {\n",
       "        vertical-align: middle;\n",
       "    }\n",
       "\n",
       "    .dataframe tbody tr th {\n",
       "        vertical-align: top;\n",
       "    }\n",
       "\n",
       "    .dataframe thead th {\n",
       "        text-align: right;\n",
       "    }\n",
       "</style>\n",
       "<table border=\"1\" class=\"dataframe\">\n",
       "  <thead>\n",
       "    <tr style=\"text-align: right;\">\n",
       "      <th></th>\n",
       "      <th>Entities</th>\n",
       "      <th>Frequency</th>\n",
       "    </tr>\n",
       "  </thead>\n",
       "  <tbody>\n",
       "    <tr>\n",
       "      <th>1</th>\n",
       "      <td>luciacalabru,calquence,acalabrutinib,</td>\n",
       "      <td>523</td>\n",
       "    </tr>\n",
       "    <tr>\n",
       "      <th>2</th>\n",
       "      <td>chronic,lymphocytic,leukemia,primarily,cancer,adults,amp,slow,growing,cancer,involving,lymphocytes,cll,</td>\n",
       "      <td>373</td>\n",
       "    </tr>\n",
       "    <tr>\n",
       "      <th>3</th>\n",
       "      <td>targeted,leukemia,rx,gets,green,light,</td>\n",
       "      <td>193</td>\n",
       "    </tr>\n",
       "    <tr>\n",
       "      <th>4</th>\n",
       "      <td>new,cll,research,study,available,placebo,see,qualify,</td>\n",
       "      <td>151</td>\n",
       "    </tr>\n",
       "    <tr>\n",
       "      <th>5</th>\n",
       "      <td>need,pickup,listen,comes,sun,paralysis,cancer,cll,</td>\n",
       "      <td>120</td>\n",
       "    </tr>\n",
       "    <tr>\n",
       "      <th>...</th>\n",
       "      <td>...</td>\n",
       "      <td>...</td>\n",
       "    </tr>\n",
       "    <tr>\n",
       "      <th>32177</th>\n",
       "      <td>partnering,amp,ono,btki,combo,pi,ki,btki,come,key,gen,btkis,sink,swim,rx,lymphoma,cll,</td>\n",
       "      <td>1</td>\n",
       "    </tr>\n",
       "    <tr>\n",
       "      <th>32178</th>\n",
       "      <td>go,gerrard,last,game,anfield,going,rate,already,best,ever,liverpool,lifetime,sg,cll</td>\n",
       "      <td>1</td>\n",
       "    </tr>\n",
       "    <tr>\n",
       "      <th>32179</th>\n",
       "      <td>zusatznutzen,von,idelalisib,ist,weder,f,r,cll,noch,f,r,refrakt,res,follikul,res,lymphom,belegt,</td>\n",
       "      <td>1</td>\n",
       "    </tr>\n",
       "    <tr>\n",
       "      <th>32180</th>\n",
       "      <td>hematolog,ptk,expression,immunochemotherapy,outcome,chronic,lymphocytic,leukemia,</td>\n",
       "      <td>1</td>\n",
       "    </tr>\n",
       "    <tr>\n",
       "      <th>32181</th>\n",
       "      <td>hematolog,mutations,tlr,myd,pathway,identify,subset,young,chronic,lymphocytic,leukemia,patients,</td>\n",
       "      <td>1</td>\n",
       "    </tr>\n",
       "  </tbody>\n",
       "</table>\n",
       "<p>32181 rows × 2 columns</p>\n",
       "</div>"
      ],
      "text/plain": [
       "                                                                                                      Entities  \\\n",
       "1                                                                        luciacalabru,calquence,acalabrutinib,   \n",
       "2      chronic,lymphocytic,leukemia,primarily,cancer,adults,amp,slow,growing,cancer,involving,lymphocytes,cll,   \n",
       "3                                                                       targeted,leukemia,rx,gets,green,light,   \n",
       "4                                                        new,cll,research,study,available,placebo,see,qualify,   \n",
       "5                                                           need,pickup,listen,comes,sun,paralysis,cancer,cll,   \n",
       "...                                                                                                        ...   \n",
       "32177                   partnering,amp,ono,btki,combo,pi,ki,btki,come,key,gen,btkis,sink,swim,rx,lymphoma,cll,   \n",
       "32178                      go,gerrard,last,game,anfield,going,rate,already,best,ever,liverpool,lifetime,sg,cll   \n",
       "32179          zusatznutzen,von,idelalisib,ist,weder,f,r,cll,noch,f,r,refrakt,res,follikul,res,lymphom,belegt,   \n",
       "32180                        hematolog,ptk,expression,immunochemotherapy,outcome,chronic,lymphocytic,leukemia,   \n",
       "32181         hematolog,mutations,tlr,myd,pathway,identify,subset,young,chronic,lymphocytic,leukemia,patients,   \n",
       "\n",
       "       Frequency  \n",
       "1            523  \n",
       "2            373  \n",
       "3            193  \n",
       "4            151  \n",
       "5            120  \n",
       "...          ...  \n",
       "32177          1  \n",
       "32178          1  \n",
       "32179          1  \n",
       "32180          1  \n",
       "32181          1  \n",
       "\n",
       "[32181 rows x 2 columns]"
      ]
     },
     "execution_count": 123,
     "metadata": {},
     "output_type": "execute_result"
    }
   ],
   "source": [
    "final_result"
   ]
  },
  {
   "cell_type": "markdown",
   "id": "5aa10e70",
   "metadata": {},
   "source": [
    "# Creating The Csv file "
   ]
  },
  {
   "cell_type": "code",
   "execution_count": 124,
   "id": "d053a271",
   "metadata": {},
   "outputs": [],
   "source": [
    "final_result.to_csv('Objective1.csv',index=False)"
   ]
  },
  {
   "cell_type": "markdown",
   "id": "726ebb37",
   "metadata": {},
   "source": [
    "# Summary"
   ]
  },
  {
   "cell_type": "markdown",
   "id": "24b82d55",
   "metadata": {},
   "source": [
    "* We have read the data from csv to  python notebook.\n",
    "* We have to pre proces the Data  and prepare the data for required task. \n",
    "* We have converted the text into lower case to give the unique identification all words.\n",
    "* Then we have removed all the mentions for example @ from the text data because there is no information frokm this kind of characters.\n",
    "* Then we have removed all the special characters from the data. \n",
    "* Then we have removed the stop words(for example is ,of,the ), These kind of words does not have any meaning and they are used for grammer support for the text.\n",
    "* Then we have removed the Hyperlinks from the data(https;/) to clean the data to genrate the right output.\n",
    "* We have genrated the frequency of the entities in the tweets from nltk.freqdist and created the data frame for the same. \n",
    "* Finally the information of frequency of entities is stored in a csv file attached with the file."
   ]
  },
  {
   "cell_type": "code",
   "execution_count": null,
   "id": "8c58ea88",
   "metadata": {},
   "outputs": [],
   "source": []
  }
 ],
 "metadata": {
  "kernelspec": {
   "display_name": "Python 3 (ipykernel)",
   "language": "python",
   "name": "python3"
  },
  "language_info": {
   "codemirror_mode": {
    "name": "ipython",
    "version": 3
   },
   "file_extension": ".py",
   "mimetype": "text/x-python",
   "name": "python",
   "nbconvert_exporter": "python",
   "pygments_lexer": "ipython3",
   "version": "3.9.7"
  }
 },
 "nbformat": 4,
 "nbformat_minor": 5
}
