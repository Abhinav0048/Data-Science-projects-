{
 "cells": [
  {
   "cell_type": "code",
   "execution_count": 8,
   "id": "e2986539",
   "metadata": {},
   "outputs": [],
   "source": [
    "import numpy as np\n",
    "import pandas as pd\n",
    "import os \n",
    "os.chdir('/users/Abhi/Downloads/')"
   ]
  },
  {
   "cell_type": "code",
   "execution_count": 9,
   "id": "f9b87aca",
   "metadata": {},
   "outputs": [],
   "source": [
    "df=pd.read_csv('credit_dataset_IMB.csv')"
   ]
  },
  {
   "cell_type": "code",
   "execution_count": 10,
   "id": "b1f72e4d",
   "metadata": {},
   "outputs": [
    {
     "data": {
      "text/plain": [
       "Index(['credit.rating', 'account.balance', 'credit.duration.months',\n",
       "       'previous.credit.payment.status', 'credit.purpose', 'credit.amount',\n",
       "       'savings', 'employment.duration', 'installment.rate', 'marital.status',\n",
       "       'guarantor', 'residence.duration', 'current.assets', 'age',\n",
       "       'other.credits', 'apartment.type', 'bank.credits', 'occupation',\n",
       "       'dependents', 'telephone', 'foreign.worker'],\n",
       "      dtype='object')"
      ]
     },
     "execution_count": 10,
     "metadata": {},
     "output_type": "execute_result"
    }
   ],
   "source": [
    "df.columns"
   ]
  },
  {
   "cell_type": "code",
   "execution_count": 11,
   "id": "7328143d",
   "metadata": {},
   "outputs": [],
   "source": [
    "import statsmodels.api as sm \n",
    "from sklearn.model_selection import train_test_split"
   ]
  },
  {
   "cell_type": "code",
   "execution_count": 12,
   "id": "600651ad",
   "metadata": {},
   "outputs": [
    {
     "name": "stderr",
     "output_type": "stream",
     "text": [
      "/Users/abhi/opt/anaconda3/lib/python3.9/site-packages/statsmodels/tsa/tsatools.py:142: FutureWarning: In a future version of pandas all arguments of concat except for the argument 'objs' will be keyword-only\n",
      "  x = pd.concat(x[::order], 1)\n"
     ]
    }
   ],
   "source": [
    "x=df.drop('credit.rating',axis=1)\n",
    "x=sm.add_constant(x)\n",
    "y=df[['credit.rating']]\n",
    "xtrain,xtest,ytrain,ytest=train_test_split(x,y,random_state=10,test_size=0.3)"
   ]
  },
  {
   "cell_type": "code",
   "execution_count": 13,
   "id": "de975a35",
   "metadata": {},
   "outputs": [
    {
     "data": {
      "text/html": [
       "<div>\n",
       "<style scoped>\n",
       "    .dataframe tbody tr th:only-of-type {\n",
       "        vertical-align: middle;\n",
       "    }\n",
       "\n",
       "    .dataframe tbody tr th {\n",
       "        vertical-align: top;\n",
       "    }\n",
       "\n",
       "    .dataframe thead th {\n",
       "        text-align: right;\n",
       "    }\n",
       "</style>\n",
       "<table border=\"1\" class=\"dataframe\">\n",
       "  <thead>\n",
       "    <tr style=\"text-align: right;\">\n",
       "      <th></th>\n",
       "      <th>const</th>\n",
       "      <th>account.balance</th>\n",
       "      <th>credit.duration.months</th>\n",
       "      <th>previous.credit.payment.status</th>\n",
       "      <th>credit.purpose</th>\n",
       "      <th>credit.amount</th>\n",
       "      <th>savings</th>\n",
       "      <th>employment.duration</th>\n",
       "      <th>installment.rate</th>\n",
       "      <th>marital.status</th>\n",
       "      <th>...</th>\n",
       "      <th>residence.duration</th>\n",
       "      <th>current.assets</th>\n",
       "      <th>age</th>\n",
       "      <th>other.credits</th>\n",
       "      <th>apartment.type</th>\n",
       "      <th>bank.credits</th>\n",
       "      <th>occupation</th>\n",
       "      <th>dependents</th>\n",
       "      <th>telephone</th>\n",
       "      <th>foreign.worker</th>\n",
       "    </tr>\n",
       "  </thead>\n",
       "  <tbody>\n",
       "    <tr>\n",
       "      <th>17853</th>\n",
       "      <td>1.0</td>\n",
       "      <td>3</td>\n",
       "      <td>21</td>\n",
       "      <td>3</td>\n",
       "      <td>1</td>\n",
       "      <td>2993</td>\n",
       "      <td>1</td>\n",
       "      <td>2</td>\n",
       "      <td>3</td>\n",
       "      <td>3</td>\n",
       "      <td>...</td>\n",
       "      <td>2</td>\n",
       "      <td>1</td>\n",
       "      <td>28</td>\n",
       "      <td>1</td>\n",
       "      <td>2</td>\n",
       "      <td>2</td>\n",
       "      <td>2</td>\n",
       "      <td>1</td>\n",
       "      <td>1</td>\n",
       "      <td>1</td>\n",
       "    </tr>\n",
       "    <tr>\n",
       "      <th>15963</th>\n",
       "      <td>1.0</td>\n",
       "      <td>1</td>\n",
       "      <td>29</td>\n",
       "      <td>2</td>\n",
       "      <td>1</td>\n",
       "      <td>6582</td>\n",
       "      <td>1</td>\n",
       "      <td>4</td>\n",
       "      <td>4</td>\n",
       "      <td>4</td>\n",
       "      <td>...</td>\n",
       "      <td>4</td>\n",
       "      <td>4</td>\n",
       "      <td>62</td>\n",
       "      <td>2</td>\n",
       "      <td>1</td>\n",
       "      <td>1</td>\n",
       "      <td>4</td>\n",
       "      <td>2</td>\n",
       "      <td>2</td>\n",
       "      <td>1</td>\n",
       "    </tr>\n",
       "    <tr>\n",
       "      <th>20106</th>\n",
       "      <td>1.0</td>\n",
       "      <td>3</td>\n",
       "      <td>15</td>\n",
       "      <td>3</td>\n",
       "      <td>1</td>\n",
       "      <td>2360</td>\n",
       "      <td>3</td>\n",
       "      <td>2</td>\n",
       "      <td>2</td>\n",
       "      <td>3</td>\n",
       "      <td>...</td>\n",
       "      <td>2</td>\n",
       "      <td>3</td>\n",
       "      <td>36</td>\n",
       "      <td>2</td>\n",
       "      <td>2</td>\n",
       "      <td>1</td>\n",
       "      <td>3</td>\n",
       "      <td>1</td>\n",
       "      <td>2</td>\n",
       "      <td>1</td>\n",
       "    </tr>\n",
       "    <tr>\n",
       "      <th>15525</th>\n",
       "      <td>1.0</td>\n",
       "      <td>1</td>\n",
       "      <td>56</td>\n",
       "      <td>3</td>\n",
       "      <td>4</td>\n",
       "      <td>4731</td>\n",
       "      <td>3</td>\n",
       "      <td>2</td>\n",
       "      <td>2</td>\n",
       "      <td>2</td>\n",
       "      <td>...</td>\n",
       "      <td>2</td>\n",
       "      <td>2</td>\n",
       "      <td>64</td>\n",
       "      <td>1</td>\n",
       "      <td>3</td>\n",
       "      <td>1</td>\n",
       "      <td>2</td>\n",
       "      <td>2</td>\n",
       "      <td>2</td>\n",
       "      <td>1</td>\n",
       "    </tr>\n",
       "    <tr>\n",
       "      <th>5234</th>\n",
       "      <td>1.0</td>\n",
       "      <td>2</td>\n",
       "      <td>7</td>\n",
       "      <td>1</td>\n",
       "      <td>3</td>\n",
       "      <td>12072</td>\n",
       "      <td>4</td>\n",
       "      <td>2</td>\n",
       "      <td>2</td>\n",
       "      <td>2</td>\n",
       "      <td>...</td>\n",
       "      <td>2</td>\n",
       "      <td>2</td>\n",
       "      <td>71</td>\n",
       "      <td>1</td>\n",
       "      <td>3</td>\n",
       "      <td>2</td>\n",
       "      <td>2</td>\n",
       "      <td>1</td>\n",
       "      <td>2</td>\n",
       "      <td>1</td>\n",
       "    </tr>\n",
       "    <tr>\n",
       "      <th>...</th>\n",
       "      <td>...</td>\n",
       "      <td>...</td>\n",
       "      <td>...</td>\n",
       "      <td>...</td>\n",
       "      <td>...</td>\n",
       "      <td>...</td>\n",
       "      <td>...</td>\n",
       "      <td>...</td>\n",
       "      <td>...</td>\n",
       "      <td>...</td>\n",
       "      <td>...</td>\n",
       "      <td>...</td>\n",
       "      <td>...</td>\n",
       "      <td>...</td>\n",
       "      <td>...</td>\n",
       "      <td>...</td>\n",
       "      <td>...</td>\n",
       "      <td>...</td>\n",
       "      <td>...</td>\n",
       "      <td>...</td>\n",
       "      <td>...</td>\n",
       "    </tr>\n",
       "    <tr>\n",
       "      <th>9372</th>\n",
       "      <td>1.0</td>\n",
       "      <td>1</td>\n",
       "      <td>39</td>\n",
       "      <td>3</td>\n",
       "      <td>2</td>\n",
       "      <td>14179</td>\n",
       "      <td>4</td>\n",
       "      <td>3</td>\n",
       "      <td>4</td>\n",
       "      <td>3</td>\n",
       "      <td>...</td>\n",
       "      <td>4</td>\n",
       "      <td>2</td>\n",
       "      <td>30</td>\n",
       "      <td>2</td>\n",
       "      <td>2</td>\n",
       "      <td>2</td>\n",
       "      <td>4</td>\n",
       "      <td>1</td>\n",
       "      <td>2</td>\n",
       "      <td>1</td>\n",
       "    </tr>\n",
       "    <tr>\n",
       "      <th>7291</th>\n",
       "      <td>1.0</td>\n",
       "      <td>1</td>\n",
       "      <td>50</td>\n",
       "      <td>2</td>\n",
       "      <td>4</td>\n",
       "      <td>2360</td>\n",
       "      <td>3</td>\n",
       "      <td>2</td>\n",
       "      <td>2</td>\n",
       "      <td>2</td>\n",
       "      <td>...</td>\n",
       "      <td>2</td>\n",
       "      <td>2</td>\n",
       "      <td>47</td>\n",
       "      <td>2</td>\n",
       "      <td>1</td>\n",
       "      <td>1</td>\n",
       "      <td>2</td>\n",
       "      <td>1</td>\n",
       "      <td>1</td>\n",
       "      <td>1</td>\n",
       "    </tr>\n",
       "    <tr>\n",
       "      <th>17728</th>\n",
       "      <td>1.0</td>\n",
       "      <td>3</td>\n",
       "      <td>37</td>\n",
       "      <td>3</td>\n",
       "      <td>1</td>\n",
       "      <td>15991</td>\n",
       "      <td>1</td>\n",
       "      <td>2</td>\n",
       "      <td>2</td>\n",
       "      <td>2</td>\n",
       "      <td>...</td>\n",
       "      <td>2</td>\n",
       "      <td>2</td>\n",
       "      <td>32</td>\n",
       "      <td>2</td>\n",
       "      <td>1</td>\n",
       "      <td>2</td>\n",
       "      <td>2</td>\n",
       "      <td>1</td>\n",
       "      <td>2</td>\n",
       "      <td>1</td>\n",
       "    </tr>\n",
       "    <tr>\n",
       "      <th>7293</th>\n",
       "      <td>1.0</td>\n",
       "      <td>3</td>\n",
       "      <td>36</td>\n",
       "      <td>1</td>\n",
       "      <td>3</td>\n",
       "      <td>2267</td>\n",
       "      <td>2</td>\n",
       "      <td>4</td>\n",
       "      <td>4</td>\n",
       "      <td>4</td>\n",
       "      <td>...</td>\n",
       "      <td>4</td>\n",
       "      <td>4</td>\n",
       "      <td>49</td>\n",
       "      <td>1</td>\n",
       "      <td>2</td>\n",
       "      <td>2</td>\n",
       "      <td>4</td>\n",
       "      <td>1</td>\n",
       "      <td>1</td>\n",
       "      <td>1</td>\n",
       "    </tr>\n",
       "    <tr>\n",
       "      <th>17673</th>\n",
       "      <td>1.0</td>\n",
       "      <td>3</td>\n",
       "      <td>50</td>\n",
       "      <td>2</td>\n",
       "      <td>4</td>\n",
       "      <td>12477</td>\n",
       "      <td>3</td>\n",
       "      <td>1</td>\n",
       "      <td>1</td>\n",
       "      <td>1</td>\n",
       "      <td>...</td>\n",
       "      <td>1</td>\n",
       "      <td>1</td>\n",
       "      <td>29</td>\n",
       "      <td>1</td>\n",
       "      <td>1</td>\n",
       "      <td>1</td>\n",
       "      <td>1</td>\n",
       "      <td>1</td>\n",
       "      <td>1</td>\n",
       "      <td>1</td>\n",
       "    </tr>\n",
       "  </tbody>\n",
       "</table>\n",
       "<p>14448 rows × 21 columns</p>\n",
       "</div>"
      ],
      "text/plain": [
       "       const  account.balance  credit.duration.months  \\\n",
       "17853    1.0                3                      21   \n",
       "15963    1.0                1                      29   \n",
       "20106    1.0                3                      15   \n",
       "15525    1.0                1                      56   \n",
       "5234     1.0                2                       7   \n",
       "...      ...              ...                     ...   \n",
       "9372     1.0                1                      39   \n",
       "7291     1.0                1                      50   \n",
       "17728    1.0                3                      37   \n",
       "7293     1.0                3                      36   \n",
       "17673    1.0                3                      50   \n",
       "\n",
       "       previous.credit.payment.status  credit.purpose  credit.amount  savings  \\\n",
       "17853                               3               1           2993        1   \n",
       "15963                               2               1           6582        1   \n",
       "20106                               3               1           2360        3   \n",
       "15525                               3               4           4731        3   \n",
       "5234                                1               3          12072        4   \n",
       "...                               ...             ...            ...      ...   \n",
       "9372                                3               2          14179        4   \n",
       "7291                                2               4           2360        3   \n",
       "17728                               3               1          15991        1   \n",
       "7293                                1               3           2267        2   \n",
       "17673                               2               4          12477        3   \n",
       "\n",
       "       employment.duration  installment.rate  marital.status  ...  \\\n",
       "17853                    2                 3               3  ...   \n",
       "15963                    4                 4               4  ...   \n",
       "20106                    2                 2               3  ...   \n",
       "15525                    2                 2               2  ...   \n",
       "5234                     2                 2               2  ...   \n",
       "...                    ...               ...             ...  ...   \n",
       "9372                     3                 4               3  ...   \n",
       "7291                     2                 2               2  ...   \n",
       "17728                    2                 2               2  ...   \n",
       "7293                     4                 4               4  ...   \n",
       "17673                    1                 1               1  ...   \n",
       "\n",
       "       residence.duration  current.assets  age  other.credits  apartment.type  \\\n",
       "17853                   2               1   28              1               2   \n",
       "15963                   4               4   62              2               1   \n",
       "20106                   2               3   36              2               2   \n",
       "15525                   2               2   64              1               3   \n",
       "5234                    2               2   71              1               3   \n",
       "...                   ...             ...  ...            ...             ...   \n",
       "9372                    4               2   30              2               2   \n",
       "7291                    2               2   47              2               1   \n",
       "17728                   2               2   32              2               1   \n",
       "7293                    4               4   49              1               2   \n",
       "17673                   1               1   29              1               1   \n",
       "\n",
       "       bank.credits  occupation  dependents  telephone  foreign.worker  \n",
       "17853             2           2           1          1               1  \n",
       "15963             1           4           2          2               1  \n",
       "20106             1           3           1          2               1  \n",
       "15525             1           2           2          2               1  \n",
       "5234              2           2           1          2               1  \n",
       "...             ...         ...         ...        ...             ...  \n",
       "9372              2           4           1          2               1  \n",
       "7291              1           2           1          1               1  \n",
       "17728             2           2           1          2               1  \n",
       "7293              2           4           1          1               1  \n",
       "17673             1           1           1          1               1  \n",
       "\n",
       "[14448 rows x 21 columns]"
      ]
     },
     "execution_count": 13,
     "metadata": {},
     "output_type": "execute_result"
    }
   ],
   "source": [
    "xtrain"
   ]
  },
  {
   "cell_type": "code",
   "execution_count": 14,
   "id": "4d30e15a",
   "metadata": {},
   "outputs": [],
   "source": [
    "from statsmodels.api import Logit\n"
   ]
  },
  {
   "cell_type": "code",
   "execution_count": 15,
   "id": "d9560fdc",
   "metadata": {},
   "outputs": [
    {
     "name": "stdout",
     "output_type": "stream",
     "text": [
      "Optimization terminated successfully.\n",
      "         Current function value: 0.052043\n",
      "         Iterations 12\n"
     ]
    }
   ],
   "source": [
    "model=Logit(ytrain,xtrain).fit()"
   ]
  },
  {
   "cell_type": "code",
   "execution_count": 16,
   "id": "47e31980",
   "metadata": {},
   "outputs": [
    {
     "data": {
      "text/html": [
       "<table class=\"simpletable\">\n",
       "<caption>Logit Regression Results</caption>\n",
       "<tr>\n",
       "  <th>Dep. Variable:</th>     <td>credit.rating</td>  <th>  No. Observations:  </th>   <td> 14448</td>  \n",
       "</tr>\n",
       "<tr>\n",
       "  <th>Model:</th>                 <td>Logit</td>      <th>  Df Residuals:      </th>   <td> 14427</td>  \n",
       "</tr>\n",
       "<tr>\n",
       "  <th>Method:</th>                 <td>MLE</td>       <th>  Df Model:          </th>   <td>    20</td>  \n",
       "</tr>\n",
       "<tr>\n",
       "  <th>Date:</th>            <td>Fri, 12 Aug 2022</td> <th>  Pseudo R-squ.:     </th>   <td>0.3630</td>  \n",
       "</tr>\n",
       "<tr>\n",
       "  <th>Time:</th>                <td>14:10:53</td>     <th>  Log-Likelihood:    </th>  <td> -751.91</td> \n",
       "</tr>\n",
       "<tr>\n",
       "  <th>converged:</th>             <td>True</td>       <th>  LL-Null:           </th>  <td> -1180.4</td> \n",
       "</tr>\n",
       "<tr>\n",
       "  <th>Covariance Type:</th>     <td>nonrobust</td>    <th>  LLR p-value:       </th> <td>1.102e-168</td>\n",
       "</tr>\n",
       "</table>\n",
       "<table class=\"simpletable\">\n",
       "<tr>\n",
       "                 <td></td>                   <th>coef</th>     <th>std err</th>      <th>z</th>      <th>P>|z|</th>  <th>[0.025</th>    <th>0.975]</th>  \n",
       "</tr>\n",
       "<tr>\n",
       "  <th>const</th>                          <td>   -2.8878</td> <td>    0.956</td> <td>   -3.020</td> <td> 0.003</td> <td>   -4.762</td> <td>   -1.014</td>\n",
       "</tr>\n",
       "<tr>\n",
       "  <th>account.balance</th>                <td>    0.5144</td> <td>    0.093</td> <td>    5.539</td> <td> 0.000</td> <td>    0.332</td> <td>    0.696</td>\n",
       "</tr>\n",
       "<tr>\n",
       "  <th>credit.duration.months</th>         <td>   -0.0042</td> <td>    0.005</td> <td>   -0.801</td> <td> 0.423</td> <td>   -0.015</td> <td>    0.006</td>\n",
       "</tr>\n",
       "<tr>\n",
       "  <th>previous.credit.payment.status</th> <td>    0.0593</td> <td>    0.105</td> <td>    0.563</td> <td> 0.573</td> <td>   -0.147</td> <td>    0.266</td>\n",
       "</tr>\n",
       "<tr>\n",
       "  <th>credit.purpose</th>                 <td>   -0.4698</td> <td>    0.079</td> <td>   -5.950</td> <td> 0.000</td> <td>   -0.624</td> <td>   -0.315</td>\n",
       "</tr>\n",
       "<tr>\n",
       "  <th>credit.amount</th>                  <td>    0.0001</td> <td> 2.19e-05</td> <td>    5.458</td> <td> 0.000</td> <td> 7.66e-05</td> <td>    0.000</td>\n",
       "</tr>\n",
       "<tr>\n",
       "  <th>savings</th>                        <td>    0.5863</td> <td>    0.080</td> <td>    7.338</td> <td> 0.000</td> <td>    0.430</td> <td>    0.743</td>\n",
       "</tr>\n",
       "<tr>\n",
       "  <th>employment.duration</th>            <td>    0.6427</td> <td>    0.099</td> <td>    6.470</td> <td> 0.000</td> <td>    0.448</td> <td>    0.837</td>\n",
       "</tr>\n",
       "<tr>\n",
       "  <th>installment.rate</th>               <td>   -0.3666</td> <td>    0.097</td> <td>   -3.780</td> <td> 0.000</td> <td>   -0.557</td> <td>   -0.177</td>\n",
       "</tr>\n",
       "<tr>\n",
       "  <th>marital.status</th>                 <td>    0.3742</td> <td>    0.089</td> <td>    4.207</td> <td> 0.000</td> <td>    0.200</td> <td>    0.549</td>\n",
       "</tr>\n",
       "<tr>\n",
       "  <th>guarantor</th>                      <td>    0.1004</td> <td>    0.248</td> <td>    0.406</td> <td> 0.685</td> <td>   -0.385</td> <td>    0.586</td>\n",
       "</tr>\n",
       "<tr>\n",
       "  <th>residence.duration</th>             <td>   -0.3529</td> <td>    0.092</td> <td>   -3.857</td> <td> 0.000</td> <td>   -0.532</td> <td>   -0.174</td>\n",
       "</tr>\n",
       "<tr>\n",
       "  <th>current.assets</th>                 <td>   -0.2279</td> <td>    0.105</td> <td>   -2.166</td> <td> 0.030</td> <td>   -0.434</td> <td>   -0.022</td>\n",
       "</tr>\n",
       "<tr>\n",
       "  <th>age</th>                            <td>    0.0327</td> <td>    0.006</td> <td>    5.743</td> <td> 0.000</td> <td>    0.022</td> <td>    0.044</td>\n",
       "</tr>\n",
       "<tr>\n",
       "  <th>other.credits</th>                  <td>   -0.3176</td> <td>    0.172</td> <td>   -1.850</td> <td> 0.064</td> <td>   -0.654</td> <td>    0.019</td>\n",
       "</tr>\n",
       "<tr>\n",
       "  <th>apartment.type</th>                 <td>    0.1133</td> <td>    0.108</td> <td>    1.046</td> <td> 0.295</td> <td>   -0.099</td> <td>    0.326</td>\n",
       "</tr>\n",
       "<tr>\n",
       "  <th>bank.credits</th>                   <td>    0.1404</td> <td>    0.157</td> <td>    0.893</td> <td> 0.372</td> <td>   -0.168</td> <td>    0.448</td>\n",
       "</tr>\n",
       "<tr>\n",
       "  <th>occupation</th>                     <td>   -0.4071</td> <td>    0.140</td> <td>   -2.900</td> <td> 0.004</td> <td>   -0.682</td> <td>   -0.132</td>\n",
       "</tr>\n",
       "<tr>\n",
       "  <th>dependents</th>                     <td>    0.7427</td> <td>    0.196</td> <td>    3.792</td> <td> 0.000</td> <td>    0.359</td> <td>    1.127</td>\n",
       "</tr>\n",
       "<tr>\n",
       "  <th>telephone</th>                      <td>    0.1826</td> <td>    0.156</td> <td>    1.174</td> <td> 0.240</td> <td>   -0.122</td> <td>    0.488</td>\n",
       "</tr>\n",
       "<tr>\n",
       "  <th>foreign.worker</th>                 <td>    3.5144</td> <td>    0.585</td> <td>    6.002</td> <td> 0.000</td> <td>    2.367</td> <td>    4.662</td>\n",
       "</tr>\n",
       "</table><br/><br/>Possibly complete quasi-separation: A fraction 0.15 of observations can be<br/>perfectly predicted. This might indicate that there is complete<br/>quasi-separation. In this case some parameters will not be identified."
      ],
      "text/plain": [
       "<class 'statsmodels.iolib.summary.Summary'>\n",
       "\"\"\"\n",
       "                           Logit Regression Results                           \n",
       "==============================================================================\n",
       "Dep. Variable:          credit.rating   No. Observations:                14448\n",
       "Model:                          Logit   Df Residuals:                    14427\n",
       "Method:                           MLE   Df Model:                           20\n",
       "Date:                Fri, 12 Aug 2022   Pseudo R-squ.:                  0.3630\n",
       "Time:                        14:10:53   Log-Likelihood:                -751.91\n",
       "converged:                       True   LL-Null:                       -1180.4\n",
       "Covariance Type:            nonrobust   LLR p-value:                1.102e-168\n",
       "==================================================================================================\n",
       "                                     coef    std err          z      P>|z|      [0.025      0.975]\n",
       "--------------------------------------------------------------------------------------------------\n",
       "const                             -2.8878      0.956     -3.020      0.003      -4.762      -1.014\n",
       "account.balance                    0.5144      0.093      5.539      0.000       0.332       0.696\n",
       "credit.duration.months            -0.0042      0.005     -0.801      0.423      -0.015       0.006\n",
       "previous.credit.payment.status     0.0593      0.105      0.563      0.573      -0.147       0.266\n",
       "credit.purpose                    -0.4698      0.079     -5.950      0.000      -0.624      -0.315\n",
       "credit.amount                      0.0001   2.19e-05      5.458      0.000    7.66e-05       0.000\n",
       "savings                            0.5863      0.080      7.338      0.000       0.430       0.743\n",
       "employment.duration                0.6427      0.099      6.470      0.000       0.448       0.837\n",
       "installment.rate                  -0.3666      0.097     -3.780      0.000      -0.557      -0.177\n",
       "marital.status                     0.3742      0.089      4.207      0.000       0.200       0.549\n",
       "guarantor                          0.1004      0.248      0.406      0.685      -0.385       0.586\n",
       "residence.duration                -0.3529      0.092     -3.857      0.000      -0.532      -0.174\n",
       "current.assets                    -0.2279      0.105     -2.166      0.030      -0.434      -0.022\n",
       "age                                0.0327      0.006      5.743      0.000       0.022       0.044\n",
       "other.credits                     -0.3176      0.172     -1.850      0.064      -0.654       0.019\n",
       "apartment.type                     0.1133      0.108      1.046      0.295      -0.099       0.326\n",
       "bank.credits                       0.1404      0.157      0.893      0.372      -0.168       0.448\n",
       "occupation                        -0.4071      0.140     -2.900      0.004      -0.682      -0.132\n",
       "dependents                         0.7427      0.196      3.792      0.000       0.359       1.127\n",
       "telephone                          0.1826      0.156      1.174      0.240      -0.122       0.488\n",
       "foreign.worker                     3.5144      0.585      6.002      0.000       2.367       4.662\n",
       "==================================================================================================\n",
       "\n",
       "Possibly complete quasi-separation: A fraction 0.15 of observations can be\n",
       "perfectly predicted. This might indicate that there is complete\n",
       "quasi-separation. In this case some parameters will not be identified.\n",
       "\"\"\""
      ]
     },
     "execution_count": 16,
     "metadata": {},
     "output_type": "execute_result"
    }
   ],
   "source": [
    "model.summary()"
   ]
  },
  {
   "cell_type": "code",
   "execution_count": 17,
   "id": "631ca916",
   "metadata": {},
   "outputs": [
    {
     "name": "stderr",
     "output_type": "stream",
     "text": [
      "/Users/abhi/opt/anaconda3/lib/python3.9/site-packages/statsmodels/tsa/tsatools.py:142: FutureWarning: In a future version of pandas all arguments of concat except for the argument 'objs' will be keyword-only\n",
      "  x = pd.concat(x[::order], 1)\n"
     ]
    }
   ],
   "source": [
    "xtest=sm.add_constant(xtest)"
   ]
  },
  {
   "cell_type": "code",
   "execution_count": 18,
   "id": "4def95ce",
   "metadata": {},
   "outputs": [],
   "source": [
    "pred=model.predict(xtest)"
   ]
  },
  {
   "cell_type": "code",
   "execution_count": 19,
   "id": "a2d91a5a",
   "metadata": {},
   "outputs": [],
   "source": [
    "thres=[0 if X<0.5 else 1 for X in pred]"
   ]
  },
  {
   "cell_type": "code",
   "execution_count": 20,
   "id": "9c7d3483",
   "metadata": {},
   "outputs": [],
   "source": [
    "from sklearn.metrics import  classification_report"
   ]
  },
  {
   "cell_type": "code",
   "execution_count": 21,
   "id": "051e8978",
   "metadata": {},
   "outputs": [],
   "source": [
    "cr=classification_report(ytest,thres)"
   ]
  },
  {
   "cell_type": "code",
   "execution_count": 22,
   "id": "617102a4",
   "metadata": {},
   "outputs": [
    {
     "name": "stdout",
     "output_type": "stream",
     "text": [
      "              precision    recall  f1-score   support\n",
      "\n",
      "           0       0.52      0.16      0.24        70\n",
      "           1       0.99      1.00      0.99      6122\n",
      "\n",
      "    accuracy                           0.99      6192\n",
      "   macro avg       0.76      0.58      0.62      6192\n",
      "weighted avg       0.99      0.99      0.99      6192\n",
      "\n"
     ]
    }
   ],
   "source": [
    "print(cr)"
   ]
  },
  {
   "cell_type": "code",
   "execution_count": 23,
   "id": "b5f8a181",
   "metadata": {},
   "outputs": [],
   "source": [
    "from sklearn.metrics import roc_curve,roc_auc_score"
   ]
  },
  {
   "cell_type": "code",
   "execution_count": 24,
   "id": "70380bc3",
   "metadata": {},
   "outputs": [],
   "source": [
    "FPR,TPR,thresh=roc_curve(ytest,pred)"
   ]
  },
  {
   "cell_type": "code",
   "execution_count": 25,
   "id": "61da99de",
   "metadata": {},
   "outputs": [],
   "source": [
    "table=pd.DataFrame({'FPR':FPR,'TPR':TPR,'THRESHOLD':thresh,'diff':np.abs(FPR-TPR)})\n"
   ]
  },
  {
   "cell_type": "code",
   "execution_count": 26,
   "id": "7ee1fe16",
   "metadata": {},
   "outputs": [
    {
     "data": {
      "text/html": [
       "<div>\n",
       "<style scoped>\n",
       "    .dataframe tbody tr th:only-of-type {\n",
       "        vertical-align: middle;\n",
       "    }\n",
       "\n",
       "    .dataframe tbody tr th {\n",
       "        vertical-align: top;\n",
       "    }\n",
       "\n",
       "    .dataframe thead th {\n",
       "        text-align: right;\n",
       "    }\n",
       "</style>\n",
       "<table border=\"1\" class=\"dataframe\">\n",
       "  <thead>\n",
       "    <tr style=\"text-align: right;\">\n",
       "      <th></th>\n",
       "      <th>FPR</th>\n",
       "      <th>TPR</th>\n",
       "      <th>THRESHOLD</th>\n",
       "      <th>diff</th>\n",
       "    </tr>\n",
       "  </thead>\n",
       "  <tbody>\n",
       "    <tr>\n",
       "      <th>60</th>\n",
       "      <td>0.100000</td>\n",
       "      <td>0.888598</td>\n",
       "      <td>0.974497</td>\n",
       "      <td>0.788598</td>\n",
       "    </tr>\n",
       "    <tr>\n",
       "      <th>76</th>\n",
       "      <td>0.142857</td>\n",
       "      <td>0.927148</td>\n",
       "      <td>0.959051</td>\n",
       "      <td>0.784291</td>\n",
       "    </tr>\n",
       "    <tr>\n",
       "      <th>68</th>\n",
       "      <td>0.114286</td>\n",
       "      <td>0.897582</td>\n",
       "      <td>0.971985</td>\n",
       "      <td>0.783297</td>\n",
       "    </tr>\n",
       "    <tr>\n",
       "      <th>67</th>\n",
       "      <td>0.114286</td>\n",
       "      <td>0.896276</td>\n",
       "      <td>0.972325</td>\n",
       "      <td>0.781990</td>\n",
       "    </tr>\n",
       "    <tr>\n",
       "      <th>66</th>\n",
       "      <td>0.114286</td>\n",
       "      <td>0.895949</td>\n",
       "      <td>0.972342</td>\n",
       "      <td>0.781663</td>\n",
       "    </tr>\n",
       "    <tr>\n",
       "      <th>...</th>\n",
       "      <td>...</td>\n",
       "      <td>...</td>\n",
       "      <td>...</td>\n",
       "      <td>...</td>\n",
       "    </tr>\n",
       "    <tr>\n",
       "      <th>215</th>\n",
       "      <td>0.971429</td>\n",
       "      <td>1.000000</td>\n",
       "      <td>0.176151</td>\n",
       "      <td>0.028571</td>\n",
       "    </tr>\n",
       "    <tr>\n",
       "      <th>214</th>\n",
       "      <td>0.971429</td>\n",
       "      <td>0.999673</td>\n",
       "      <td>0.188044</td>\n",
       "      <td>0.028245</td>\n",
       "    </tr>\n",
       "    <tr>\n",
       "      <th>1</th>\n",
       "      <td>0.000000</td>\n",
       "      <td>0.000163</td>\n",
       "      <td>0.999997</td>\n",
       "      <td>0.000163</td>\n",
       "    </tr>\n",
       "    <tr>\n",
       "      <th>0</th>\n",
       "      <td>0.000000</td>\n",
       "      <td>0.000000</td>\n",
       "      <td>1.999997</td>\n",
       "      <td>0.000000</td>\n",
       "    </tr>\n",
       "    <tr>\n",
       "      <th>216</th>\n",
       "      <td>1.000000</td>\n",
       "      <td>1.000000</td>\n",
       "      <td>0.157317</td>\n",
       "      <td>0.000000</td>\n",
       "    </tr>\n",
       "  </tbody>\n",
       "</table>\n",
       "<p>217 rows × 4 columns</p>\n",
       "</div>"
      ],
      "text/plain": [
       "          FPR       TPR  THRESHOLD      diff\n",
       "60   0.100000  0.888598   0.974497  0.788598\n",
       "76   0.142857  0.927148   0.959051  0.784291\n",
       "68   0.114286  0.897582   0.971985  0.783297\n",
       "67   0.114286  0.896276   0.972325  0.781990\n",
       "66   0.114286  0.895949   0.972342  0.781663\n",
       "..        ...       ...        ...       ...\n",
       "215  0.971429  1.000000   0.176151  0.028571\n",
       "214  0.971429  0.999673   0.188044  0.028245\n",
       "1    0.000000  0.000163   0.999997  0.000163\n",
       "0    0.000000  0.000000   1.999997  0.000000\n",
       "216  1.000000  1.000000   0.157317  0.000000\n",
       "\n",
       "[217 rows x 4 columns]"
      ]
     },
     "execution_count": 26,
     "metadata": {},
     "output_type": "execute_result"
    }
   ],
   "source": [
    "table.sort_values('diff',ascending=False)"
   ]
  },
  {
   "cell_type": "code",
   "execution_count": 27,
   "id": "3bff152b",
   "metadata": {},
   "outputs": [],
   "source": [
    "thres1=[0 if X<0.97 else 1 for X in pred]"
   ]
  },
  {
   "cell_type": "code",
   "execution_count": 28,
   "id": "c2b82c79",
   "metadata": {},
   "outputs": [],
   "source": [
    "cr=classification_report(ytest,thres1)"
   ]
  },
  {
   "cell_type": "code",
   "execution_count": 29,
   "id": "9b06f4d5",
   "metadata": {},
   "outputs": [
    {
     "name": "stdout",
     "output_type": "stream",
     "text": [
      "              precision    recall  f1-score   support\n",
      "\n",
      "           0       0.09      0.87      0.17        70\n",
      "           1       1.00      0.90      0.95      6122\n",
      "\n",
      "    accuracy                           0.90      6192\n",
      "   macro avg       0.55      0.89      0.56      6192\n",
      "weighted avg       0.99      0.90      0.94      6192\n",
      "\n"
     ]
    }
   ],
   "source": [
    "print(cr)"
   ]
  },
  {
   "cell_type": "code",
   "execution_count": 30,
   "id": "3019453c",
   "metadata": {},
   "outputs": [],
   "source": [
    "from sklearn.tree import DecisionTreeClassifier\n"
   ]
  },
  {
   "cell_type": "code",
   "execution_count": 31,
   "id": "08bfa179",
   "metadata": {},
   "outputs": [],
   "source": [
    "dt=DecisionTreeClassifier(max_depth=5)\n",
    "model=dt.fit(xtrain,ytrain)"
   ]
  },
  {
   "cell_type": "code",
   "execution_count": 32,
   "id": "592b9b36",
   "metadata": {},
   "outputs": [],
   "source": [
    "pred=model.predict_proba(xtest)[:,1]"
   ]
  },
  {
   "cell_type": "code",
   "execution_count": 33,
   "id": "7966dd84",
   "metadata": {},
   "outputs": [
    {
     "data": {
      "text/plain": [
       "array([0.99719326, 1.        , 0.99719326, ..., 0.98544093, 1.        ,\n",
       "       1.        ])"
      ]
     },
     "execution_count": 33,
     "metadata": {},
     "output_type": "execute_result"
    }
   ],
   "source": [
    "pred"
   ]
  },
  {
   "cell_type": "code",
   "execution_count": 34,
   "id": "68ea1ba4",
   "metadata": {},
   "outputs": [],
   "source": [
    "fpr,tpr,thres=roc_curve(ytest,pred)"
   ]
  },
  {
   "cell_type": "code",
   "execution_count": 35,
   "id": "2f188f19",
   "metadata": {},
   "outputs": [],
   "source": [
    "table=pd.DataFrame({'FPR':fpr,'TPR':tpr,'thresh':thres,'diff':np.abs(fpr-tpr)})"
   ]
  },
  {
   "cell_type": "code",
   "execution_count": 36,
   "id": "f2f1ab2a",
   "metadata": {},
   "outputs": [
    {
     "data": {
      "text/html": [
       "<div>\n",
       "<style scoped>\n",
       "    .dataframe tbody tr th:only-of-type {\n",
       "        vertical-align: middle;\n",
       "    }\n",
       "\n",
       "    .dataframe tbody tr th {\n",
       "        vertical-align: top;\n",
       "    }\n",
       "\n",
       "    .dataframe thead th {\n",
       "        text-align: right;\n",
       "    }\n",
       "</style>\n",
       "<table border=\"1\" class=\"dataframe\">\n",
       "  <thead>\n",
       "    <tr style=\"text-align: right;\">\n",
       "      <th></th>\n",
       "      <th>FPR</th>\n",
       "      <th>TPR</th>\n",
       "      <th>thresh</th>\n",
       "      <th>diff</th>\n",
       "    </tr>\n",
       "  </thead>\n",
       "  <tbody>\n",
       "    <tr>\n",
       "      <th>5</th>\n",
       "      <td>0.171429</td>\n",
       "      <td>0.876348</td>\n",
       "      <td>0.974359</td>\n",
       "      <td>0.704919</td>\n",
       "    </tr>\n",
       "    <tr>\n",
       "      <th>3</th>\n",
       "      <td>0.142857</td>\n",
       "      <td>0.847762</td>\n",
       "      <td>0.985441</td>\n",
       "      <td>0.704905</td>\n",
       "    </tr>\n",
       "    <tr>\n",
       "      <th>4</th>\n",
       "      <td>0.171429</td>\n",
       "      <td>0.874551</td>\n",
       "      <td>0.983607</td>\n",
       "      <td>0.703122</td>\n",
       "    </tr>\n",
       "    <tr>\n",
       "      <th>6</th>\n",
       "      <td>0.242857</td>\n",
       "      <td>0.919144</td>\n",
       "      <td>0.973822</td>\n",
       "      <td>0.676287</td>\n",
       "    </tr>\n",
       "    <tr>\n",
       "      <th>2</th>\n",
       "      <td>0.028571</td>\n",
       "      <td>0.684417</td>\n",
       "      <td>0.997193</td>\n",
       "      <td>0.655845</td>\n",
       "    </tr>\n",
       "    <tr>\n",
       "      <th>8</th>\n",
       "      <td>0.285714</td>\n",
       "      <td>0.940869</td>\n",
       "      <td>0.954545</td>\n",
       "      <td>0.655155</td>\n",
       "    </tr>\n",
       "    <tr>\n",
       "      <th>7</th>\n",
       "      <td>0.285714</td>\n",
       "      <td>0.940052</td>\n",
       "      <td>0.967262</td>\n",
       "      <td>0.654338</td>\n",
       "    </tr>\n",
       "    <tr>\n",
       "      <th>9</th>\n",
       "      <td>0.385714</td>\n",
       "      <td>0.952303</td>\n",
       "      <td>0.894040</td>\n",
       "      <td>0.566589</td>\n",
       "    </tr>\n",
       "    <tr>\n",
       "      <th>1</th>\n",
       "      <td>0.014286</td>\n",
       "      <td>0.511434</td>\n",
       "      <td>1.000000</td>\n",
       "      <td>0.497148</td>\n",
       "    </tr>\n",
       "    <tr>\n",
       "      <th>10</th>\n",
       "      <td>0.614286</td>\n",
       "      <td>0.983339</td>\n",
       "      <td>0.888462</td>\n",
       "      <td>0.369053</td>\n",
       "    </tr>\n",
       "    <tr>\n",
       "      <th>11</th>\n",
       "      <td>0.900000</td>\n",
       "      <td>0.997877</td>\n",
       "      <td>0.751092</td>\n",
       "      <td>0.097877</td>\n",
       "    </tr>\n",
       "    <tr>\n",
       "      <th>12</th>\n",
       "      <td>0.985714</td>\n",
       "      <td>1.000000</td>\n",
       "      <td>0.581395</td>\n",
       "      <td>0.014286</td>\n",
       "    </tr>\n",
       "    <tr>\n",
       "      <th>0</th>\n",
       "      <td>0.000000</td>\n",
       "      <td>0.000000</td>\n",
       "      <td>2.000000</td>\n",
       "      <td>0.000000</td>\n",
       "    </tr>\n",
       "    <tr>\n",
       "      <th>13</th>\n",
       "      <td>1.000000</td>\n",
       "      <td>1.000000</td>\n",
       "      <td>0.000000</td>\n",
       "      <td>0.000000</td>\n",
       "    </tr>\n",
       "  </tbody>\n",
       "</table>\n",
       "</div>"
      ],
      "text/plain": [
       "         FPR       TPR    thresh      diff\n",
       "5   0.171429  0.876348  0.974359  0.704919\n",
       "3   0.142857  0.847762  0.985441  0.704905\n",
       "4   0.171429  0.874551  0.983607  0.703122\n",
       "6   0.242857  0.919144  0.973822  0.676287\n",
       "2   0.028571  0.684417  0.997193  0.655845\n",
       "8   0.285714  0.940869  0.954545  0.655155\n",
       "7   0.285714  0.940052  0.967262  0.654338\n",
       "9   0.385714  0.952303  0.894040  0.566589\n",
       "1   0.014286  0.511434  1.000000  0.497148\n",
       "10  0.614286  0.983339  0.888462  0.369053\n",
       "11  0.900000  0.997877  0.751092  0.097877\n",
       "12  0.985714  1.000000  0.581395  0.014286\n",
       "0   0.000000  0.000000  2.000000  0.000000\n",
       "13  1.000000  1.000000  0.000000  0.000000"
      ]
     },
     "execution_count": 36,
     "metadata": {},
     "output_type": "execute_result"
    }
   ],
   "source": [
    "table.sort_values('diff',ascending=False)"
   ]
  },
  {
   "cell_type": "code",
   "execution_count": 37,
   "id": "e4dce876",
   "metadata": {},
   "outputs": [],
   "source": [
    "thresh=[0 if X<0.974 else 1 for X in pred]"
   ]
  },
  {
   "cell_type": "code",
   "execution_count": 38,
   "id": "35214cd4",
   "metadata": {},
   "outputs": [
    {
     "name": "stdout",
     "output_type": "stream",
     "text": [
      "              precision    recall  f1-score   support\n",
      "\n",
      "           0       0.07      0.83      0.13        70\n",
      "           1       1.00      0.88      0.93      6122\n",
      "\n",
      "    accuracy                           0.88      6192\n",
      "   macro avg       0.53      0.85      0.53      6192\n",
      "weighted avg       0.99      0.88      0.92      6192\n",
      "\n"
     ]
    }
   ],
   "source": [
    "print(classification_report(ytest,thresh))"
   ]
  },
  {
   "cell_type": "code",
   "execution_count": 39,
   "id": "2c233e2c",
   "metadata": {},
   "outputs": [
    {
     "name": "stdout",
     "output_type": "stream",
     "text": [
      "Collecting package metadata (current_repodata.json): done\n",
      "Solving environment: failed with initial frozen solve. Retrying with flexible solve.\n",
      "Collecting package metadata (repodata.json): done\n",
      "Solving environment: failed with initial frozen solve. Retrying with flexible solve.\n",
      "\n",
      "PackagesNotFoundError: The following packages are not available from current channels:\n",
      "\n",
      "  - imblearn\n",
      "\n",
      "Current channels:\n",
      "\n",
      "  - https://repo.anaconda.com/pkgs/main/osx-64\n",
      "  - https://repo.anaconda.com/pkgs/main/noarch\n",
      "  - https://repo.anaconda.com/pkgs/r/osx-64\n",
      "  - https://repo.anaconda.com/pkgs/r/noarch\n",
      "\n",
      "To search for alternate channels that may provide the conda package you're\n",
      "looking for, navigate to\n",
      "\n",
      "    https://anaconda.org\n",
      "\n",
      "and use the search bar at the top of the page.\n",
      "\n",
      "\n",
      "\n",
      "Note: you may need to restart the kernel to use updated packages.\n"
     ]
    }
   ],
   "source": [
    "conda install imblearn"
   ]
  },
  {
   "cell_type": "code",
   "execution_count": 40,
   "id": "c8d97a3a",
   "metadata": {},
   "outputs": [
    {
     "name": "stdout",
     "output_type": "stream",
     "text": [
      "Requirement already satisfied: imbalanced-learn in /Users/abhi/opt/anaconda3/lib/python3.9/site-packages (0.9.1)\n",
      "Requirement already satisfied: scikit-learn>=1.1.0 in /Users/abhi/opt/anaconda3/lib/python3.9/site-packages (from imbalanced-learn) (1.1.2)\n",
      "Requirement already satisfied: joblib>=1.0.0 in /Users/abhi/opt/anaconda3/lib/python3.9/site-packages (from imbalanced-learn) (1.1.0)\n",
      "Requirement already satisfied: numpy>=1.17.3 in /Users/abhi/opt/anaconda3/lib/python3.9/site-packages (from imbalanced-learn) (1.20.3)\n",
      "Requirement already satisfied: scipy>=1.3.2 in /Users/abhi/opt/anaconda3/lib/python3.9/site-packages (from imbalanced-learn) (1.7.1)\n",
      "Requirement already satisfied: threadpoolctl>=2.0.0 in /Users/abhi/opt/anaconda3/lib/python3.9/site-packages (from imbalanced-learn) (2.2.0)\n",
      "Note: you may need to restart the kernel to use updated packages.\n"
     ]
    }
   ],
   "source": [
    "pip install -U imbalanced-learn"
   ]
  },
  {
   "cell_type": "code",
   "execution_count": 41,
   "id": "ed68a10c",
   "metadata": {},
   "outputs": [
    {
     "ename": "SyntaxError",
     "evalue": "invalid syntax (447384655.py, line 1)",
     "output_type": "error",
     "traceback": [
      "\u001b[0;36m  File \u001b[0;32m\"/var/folders/3_/v3zxr5qs2132z44ltsvfwrb80000gn/T/ipykernel_1570/447384655.py\"\u001b[0;36m, line \u001b[0;32m1\u001b[0m\n\u001b[0;31m    import SMOTE module from imblearn library\u001b[0m\n\u001b[0m                 ^\u001b[0m\n\u001b[0;31mSyntaxError\u001b[0m\u001b[0;31m:\u001b[0m invalid syntax\n"
     ]
    }
   ],
   "source": [
    "import SMOTE module from imblearn library"
   ]
  },
  {
   "cell_type": "code",
   "execution_count": 42,
   "id": "09cd15ab",
   "metadata": {},
   "outputs": [],
   "source": [
    "from imblearn.over_sampling import SMOTE"
   ]
  },
  {
   "cell_type": "code",
   "execution_count": 46,
   "id": "6b6ad458",
   "metadata": {},
   "outputs": [],
   "source": [
    "sm=SMOTE(random_state=2)\n",
    "xtrain_res,ytrain_res=sm.fit_resample(xtrain,ytrain)"
   ]
  },
  {
   "cell_type": "code",
   "execution_count": 47,
   "id": "efb41d97",
   "metadata": {},
   "outputs": [
    {
     "data": {
      "text/plain": [
       "((28436, 21), (14448, 21))"
      ]
     },
     "execution_count": 47,
     "metadata": {},
     "output_type": "execute_result"
    }
   ],
   "source": [
    "xtrain_res.shape,xtrain.shape"
   ]
  },
  {
   "cell_type": "code",
   "execution_count": 48,
   "id": "b8d229c5",
   "metadata": {},
   "outputs": [
    {
     "name": "stdout",
     "output_type": "stream",
     "text": [
      "Optimization terminated successfully.\n",
      "         Current function value: 0.171844\n",
      "         Iterations 12\n"
     ]
    }
   ],
   "source": [
    "model3=Logit(ytrain_res,xtrain_res).fit()"
   ]
  },
  {
   "cell_type": "code",
   "execution_count": 49,
   "id": "d0749b7f",
   "metadata": {},
   "outputs": [
    {
     "data": {
      "text/html": [
       "<table class=\"simpletable\">\n",
       "<caption>Logit Regression Results</caption>\n",
       "<tr>\n",
       "  <th>Dep. Variable:</th>     <td>credit.rating</td>  <th>  No. Observations:  </th>  <td> 28436</td> \n",
       "</tr>\n",
       "<tr>\n",
       "  <th>Model:</th>                 <td>Logit</td>      <th>  Df Residuals:      </th>  <td> 28415</td> \n",
       "</tr>\n",
       "<tr>\n",
       "  <th>Method:</th>                 <td>MLE</td>       <th>  Df Model:          </th>  <td>    20</td> \n",
       "</tr>\n",
       "<tr>\n",
       "  <th>Date:</th>            <td>Fri, 12 Aug 2022</td> <th>  Pseudo R-squ.:     </th>  <td>0.7521</td> \n",
       "</tr>\n",
       "<tr>\n",
       "  <th>Time:</th>                <td>14:13:47</td>     <th>  Log-Likelihood:    </th> <td> -4886.5</td>\n",
       "</tr>\n",
       "<tr>\n",
       "  <th>converged:</th>             <td>True</td>       <th>  LL-Null:           </th> <td> -19710.</td>\n",
       "</tr>\n",
       "<tr>\n",
       "  <th>Covariance Type:</th>     <td>nonrobust</td>    <th>  LLR p-value:       </th>  <td> 0.000</td> \n",
       "</tr>\n",
       "</table>\n",
       "<table class=\"simpletable\">\n",
       "<tr>\n",
       "                 <td></td>                   <th>coef</th>     <th>std err</th>      <th>z</th>      <th>P>|z|</th>  <th>[0.025</th>    <th>0.975]</th>  \n",
       "</tr>\n",
       "<tr>\n",
       "  <th>const</th>                          <td>  -24.1185</td> <td>    0.685</td> <td>  -35.235</td> <td> 0.000</td> <td>  -25.460</td> <td>  -22.777</td>\n",
       "</tr>\n",
       "<tr>\n",
       "  <th>account.balance</th>                <td>    1.2695</td> <td>    0.041</td> <td>   31.159</td> <td> 0.000</td> <td>    1.190</td> <td>    1.349</td>\n",
       "</tr>\n",
       "<tr>\n",
       "  <th>credit.duration.months</th>         <td>    0.0082</td> <td>    0.002</td> <td>    3.966</td> <td> 0.000</td> <td>    0.004</td> <td>    0.012</td>\n",
       "</tr>\n",
       "<tr>\n",
       "  <th>previous.credit.payment.status</th> <td>    0.2561</td> <td>    0.039</td> <td>    6.582</td> <td> 0.000</td> <td>    0.180</td> <td>    0.332</td>\n",
       "</tr>\n",
       "<tr>\n",
       "  <th>credit.purpose</th>                 <td>   -0.4663</td> <td>    0.028</td> <td>  -16.868</td> <td> 0.000</td> <td>   -0.520</td> <td>   -0.412</td>\n",
       "</tr>\n",
       "<tr>\n",
       "  <th>credit.amount</th>                  <td>    0.0001</td> <td> 7.55e-06</td> <td>   16.317</td> <td> 0.000</td> <td>    0.000</td> <td>    0.000</td>\n",
       "</tr>\n",
       "<tr>\n",
       "  <th>savings</th>                        <td>    1.1011</td> <td>    0.029</td> <td>   38.104</td> <td> 0.000</td> <td>    1.044</td> <td>    1.158</td>\n",
       "</tr>\n",
       "<tr>\n",
       "  <th>employment.duration</th>            <td>    1.0316</td> <td>    0.039</td> <td>   26.522</td> <td> 0.000</td> <td>    0.955</td> <td>    1.108</td>\n",
       "</tr>\n",
       "<tr>\n",
       "  <th>installment.rate</th>               <td>   -0.1560</td> <td>    0.032</td> <td>   -4.921</td> <td> 0.000</td> <td>   -0.218</td> <td>   -0.094</td>\n",
       "</tr>\n",
       "<tr>\n",
       "  <th>marital.status</th>                 <td>    0.5036</td> <td>    0.035</td> <td>   14.430</td> <td> 0.000</td> <td>    0.435</td> <td>    0.572</td>\n",
       "</tr>\n",
       "<tr>\n",
       "  <th>guarantor</th>                      <td>    2.4329</td> <td>    0.144</td> <td>   16.884</td> <td> 0.000</td> <td>    2.150</td> <td>    2.715</td>\n",
       "</tr>\n",
       "<tr>\n",
       "  <th>residence.duration</th>             <td>   -0.4314</td> <td>    0.037</td> <td>  -11.510</td> <td> 0.000</td> <td>   -0.505</td> <td>   -0.358</td>\n",
       "</tr>\n",
       "<tr>\n",
       "  <th>current.assets</th>                 <td>   -0.2714</td> <td>    0.039</td> <td>   -7.016</td> <td> 0.000</td> <td>   -0.347</td> <td>   -0.196</td>\n",
       "</tr>\n",
       "<tr>\n",
       "  <th>age</th>                            <td>    0.0416</td> <td>    0.002</td> <td>   19.701</td> <td> 0.000</td> <td>    0.037</td> <td>    0.046</td>\n",
       "</tr>\n",
       "<tr>\n",
       "  <th>other.credits</th>                  <td>    0.6345</td> <td>    0.054</td> <td>   11.707</td> <td> 0.000</td> <td>    0.528</td> <td>    0.741</td>\n",
       "</tr>\n",
       "<tr>\n",
       "  <th>apartment.type</th>                 <td>    0.4919</td> <td>    0.042</td> <td>   11.851</td> <td> 0.000</td> <td>    0.411</td> <td>    0.573</td>\n",
       "</tr>\n",
       "<tr>\n",
       "  <th>bank.credits</th>                   <td>    1.3870</td> <td>    0.059</td> <td>   23.319</td> <td> 0.000</td> <td>    1.270</td> <td>    1.504</td>\n",
       "</tr>\n",
       "<tr>\n",
       "  <th>occupation</th>                     <td>   -0.9089</td> <td>    0.047</td> <td>  -19.390</td> <td> 0.000</td> <td>   -1.001</td> <td>   -0.817</td>\n",
       "</tr>\n",
       "<tr>\n",
       "  <th>dependents</th>                     <td>    2.9392</td> <td>    0.086</td> <td>   34.228</td> <td> 0.000</td> <td>    2.771</td> <td>    3.108</td>\n",
       "</tr>\n",
       "<tr>\n",
       "  <th>telephone</th>                      <td>    0.9827</td> <td>    0.060</td> <td>   16.471</td> <td> 0.000</td> <td>    0.866</td> <td>    1.100</td>\n",
       "</tr>\n",
       "<tr>\n",
       "  <th>foreign.worker</th>                 <td>    7.6546</td> <td>    0.585</td> <td>   13.086</td> <td> 0.000</td> <td>    6.508</td> <td>    8.801</td>\n",
       "</tr>\n",
       "</table><br/><br/>Possibly complete quasi-separation: A fraction 0.18 of observations can be<br/>perfectly predicted. This might indicate that there is complete<br/>quasi-separation. In this case some parameters will not be identified."
      ],
      "text/plain": [
       "<class 'statsmodels.iolib.summary.Summary'>\n",
       "\"\"\"\n",
       "                           Logit Regression Results                           \n",
       "==============================================================================\n",
       "Dep. Variable:          credit.rating   No. Observations:                28436\n",
       "Model:                          Logit   Df Residuals:                    28415\n",
       "Method:                           MLE   Df Model:                           20\n",
       "Date:                Fri, 12 Aug 2022   Pseudo R-squ.:                  0.7521\n",
       "Time:                        14:13:47   Log-Likelihood:                -4886.5\n",
       "converged:                       True   LL-Null:                       -19710.\n",
       "Covariance Type:            nonrobust   LLR p-value:                     0.000\n",
       "==================================================================================================\n",
       "                                     coef    std err          z      P>|z|      [0.025      0.975]\n",
       "--------------------------------------------------------------------------------------------------\n",
       "const                            -24.1185      0.685    -35.235      0.000     -25.460     -22.777\n",
       "account.balance                    1.2695      0.041     31.159      0.000       1.190       1.349\n",
       "credit.duration.months             0.0082      0.002      3.966      0.000       0.004       0.012\n",
       "previous.credit.payment.status     0.2561      0.039      6.582      0.000       0.180       0.332\n",
       "credit.purpose                    -0.4663      0.028    -16.868      0.000      -0.520      -0.412\n",
       "credit.amount                      0.0001   7.55e-06     16.317      0.000       0.000       0.000\n",
       "savings                            1.1011      0.029     38.104      0.000       1.044       1.158\n",
       "employment.duration                1.0316      0.039     26.522      0.000       0.955       1.108\n",
       "installment.rate                  -0.1560      0.032     -4.921      0.000      -0.218      -0.094\n",
       "marital.status                     0.5036      0.035     14.430      0.000       0.435       0.572\n",
       "guarantor                          2.4329      0.144     16.884      0.000       2.150       2.715\n",
       "residence.duration                -0.4314      0.037    -11.510      0.000      -0.505      -0.358\n",
       "current.assets                    -0.2714      0.039     -7.016      0.000      -0.347      -0.196\n",
       "age                                0.0416      0.002     19.701      0.000       0.037       0.046\n",
       "other.credits                      0.6345      0.054     11.707      0.000       0.528       0.741\n",
       "apartment.type                     0.4919      0.042     11.851      0.000       0.411       0.573\n",
       "bank.credits                       1.3870      0.059     23.319      0.000       1.270       1.504\n",
       "occupation                        -0.9089      0.047    -19.390      0.000      -1.001      -0.817\n",
       "dependents                         2.9392      0.086     34.228      0.000       2.771       3.108\n",
       "telephone                          0.9827      0.060     16.471      0.000       0.866       1.100\n",
       "foreign.worker                     7.6546      0.585     13.086      0.000       6.508       8.801\n",
       "==================================================================================================\n",
       "\n",
       "Possibly complete quasi-separation: A fraction 0.18 of observations can be\n",
       "perfectly predicted. This might indicate that there is complete\n",
       "quasi-separation. In this case some parameters will not be identified.\n",
       "\"\"\""
      ]
     },
     "execution_count": 49,
     "metadata": {},
     "output_type": "execute_result"
    }
   ],
   "source": [
    "model3.summary()"
   ]
  },
  {
   "cell_type": "code",
   "execution_count": 54,
   "id": "6dd44a6d",
   "metadata": {},
   "outputs": [],
   "source": [
    "pred=model3.predict(xtest)"
   ]
  },
  {
   "cell_type": "code",
   "execution_count": 55,
   "id": "5641c659",
   "metadata": {},
   "outputs": [],
   "source": [
    "thres=[0 if X<0.5 else 1 for X in pred]"
   ]
  },
  {
   "cell_type": "code",
   "execution_count": 56,
   "id": "c96f585a",
   "metadata": {},
   "outputs": [],
   "source": [
    "cr=classification_report(ytest,thres)"
   ]
  },
  {
   "cell_type": "code",
   "execution_count": 57,
   "id": "cf77652b",
   "metadata": {},
   "outputs": [
    {
     "name": "stdout",
     "output_type": "stream",
     "text": [
      "              precision    recall  f1-score   support\n",
      "\n",
      "           0       0.11      0.83      0.19        70\n",
      "           1       1.00      0.92      0.96      6122\n",
      "\n",
      "    accuracy                           0.92      6192\n",
      "   macro avg       0.55      0.87      0.57      6192\n",
      "weighted avg       0.99      0.92      0.95      6192\n",
      "\n"
     ]
    }
   ],
   "source": [
    "print(cr)"
   ]
  },
  {
   "cell_type": "code",
   "execution_count": 58,
   "id": "f2b4bf99",
   "metadata": {},
   "outputs": [],
   "source": [
    "dt=DecisionTreeClassifier(max_depth=5)\n",
    "model4=dt.fit(xtrain_res,ytrain_res)"
   ]
  },
  {
   "cell_type": "code",
   "execution_count": 60,
   "id": "e4723305",
   "metadata": {},
   "outputs": [],
   "source": [
    "pred=model4.predict_proba(xtest)[:,1]"
   ]
  },
  {
   "cell_type": "code",
   "execution_count": 61,
   "id": "e1d19ff4",
   "metadata": {},
   "outputs": [],
   "source": [
    "fpr,tpr,thres=roc_curve(ytest,pred)"
   ]
  },
  {
   "cell_type": "code",
   "execution_count": 63,
   "id": "d97ac400",
   "metadata": {},
   "outputs": [],
   "source": [
    "table=pd.DataFrame({'FPR':fpr,'TPR':tpr,'thresh':thres,'diff':np.abs(fpr-tpr)})"
   ]
  },
  {
   "cell_type": "code",
   "execution_count": 64,
   "id": "779ced67",
   "metadata": {},
   "outputs": [
    {
     "data": {
      "text/html": [
       "<div>\n",
       "<style scoped>\n",
       "    .dataframe tbody tr th:only-of-type {\n",
       "        vertical-align: middle;\n",
       "    }\n",
       "\n",
       "    .dataframe tbody tr th {\n",
       "        vertical-align: top;\n",
       "    }\n",
       "\n",
       "    .dataframe thead th {\n",
       "        text-align: right;\n",
       "    }\n",
       "</style>\n",
       "<table border=\"1\" class=\"dataframe\">\n",
       "  <thead>\n",
       "    <tr style=\"text-align: right;\">\n",
       "      <th></th>\n",
       "      <th>FPR</th>\n",
       "      <th>TPR</th>\n",
       "      <th>thresh</th>\n",
       "      <th>diff</th>\n",
       "    </tr>\n",
       "  </thead>\n",
       "  <tbody>\n",
       "    <tr>\n",
       "      <th>10</th>\n",
       "      <td>0.114286</td>\n",
       "      <td>0.841392</td>\n",
       "      <td>0.774275</td>\n",
       "      <td>0.727106</td>\n",
       "    </tr>\n",
       "    <tr>\n",
       "      <th>7</th>\n",
       "      <td>0.042857</td>\n",
       "      <td>0.761679</td>\n",
       "      <td>0.947368</td>\n",
       "      <td>0.718822</td>\n",
       "    </tr>\n",
       "    <tr>\n",
       "      <th>6</th>\n",
       "      <td>0.042857</td>\n",
       "      <td>0.761026</td>\n",
       "      <td>0.954545</td>\n",
       "      <td>0.718169</td>\n",
       "    </tr>\n",
       "    <tr>\n",
       "      <th>5</th>\n",
       "      <td>0.042857</td>\n",
       "      <td>0.760209</td>\n",
       "      <td>0.956044</td>\n",
       "      <td>0.717352</td>\n",
       "    </tr>\n",
       "    <tr>\n",
       "      <th>9</th>\n",
       "      <td>0.085714</td>\n",
       "      <td>0.800882</td>\n",
       "      <td>0.913621</td>\n",
       "      <td>0.715168</td>\n",
       "    </tr>\n",
       "    <tr>\n",
       "      <th>8</th>\n",
       "      <td>0.071429</td>\n",
       "      <td>0.776054</td>\n",
       "      <td>0.922727</td>\n",
       "      <td>0.704625</td>\n",
       "    </tr>\n",
       "    <tr>\n",
       "      <th>4</th>\n",
       "      <td>0.042857</td>\n",
       "      <td>0.745835</td>\n",
       "      <td>0.976378</td>\n",
       "      <td>0.702978</td>\n",
       "    </tr>\n",
       "    <tr>\n",
       "      <th>3</th>\n",
       "      <td>0.042857</td>\n",
       "      <td>0.737831</td>\n",
       "      <td>0.996205</td>\n",
       "      <td>0.694974</td>\n",
       "    </tr>\n",
       "    <tr>\n",
       "      <th>2</th>\n",
       "      <td>0.028571</td>\n",
       "      <td>0.701405</td>\n",
       "      <td>0.996396</td>\n",
       "      <td>0.672833</td>\n",
       "    </tr>\n",
       "    <tr>\n",
       "      <th>11</th>\n",
       "      <td>0.214286</td>\n",
       "      <td>0.867037</td>\n",
       "      <td>0.772640</td>\n",
       "      <td>0.652751</td>\n",
       "    </tr>\n",
       "    <tr>\n",
       "      <th>1</th>\n",
       "      <td>0.014286</td>\n",
       "      <td>0.662365</td>\n",
       "      <td>1.000000</td>\n",
       "      <td>0.648080</td>\n",
       "    </tr>\n",
       "    <tr>\n",
       "      <th>12</th>\n",
       "      <td>0.285714</td>\n",
       "      <td>0.886312</td>\n",
       "      <td>0.468619</td>\n",
       "      <td>0.600597</td>\n",
       "    </tr>\n",
       "    <tr>\n",
       "      <th>13</th>\n",
       "      <td>0.328571</td>\n",
       "      <td>0.903626</td>\n",
       "      <td>0.402707</td>\n",
       "      <td>0.575055</td>\n",
       "    </tr>\n",
       "    <tr>\n",
       "      <th>14</th>\n",
       "      <td>0.428571</td>\n",
       "      <td>0.919144</td>\n",
       "      <td>0.355183</td>\n",
       "      <td>0.490573</td>\n",
       "    </tr>\n",
       "    <tr>\n",
       "      <th>0</th>\n",
       "      <td>0.000000</td>\n",
       "      <td>0.000000</td>\n",
       "      <td>2.000000</td>\n",
       "      <td>0.000000</td>\n",
       "    </tr>\n",
       "    <tr>\n",
       "      <th>15</th>\n",
       "      <td>1.000000</td>\n",
       "      <td>1.000000</td>\n",
       "      <td>0.090071</td>\n",
       "      <td>0.000000</td>\n",
       "    </tr>\n",
       "  </tbody>\n",
       "</table>\n",
       "</div>"
      ],
      "text/plain": [
       "         FPR       TPR    thresh      diff\n",
       "10  0.114286  0.841392  0.774275  0.727106\n",
       "7   0.042857  0.761679  0.947368  0.718822\n",
       "6   0.042857  0.761026  0.954545  0.718169\n",
       "5   0.042857  0.760209  0.956044  0.717352\n",
       "9   0.085714  0.800882  0.913621  0.715168\n",
       "8   0.071429  0.776054  0.922727  0.704625\n",
       "4   0.042857  0.745835  0.976378  0.702978\n",
       "3   0.042857  0.737831  0.996205  0.694974\n",
       "2   0.028571  0.701405  0.996396  0.672833\n",
       "11  0.214286  0.867037  0.772640  0.652751\n",
       "1   0.014286  0.662365  1.000000  0.648080\n",
       "12  0.285714  0.886312  0.468619  0.600597\n",
       "13  0.328571  0.903626  0.402707  0.575055\n",
       "14  0.428571  0.919144  0.355183  0.490573\n",
       "0   0.000000  0.000000  2.000000  0.000000\n",
       "15  1.000000  1.000000  0.090071  0.000000"
      ]
     },
     "execution_count": 64,
     "metadata": {},
     "output_type": "execute_result"
    }
   ],
   "source": [
    "table.sort_values('diff',ascending=False)"
   ]
  },
  {
   "cell_type": "code",
   "execution_count": 65,
   "id": "334e53c7",
   "metadata": {},
   "outputs": [],
   "source": [
    "thresh=[0 if X<0.77 else 1 for X in pred]"
   ]
  },
  {
   "cell_type": "code",
   "execution_count": 66,
   "id": "36033be3",
   "metadata": {},
   "outputs": [
    {
     "name": "stdout",
     "output_type": "stream",
     "text": [
      "              precision    recall  f1-score   support\n",
      "\n",
      "           0       0.06      0.79      0.12        70\n",
      "           1       1.00      0.87      0.93      6122\n",
      "\n",
      "    accuracy                           0.87      6192\n",
      "   macro avg       0.53      0.83      0.52      6192\n",
      "weighted avg       0.99      0.87      0.92      6192\n",
      "\n"
     ]
    }
   ],
   "source": [
    "print(classification_report(ytest,thresh))"
   ]
  },
  {
   "cell_type": "code",
   "execution_count": 68,
   "id": "583b9fda",
   "metadata": {},
   "outputs": [],
   "source": [
    "from sklearn.ensemble import RandomForestClassifier"
   ]
  },
  {
   "cell_type": "code",
   "execution_count": null,
   "id": "9b8356a3",
   "metadata": {},
   "outputs": [],
   "source": []
  },
  {
   "cell_type": "code",
   "execution_count": 76,
   "id": "39a3a724",
   "metadata": {},
   "outputs": [],
   "source": [
    "from time import time"
   ]
  },
  {
   "cell_type": "code",
   "execution_count": 107,
   "id": "221b37b2",
   "metadata": {},
   "outputs": [],
   "source": [
    "start=time()"
   ]
  },
  {
   "cell_type": "code",
   "execution_count": 108,
   "id": "824ea105",
   "metadata": {},
   "outputs": [],
   "source": [
    "rc=RandomForestClassifier(n_estimators=400,random_state=494)\n"
   ]
  },
  {
   "cell_type": "code",
   "execution_count": 109,
   "id": "bd338f80",
   "metadata": {},
   "outputs": [
    {
     "name": "stderr",
     "output_type": "stream",
     "text": [
      "/var/folders/3_/v3zxr5qs2132z44ltsvfwrb80000gn/T/ipykernel_1570/97396728.py:1: DataConversionWarning: A column-vector y was passed when a 1d array was expected. Please change the shape of y to (n_samples,), for example using ravel().\n",
      "  model5=rc.fit(xtrain_res,ytrain_res)\n"
     ]
    }
   ],
   "source": [
    "model5=rc.fit(xtrain_res,ytrain_res)"
   ]
  },
  {
   "cell_type": "code",
   "execution_count": 110,
   "id": "5daa4790",
   "metadata": {},
   "outputs": [
    {
     "data": {
      "text/plain": [
       "0.11337023576100667"
      ]
     },
     "execution_count": 110,
     "metadata": {},
     "output_type": "execute_result"
    }
   ],
   "source": [
    "end=time()\n",
    "(end-start)/60"
   ]
  },
  {
   "cell_type": "code",
   "execution_count": 111,
   "id": "1159a804",
   "metadata": {},
   "outputs": [],
   "source": [
    "pred=model5.predict(xtest)"
   ]
  },
  {
   "cell_type": "code",
   "execution_count": 112,
   "id": "7e372454",
   "metadata": {},
   "outputs": [],
   "source": [
    "cr=classification_report(ytest,pred)"
   ]
  },
  {
   "cell_type": "code",
   "execution_count": 113,
   "id": "e4745275",
   "metadata": {},
   "outputs": [
    {
     "name": "stdout",
     "output_type": "stream",
     "text": [
      "              precision    recall  f1-score   support\n",
      "\n",
      "           0       0.62      0.53      0.57        70\n",
      "           1       0.99      1.00      1.00      6122\n",
      "\n",
      "    accuracy                           0.99      6192\n",
      "   macro avg       0.81      0.76      0.78      6192\n",
      "weighted avg       0.99      0.99      0.99      6192\n",
      "\n"
     ]
    }
   ],
   "source": [
    "print(cr)"
   ]
  },
  {
   "cell_type": "code",
   "execution_count": 114,
   "id": "75ab55d8",
   "metadata": {},
   "outputs": [],
   "source": [
    "import random "
   ]
  },
  {
   "cell_type": "code",
   "execution_count": 116,
   "id": "23a8c2a4",
   "metadata": {},
   "outputs": [],
   "source": [
    "df1=df.loc[df['credit.rating']==1,]"
   ]
  },
  {
   "cell_type": "code",
   "execution_count": 118,
   "id": "4687b980",
   "metadata": {},
   "outputs": [],
   "source": [
    "df2=df.loc[df['credit.rating']==0,]"
   ]
  },
  {
   "cell_type": "code",
   "execution_count": 119,
   "id": "b483657c",
   "metadata": {},
   "outputs": [
    {
     "data": {
      "text/plain": [
       "(300, 21)"
      ]
     },
     "execution_count": 119,
     "metadata": {},
     "output_type": "execute_result"
    }
   ],
   "source": [
    "df2.shape"
   ]
  },
  {
   "cell_type": "code",
   "execution_count": 123,
   "id": "30ddb9a6",
   "metadata": {},
   "outputs": [],
   "source": [
    "a=random.sample(range(20340),k=300)"
   ]
  },
  {
   "cell_type": "code",
   "execution_count": 125,
   "id": "903f9fc1",
   "metadata": {},
   "outputs": [],
   "source": [
    "df3=df1.iloc[a,]"
   ]
  },
  {
   "cell_type": "code",
   "execution_count": 128,
   "id": "38c263ef",
   "metadata": {},
   "outputs": [],
   "source": [
    "final=pd.concat([df3,df2])"
   ]
  },
  {
   "cell_type": "code",
   "execution_count": 129,
   "id": "40900086",
   "metadata": {},
   "outputs": [
    {
     "data": {
      "text/plain": [
       "(600, 21)"
      ]
     },
     "execution_count": 129,
     "metadata": {},
     "output_type": "execute_result"
    }
   ],
   "source": [
    "final.shape"
   ]
  },
  {
   "cell_type": "code",
   "execution_count": null,
   "id": "edb5f3bb",
   "metadata": {},
   "outputs": [],
   "source": []
  }
 ],
 "metadata": {
  "kernelspec": {
   "display_name": "Python 3 (ipykernel)",
   "language": "python",
   "name": "python3"
  },
  "language_info": {
   "codemirror_mode": {
    "name": "ipython",
    "version": 3
   },
   "file_extension": ".py",
   "mimetype": "text/x-python",
   "name": "python",
   "nbconvert_exporter": "python",
   "pygments_lexer": "ipython3",
   "version": "3.9.7"
  }
 },
 "nbformat": 4,
 "nbformat_minor": 5
}
