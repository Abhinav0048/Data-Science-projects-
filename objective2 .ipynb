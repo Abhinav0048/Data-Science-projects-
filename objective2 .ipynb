{
 "cells": [
  {
   "cell_type": "code",
   "execution_count": 1,
   "id": "8a1b25d8",
   "metadata": {},
   "outputs": [],
   "source": [
    "import numpy as np\n",
    "import pandas as pd \n",
    "\n",
    "\n",
    "df=pd.read_csv('~/Downloads/NLP.csv')"
   ]
  },
  {
   "cell_type": "code",
   "execution_count": 2,
   "id": "847205f6",
   "metadata": {},
   "outputs": [],
   "source": [
    "pd.options.display.max_colwidth=200"
   ]
  },
  {
   "cell_type": "code",
   "execution_count": 3,
   "id": "e7203c68",
   "metadata": {},
   "outputs": [],
   "source": [
    "df.columns=['Time_Date','author','text']"
   ]
  },
  {
   "cell_type": "code",
   "execution_count": 4,
   "id": "0654ae2e",
   "metadata": {},
   "outputs": [
    {
     "data": {
      "text/html": [
       "<div>\n",
       "<style scoped>\n",
       "    .dataframe tbody tr th:only-of-type {\n",
       "        vertical-align: middle;\n",
       "    }\n",
       "\n",
       "    .dataframe tbody tr th {\n",
       "        vertical-align: top;\n",
       "    }\n",
       "\n",
       "    .dataframe thead th {\n",
       "        text-align: right;\n",
       "    }\n",
       "</style>\n",
       "<table border=\"1\" class=\"dataframe\">\n",
       "  <thead>\n",
       "    <tr style=\"text-align: right;\">\n",
       "      <th></th>\n",
       "      <th>Time_Date</th>\n",
       "      <th>author</th>\n",
       "      <th>text</th>\n",
       "    </tr>\n",
       "  </thead>\n",
       "  <tbody>\n",
       "    <tr>\n",
       "      <th>0</th>\n",
       "      <td>2013-07-18 09:39:46.071961602</td>\n",
       "      <td>Hematopoiesis News</td>\n",
       "      <td>⚕️ Scientists conducted a Phase II study of acalabrutinib in patients with relapsed/refractory #CLL who were ibrutinib-intolerant, and found an overall response rate of 73%. \\nhttps://t.co/eJ6m4Qp...</td>\n",
       "    </tr>\n",
       "    <tr>\n",
       "      <th>1</th>\n",
       "      <td>2013-07-17 03:40:32.173842437</td>\n",
       "      <td>Michael Wang, MD</td>\n",
       "      <td>This phase 2 Acalabrutinib-Venetoclax (AV) trial that is still in recruitment phase will study how well venetoclax and acalabrutinib works in MCL patients who either relapsed or non-respondent to ...</td>\n",
       "    </tr>\n",
       "    <tr>\n",
       "      <th>2</th>\n",
       "      <td>2013-07-15 15:41:16.553048065</td>\n",
       "      <td>1stOncology</td>\n",
       "      <td>#NICE backs #AstraZenecas #Calquence for #CLL https://t.co/Vb5lPDoGrA</td>\n",
       "    </tr>\n",
       "    <tr>\n",
       "      <th>3</th>\n",
       "      <td>2013-07-12 19:19:42.367813635</td>\n",
       "      <td>Toby Eyre</td>\n",
       "      <td>#acalabrutinib is a valuable option in pts intolerant to #ibrutinib. Further valuable data to help decision making in #CLL \\n\\nEarly View | Haematologica https://t.co/Z2kCLZaX0D</td>\n",
       "    </tr>\n",
       "    <tr>\n",
       "      <th>4</th>\n",
       "      <td>2013-07-04 12:40:34.334232586</td>\n",
       "      <td>Lymphoma Hub</td>\n",
       "      <td>NICE has recommended the use of acalabrutinib for patients with treatment-naïve chronic lymphocytic leukemia. Find out more here https://t.co/6OuJptLCIN #lymsm #lymphoma</td>\n",
       "    </tr>\n",
       "  </tbody>\n",
       "</table>\n",
       "</div>"
      ],
      "text/plain": [
       "                       Time_Date              author  \\\n",
       "0  2013-07-18 09:39:46.071961602  Hematopoiesis News   \n",
       "1  2013-07-17 03:40:32.173842437    Michael Wang, MD   \n",
       "2  2013-07-15 15:41:16.553048065         1stOncology   \n",
       "3  2013-07-12 19:19:42.367813635           Toby Eyre   \n",
       "4  2013-07-04 12:40:34.334232586        Lymphoma Hub   \n",
       "\n",
       "                                                                                                                                                                                                      text  \n",
       "0  ⚕️ Scientists conducted a Phase II study of acalabrutinib in patients with relapsed/refractory #CLL who were ibrutinib-intolerant, and found an overall response rate of 73%. \\nhttps://t.co/eJ6m4Qp...  \n",
       "1  This phase 2 Acalabrutinib-Venetoclax (AV) trial that is still in recruitment phase will study how well venetoclax and acalabrutinib works in MCL patients who either relapsed or non-respondent to ...  \n",
       "2                                                                                                                                    #NICE backs #AstraZenecas #Calquence for #CLL https://t.co/Vb5lPDoGrA  \n",
       "3                        #acalabrutinib is a valuable option in pts intolerant to #ibrutinib. Further valuable data to help decision making in #CLL \\n\\nEarly View | Haematologica https://t.co/Z2kCLZaX0D  \n",
       "4                                NICE has recommended the use of acalabrutinib for patients with treatment-naïve chronic lymphocytic leukemia. Find out more here https://t.co/6OuJptLCIN #lymsm #lymphoma  "
      ]
     },
     "execution_count": 4,
     "metadata": {},
     "output_type": "execute_result"
    }
   ],
   "source": [
    "df.head()"
   ]
  },
  {
   "cell_type": "code",
   "execution_count": null,
   "id": "b423acf8",
   "metadata": {},
   "outputs": [],
   "source": []
  },
  {
   "cell_type": "markdown",
   "id": "5c3c924b",
   "metadata": {},
   "source": [
    "# Cleaning The Text "
   ]
  },
  {
   "cell_type": "code",
   "execution_count": 5,
   "id": "0a4cce73",
   "metadata": {},
   "outputs": [
    {
     "name": "stderr",
     "output_type": "stream",
     "text": [
      "[nltk_data] Downloading package stopwords to\n",
      "[nltk_data]     C:\\Users\\jakha\\AppData\\Roaming\\nltk_data...\n",
      "[nltk_data]   Unzipping corpora\\stopwords.zip.\n"
     ]
    }
   ],
   "source": [
    "import re\n",
    "import nltk\n",
    "nltk.download('stopwords')\n",
    "from nltk.corpus import stopwords"
   ]
  },
  {
   "cell_type": "code",
   "execution_count": 6,
   "id": "fd310ef4",
   "metadata": {},
   "outputs": [],
   "source": [
    "# Converting upper case to lower case "
   ]
  },
  {
   "cell_type": "code",
   "execution_count": 7,
   "id": "c770c7e1",
   "metadata": {},
   "outputs": [],
   "source": [
    "def to_lower(word): \n",
    "     result = word.lower() \n",
    "     return result"
   ]
  },
  {
   "cell_type": "code",
   "execution_count": 8,
   "id": "e126fffa",
   "metadata": {},
   "outputs": [],
   "source": [
    "df['clean_text']=df['text'].apply(to_lower)"
   ]
  },
  {
   "cell_type": "code",
   "execution_count": 9,
   "id": "0baec1a5",
   "metadata": {},
   "outputs": [
    {
     "data": {
      "text/html": [
       "<div>\n",
       "<style scoped>\n",
       "    .dataframe tbody tr th:only-of-type {\n",
       "        vertical-align: middle;\n",
       "    }\n",
       "\n",
       "    .dataframe tbody tr th {\n",
       "        vertical-align: top;\n",
       "    }\n",
       "\n",
       "    .dataframe thead th {\n",
       "        text-align: right;\n",
       "    }\n",
       "</style>\n",
       "<table border=\"1\" class=\"dataframe\">\n",
       "  <thead>\n",
       "    <tr style=\"text-align: right;\">\n",
       "      <th></th>\n",
       "      <th>Time_Date</th>\n",
       "      <th>author</th>\n",
       "      <th>text</th>\n",
       "      <th>clean_text</th>\n",
       "    </tr>\n",
       "  </thead>\n",
       "  <tbody>\n",
       "    <tr>\n",
       "      <th>0</th>\n",
       "      <td>2013-07-18 09:39:46.071961602</td>\n",
       "      <td>Hematopoiesis News</td>\n",
       "      <td>⚕️ Scientists conducted a Phase II study of acalabrutinib in patients with relapsed/refractory #CLL who were ibrutinib-intolerant, and found an overall response rate of 73%. \\nhttps://t.co/eJ6m4Qp...</td>\n",
       "      <td>⚕️ scientists conducted a phase ii study of acalabrutinib in patients with relapsed/refractory #cll who were ibrutinib-intolerant, and found an overall response rate of 73%. \\nhttps://t.co/ej6m4qp...</td>\n",
       "    </tr>\n",
       "    <tr>\n",
       "      <th>1</th>\n",
       "      <td>2013-07-17 03:40:32.173842437</td>\n",
       "      <td>Michael Wang, MD</td>\n",
       "      <td>This phase 2 Acalabrutinib-Venetoclax (AV) trial that is still in recruitment phase will study how well venetoclax and acalabrutinib works in MCL patients who either relapsed or non-respondent to ...</td>\n",
       "      <td>this phase 2 acalabrutinib-venetoclax (av) trial that is still in recruitment phase will study how well venetoclax and acalabrutinib works in mcl patients who either relapsed or non-respondent to ...</td>\n",
       "    </tr>\n",
       "    <tr>\n",
       "      <th>2</th>\n",
       "      <td>2013-07-15 15:41:16.553048065</td>\n",
       "      <td>1stOncology</td>\n",
       "      <td>#NICE backs #AstraZenecas #Calquence for #CLL https://t.co/Vb5lPDoGrA</td>\n",
       "      <td>#nice backs #astrazenecas #calquence for #cll https://t.co/vb5lpdogra</td>\n",
       "    </tr>\n",
       "    <tr>\n",
       "      <th>3</th>\n",
       "      <td>2013-07-12 19:19:42.367813635</td>\n",
       "      <td>Toby Eyre</td>\n",
       "      <td>#acalabrutinib is a valuable option in pts intolerant to #ibrutinib. Further valuable data to help decision making in #CLL \\n\\nEarly View | Haematologica https://t.co/Z2kCLZaX0D</td>\n",
       "      <td>#acalabrutinib is a valuable option in pts intolerant to #ibrutinib. further valuable data to help decision making in #cll \\n\\nearly view | haematologica https://t.co/z2kclzax0d</td>\n",
       "    </tr>\n",
       "    <tr>\n",
       "      <th>4</th>\n",
       "      <td>2013-07-04 12:40:34.334232586</td>\n",
       "      <td>Lymphoma Hub</td>\n",
       "      <td>NICE has recommended the use of acalabrutinib for patients with treatment-naïve chronic lymphocytic leukemia. Find out more here https://t.co/6OuJptLCIN #lymsm #lymphoma</td>\n",
       "      <td>nice has recommended the use of acalabrutinib for patients with treatment-naïve chronic lymphocytic leukemia. find out more here https://t.co/6oujptlcin #lymsm #lymphoma</td>\n",
       "    </tr>\n",
       "  </tbody>\n",
       "</table>\n",
       "</div>"
      ],
      "text/plain": [
       "                       Time_Date              author  \\\n",
       "0  2013-07-18 09:39:46.071961602  Hematopoiesis News   \n",
       "1  2013-07-17 03:40:32.173842437    Michael Wang, MD   \n",
       "2  2013-07-15 15:41:16.553048065         1stOncology   \n",
       "3  2013-07-12 19:19:42.367813635           Toby Eyre   \n",
       "4  2013-07-04 12:40:34.334232586        Lymphoma Hub   \n",
       "\n",
       "                                                                                                                                                                                                      text  \\\n",
       "0  ⚕️ Scientists conducted a Phase II study of acalabrutinib in patients with relapsed/refractory #CLL who were ibrutinib-intolerant, and found an overall response rate of 73%. \\nhttps://t.co/eJ6m4Qp...   \n",
       "1  This phase 2 Acalabrutinib-Venetoclax (AV) trial that is still in recruitment phase will study how well venetoclax and acalabrutinib works in MCL patients who either relapsed or non-respondent to ...   \n",
       "2                                                                                                                                    #NICE backs #AstraZenecas #Calquence for #CLL https://t.co/Vb5lPDoGrA   \n",
       "3                        #acalabrutinib is a valuable option in pts intolerant to #ibrutinib. Further valuable data to help decision making in #CLL \\n\\nEarly View | Haematologica https://t.co/Z2kCLZaX0D   \n",
       "4                                NICE has recommended the use of acalabrutinib for patients with treatment-naïve chronic lymphocytic leukemia. Find out more here https://t.co/6OuJptLCIN #lymsm #lymphoma   \n",
       "\n",
       "                                                                                                                                                                                                clean_text  \n",
       "0  ⚕️ scientists conducted a phase ii study of acalabrutinib in patients with relapsed/refractory #cll who were ibrutinib-intolerant, and found an overall response rate of 73%. \\nhttps://t.co/ej6m4qp...  \n",
       "1  this phase 2 acalabrutinib-venetoclax (av) trial that is still in recruitment phase will study how well venetoclax and acalabrutinib works in mcl patients who either relapsed or non-respondent to ...  \n",
       "2                                                                                                                                    #nice backs #astrazenecas #calquence for #cll https://t.co/vb5lpdogra  \n",
       "3                        #acalabrutinib is a valuable option in pts intolerant to #ibrutinib. further valuable data to help decision making in #cll \\n\\nearly view | haematologica https://t.co/z2kclzax0d  \n",
       "4                                nice has recommended the use of acalabrutinib for patients with treatment-naïve chronic lymphocytic leukemia. find out more here https://t.co/6oujptlcin #lymsm #lymphoma  "
      ]
     },
     "execution_count": 9,
     "metadata": {},
     "output_type": "execute_result"
    }
   ],
   "source": [
    "df.head()"
   ]
  },
  {
   "cell_type": "code",
   "execution_count": 10,
   "id": "c4118fff",
   "metadata": {},
   "outputs": [],
   "source": [
    "# Removal of Mentions "
   ]
  },
  {
   "cell_type": "code",
   "execution_count": 11,
   "id": "742b2633",
   "metadata": {},
   "outputs": [],
   "source": [
    "def remove_mentions(word):       \n",
    "    result = re.sub(r\"@\\S+\", \"\", word)       \n",
    "    return result"
   ]
  },
  {
   "cell_type": "code",
   "execution_count": 12,
   "id": "cc6a5904",
   "metadata": {},
   "outputs": [],
   "source": [
    "df['clean_text']=df['clean_text'].apply(remove_mentions)"
   ]
  },
  {
   "cell_type": "code",
   "execution_count": 13,
   "id": "67b2c9c8",
   "metadata": {},
   "outputs": [
    {
     "data": {
      "text/html": [
       "<div>\n",
       "<style scoped>\n",
       "    .dataframe tbody tr th:only-of-type {\n",
       "        vertical-align: middle;\n",
       "    }\n",
       "\n",
       "    .dataframe tbody tr th {\n",
       "        vertical-align: top;\n",
       "    }\n",
       "\n",
       "    .dataframe thead th {\n",
       "        text-align: right;\n",
       "    }\n",
       "</style>\n",
       "<table border=\"1\" class=\"dataframe\">\n",
       "  <thead>\n",
       "    <tr style=\"text-align: right;\">\n",
       "      <th></th>\n",
       "      <th>Time_Date</th>\n",
       "      <th>author</th>\n",
       "      <th>text</th>\n",
       "      <th>clean_text</th>\n",
       "    </tr>\n",
       "  </thead>\n",
       "  <tbody>\n",
       "    <tr>\n",
       "      <th>0</th>\n",
       "      <td>2013-07-18 09:39:46.071961602</td>\n",
       "      <td>Hematopoiesis News</td>\n",
       "      <td>⚕️ Scientists conducted a Phase II study of acalabrutinib in patients with relapsed/refractory #CLL who were ibrutinib-intolerant, and found an overall response rate of 73%. \\nhttps://t.co/eJ6m4Qp...</td>\n",
       "      <td>⚕️ scientists conducted a phase ii study of acalabrutinib in patients with relapsed/refractory #cll who were ibrutinib-intolerant, and found an overall response rate of 73%. \\nhttps://t.co/ej6m4qp...</td>\n",
       "    </tr>\n",
       "    <tr>\n",
       "      <th>1</th>\n",
       "      <td>2013-07-17 03:40:32.173842437</td>\n",
       "      <td>Michael Wang, MD</td>\n",
       "      <td>This phase 2 Acalabrutinib-Venetoclax (AV) trial that is still in recruitment phase will study how well venetoclax and acalabrutinib works in MCL patients who either relapsed or non-respondent to ...</td>\n",
       "      <td>this phase 2 acalabrutinib-venetoclax (av) trial that is still in recruitment phase will study how well venetoclax and acalabrutinib works in mcl patients who either relapsed or non-respondent to ...</td>\n",
       "    </tr>\n",
       "    <tr>\n",
       "      <th>2</th>\n",
       "      <td>2013-07-15 15:41:16.553048065</td>\n",
       "      <td>1stOncology</td>\n",
       "      <td>#NICE backs #AstraZenecas #Calquence for #CLL https://t.co/Vb5lPDoGrA</td>\n",
       "      <td>#nice backs #astrazenecas #calquence for #cll https://t.co/vb5lpdogra</td>\n",
       "    </tr>\n",
       "    <tr>\n",
       "      <th>3</th>\n",
       "      <td>2013-07-12 19:19:42.367813635</td>\n",
       "      <td>Toby Eyre</td>\n",
       "      <td>#acalabrutinib is a valuable option in pts intolerant to #ibrutinib. Further valuable data to help decision making in #CLL \\n\\nEarly View | Haematologica https://t.co/Z2kCLZaX0D</td>\n",
       "      <td>#acalabrutinib is a valuable option in pts intolerant to #ibrutinib. further valuable data to help decision making in #cll \\n\\nearly view | haematologica https://t.co/z2kclzax0d</td>\n",
       "    </tr>\n",
       "    <tr>\n",
       "      <th>4</th>\n",
       "      <td>2013-07-04 12:40:34.334232586</td>\n",
       "      <td>Lymphoma Hub</td>\n",
       "      <td>NICE has recommended the use of acalabrutinib for patients with treatment-naïve chronic lymphocytic leukemia. Find out more here https://t.co/6OuJptLCIN #lymsm #lymphoma</td>\n",
       "      <td>nice has recommended the use of acalabrutinib for patients with treatment-naïve chronic lymphocytic leukemia. find out more here https://t.co/6oujptlcin #lymsm #lymphoma</td>\n",
       "    </tr>\n",
       "  </tbody>\n",
       "</table>\n",
       "</div>"
      ],
      "text/plain": [
       "                       Time_Date              author  \\\n",
       "0  2013-07-18 09:39:46.071961602  Hematopoiesis News   \n",
       "1  2013-07-17 03:40:32.173842437    Michael Wang, MD   \n",
       "2  2013-07-15 15:41:16.553048065         1stOncology   \n",
       "3  2013-07-12 19:19:42.367813635           Toby Eyre   \n",
       "4  2013-07-04 12:40:34.334232586        Lymphoma Hub   \n",
       "\n",
       "                                                                                                                                                                                                      text  \\\n",
       "0  ⚕️ Scientists conducted a Phase II study of acalabrutinib in patients with relapsed/refractory #CLL who were ibrutinib-intolerant, and found an overall response rate of 73%. \\nhttps://t.co/eJ6m4Qp...   \n",
       "1  This phase 2 Acalabrutinib-Venetoclax (AV) trial that is still in recruitment phase will study how well venetoclax and acalabrutinib works in MCL patients who either relapsed or non-respondent to ...   \n",
       "2                                                                                                                                    #NICE backs #AstraZenecas #Calquence for #CLL https://t.co/Vb5lPDoGrA   \n",
       "3                        #acalabrutinib is a valuable option in pts intolerant to #ibrutinib. Further valuable data to help decision making in #CLL \\n\\nEarly View | Haematologica https://t.co/Z2kCLZaX0D   \n",
       "4                                NICE has recommended the use of acalabrutinib for patients with treatment-naïve chronic lymphocytic leukemia. Find out more here https://t.co/6OuJptLCIN #lymsm #lymphoma   \n",
       "\n",
       "                                                                                                                                                                                                clean_text  \n",
       "0  ⚕️ scientists conducted a phase ii study of acalabrutinib in patients with relapsed/refractory #cll who were ibrutinib-intolerant, and found an overall response rate of 73%. \\nhttps://t.co/ej6m4qp...  \n",
       "1  this phase 2 acalabrutinib-venetoclax (av) trial that is still in recruitment phase will study how well venetoclax and acalabrutinib works in mcl patients who either relapsed or non-respondent to ...  \n",
       "2                                                                                                                                    #nice backs #astrazenecas #calquence for #cll https://t.co/vb5lpdogra  \n",
       "3                        #acalabrutinib is a valuable option in pts intolerant to #ibrutinib. further valuable data to help decision making in #cll \\n\\nearly view | haematologica https://t.co/z2kclzax0d  \n",
       "4                                nice has recommended the use of acalabrutinib for patients with treatment-naïve chronic lymphocytic leukemia. find out more here https://t.co/6oujptlcin #lymsm #lymphoma  "
      ]
     },
     "execution_count": 13,
     "metadata": {},
     "output_type": "execute_result"
    }
   ],
   "source": [
    "df.head()"
   ]
  },
  {
   "cell_type": "code",
   "execution_count": 14,
   "id": "c13acd80",
   "metadata": {},
   "outputs": [],
   "source": [
    "# Removing of Special Characters "
   ]
  },
  {
   "cell_type": "code",
   "execution_count": 15,
   "id": "cb96eabf",
   "metadata": {},
   "outputs": [],
   "source": [
    "def remove_special_characters(x):\n",
    "    result=re.sub('[^a-zA-Z]', ' ',x)\n",
    "    return result\n"
   ]
  },
  {
   "cell_type": "code",
   "execution_count": 16,
   "id": "99a4ea98",
   "metadata": {},
   "outputs": [],
   "source": [
    "df['clean_text']=df['clean_text'].apply(remove_special_characters)"
   ]
  },
  {
   "cell_type": "code",
   "execution_count": 17,
   "id": "f0ec8a99",
   "metadata": {},
   "outputs": [
    {
     "data": {
      "text/html": [
       "<div>\n",
       "<style scoped>\n",
       "    .dataframe tbody tr th:only-of-type {\n",
       "        vertical-align: middle;\n",
       "    }\n",
       "\n",
       "    .dataframe tbody tr th {\n",
       "        vertical-align: top;\n",
       "    }\n",
       "\n",
       "    .dataframe thead th {\n",
       "        text-align: right;\n",
       "    }\n",
       "</style>\n",
       "<table border=\"1\" class=\"dataframe\">\n",
       "  <thead>\n",
       "    <tr style=\"text-align: right;\">\n",
       "      <th></th>\n",
       "      <th>Time_Date</th>\n",
       "      <th>author</th>\n",
       "      <th>text</th>\n",
       "      <th>clean_text</th>\n",
       "    </tr>\n",
       "  </thead>\n",
       "  <tbody>\n",
       "    <tr>\n",
       "      <th>0</th>\n",
       "      <td>2013-07-18 09:39:46.071961602</td>\n",
       "      <td>Hematopoiesis News</td>\n",
       "      <td>⚕️ Scientists conducted a Phase II study of acalabrutinib in patients with relapsed/refractory #CLL who were ibrutinib-intolerant, and found an overall response rate of 73%. \\nhttps://t.co/eJ6m4Qp...</td>\n",
       "      <td>scientists conducted a phase ii study of acalabrutinib in patients with relapsed refractory  cll who were ibrutinib intolerant  and found an overall response rate of       https   t co ej m qpc...</td>\n",
       "    </tr>\n",
       "    <tr>\n",
       "      <th>1</th>\n",
       "      <td>2013-07-17 03:40:32.173842437</td>\n",
       "      <td>Michael Wang, MD</td>\n",
       "      <td>This phase 2 Acalabrutinib-Venetoclax (AV) trial that is still in recruitment phase will study how well venetoclax and acalabrutinib works in MCL patients who either relapsed or non-respondent to ...</td>\n",
       "      <td>this phase   acalabrutinib venetoclax  av  trial that is still in recruitment phase will study how well venetoclax and acalabrutinib works in mcl patients who either relapsed or non respondent to ...</td>\n",
       "    </tr>\n",
       "    <tr>\n",
       "      <th>2</th>\n",
       "      <td>2013-07-15 15:41:16.553048065</td>\n",
       "      <td>1stOncology</td>\n",
       "      <td>#NICE backs #AstraZenecas #Calquence for #CLL https://t.co/Vb5lPDoGrA</td>\n",
       "      <td>nice backs  astrazenecas  calquence for  cll https   t co vb lpdogra</td>\n",
       "    </tr>\n",
       "    <tr>\n",
       "      <th>3</th>\n",
       "      <td>2013-07-12 19:19:42.367813635</td>\n",
       "      <td>Toby Eyre</td>\n",
       "      <td>#acalabrutinib is a valuable option in pts intolerant to #ibrutinib. Further valuable data to help decision making in #CLL \\n\\nEarly View | Haematologica https://t.co/Z2kCLZaX0D</td>\n",
       "      <td>acalabrutinib is a valuable option in pts intolerant to  ibrutinib  further valuable data to help decision making in  cll   early view   haematologica https   t co z kclzax d</td>\n",
       "    </tr>\n",
       "    <tr>\n",
       "      <th>4</th>\n",
       "      <td>2013-07-04 12:40:34.334232586</td>\n",
       "      <td>Lymphoma Hub</td>\n",
       "      <td>NICE has recommended the use of acalabrutinib for patients with treatment-naïve chronic lymphocytic leukemia. Find out more here https://t.co/6OuJptLCIN #lymsm #lymphoma</td>\n",
       "      <td>nice has recommended the use of acalabrutinib for patients with treatment na ve chronic lymphocytic leukemia  find out more here https   t co  oujptlcin  lymsm  lymphoma</td>\n",
       "    </tr>\n",
       "  </tbody>\n",
       "</table>\n",
       "</div>"
      ],
      "text/plain": [
       "                       Time_Date              author  \\\n",
       "0  2013-07-18 09:39:46.071961602  Hematopoiesis News   \n",
       "1  2013-07-17 03:40:32.173842437    Michael Wang, MD   \n",
       "2  2013-07-15 15:41:16.553048065         1stOncology   \n",
       "3  2013-07-12 19:19:42.367813635           Toby Eyre   \n",
       "4  2013-07-04 12:40:34.334232586        Lymphoma Hub   \n",
       "\n",
       "                                                                                                                                                                                                      text  \\\n",
       "0  ⚕️ Scientists conducted a Phase II study of acalabrutinib in patients with relapsed/refractory #CLL who were ibrutinib-intolerant, and found an overall response rate of 73%. \\nhttps://t.co/eJ6m4Qp...   \n",
       "1  This phase 2 Acalabrutinib-Venetoclax (AV) trial that is still in recruitment phase will study how well venetoclax and acalabrutinib works in MCL patients who either relapsed or non-respondent to ...   \n",
       "2                                                                                                                                    #NICE backs #AstraZenecas #Calquence for #CLL https://t.co/Vb5lPDoGrA   \n",
       "3                        #acalabrutinib is a valuable option in pts intolerant to #ibrutinib. Further valuable data to help decision making in #CLL \\n\\nEarly View | Haematologica https://t.co/Z2kCLZaX0D   \n",
       "4                                NICE has recommended the use of acalabrutinib for patients with treatment-naïve chronic lymphocytic leukemia. Find out more here https://t.co/6OuJptLCIN #lymsm #lymphoma   \n",
       "\n",
       "                                                                                                                                                                                                clean_text  \n",
       "0     scientists conducted a phase ii study of acalabrutinib in patients with relapsed refractory  cll who were ibrutinib intolerant  and found an overall response rate of       https   t co ej m qpc...  \n",
       "1  this phase   acalabrutinib venetoclax  av  trial that is still in recruitment phase will study how well venetoclax and acalabrutinib works in mcl patients who either relapsed or non respondent to ...  \n",
       "2                                                                                                                                     nice backs  astrazenecas  calquence for  cll https   t co vb lpdogra  \n",
       "3                           acalabrutinib is a valuable option in pts intolerant to  ibrutinib  further valuable data to help decision making in  cll   early view   haematologica https   t co z kclzax d  \n",
       "4                                nice has recommended the use of acalabrutinib for patients with treatment na ve chronic lymphocytic leukemia  find out more here https   t co  oujptlcin  lymsm  lymphoma  "
      ]
     },
     "execution_count": 17,
     "metadata": {},
     "output_type": "execute_result"
    }
   ],
   "source": [
    "df.head()"
   ]
  },
  {
   "cell_type": "code",
   "execution_count": 18,
   "id": "d3eee0bb",
   "metadata": {},
   "outputs": [],
   "source": [
    "# Removal of stopwords"
   ]
  },
  {
   "cell_type": "code",
   "execution_count": 19,
   "id": "2142c5f2",
   "metadata": {},
   "outputs": [],
   "source": [
    "stop_words=set(stopwords.words('english'))"
   ]
  },
  {
   "cell_type": "code",
   "execution_count": 20,
   "id": "d330f759",
   "metadata": {},
   "outputs": [],
   "source": [
    "def remove_stop(x):\n",
    "    return ','.join([ word for word in str(x).split() if word not in stop_words])"
   ]
  },
  {
   "cell_type": "code",
   "execution_count": 21,
   "id": "5fee9424",
   "metadata": {},
   "outputs": [],
   "source": [
    "df['clean_text']=df['clean_text'].apply(lambda x: remove_stop(x))"
   ]
  },
  {
   "cell_type": "code",
   "execution_count": 22,
   "id": "8fc1a6fb",
   "metadata": {},
   "outputs": [
    {
     "data": {
      "text/html": [
       "<div>\n",
       "<style scoped>\n",
       "    .dataframe tbody tr th:only-of-type {\n",
       "        vertical-align: middle;\n",
       "    }\n",
       "\n",
       "    .dataframe tbody tr th {\n",
       "        vertical-align: top;\n",
       "    }\n",
       "\n",
       "    .dataframe thead th {\n",
       "        text-align: right;\n",
       "    }\n",
       "</style>\n",
       "<table border=\"1\" class=\"dataframe\">\n",
       "  <thead>\n",
       "    <tr style=\"text-align: right;\">\n",
       "      <th></th>\n",
       "      <th>Time_Date</th>\n",
       "      <th>author</th>\n",
       "      <th>text</th>\n",
       "      <th>clean_text</th>\n",
       "    </tr>\n",
       "  </thead>\n",
       "  <tbody>\n",
       "    <tr>\n",
       "      <th>0</th>\n",
       "      <td>2013-07-18 09:39:46.071961602</td>\n",
       "      <td>Hematopoiesis News</td>\n",
       "      <td>⚕️ Scientists conducted a Phase II study of acalabrutinib in patients with relapsed/refractory #CLL who were ibrutinib-intolerant, and found an overall response rate of 73%. \\nhttps://t.co/eJ6m4Qp...</td>\n",
       "      <td>scientists,conducted,phase,ii,study,acalabrutinib,patients,relapsed,refractory,cll,ibrutinib,intolerant,found,overall,response,rate,https,co,ej,qpc,p,https,co,kuzz,zo,r</td>\n",
       "    </tr>\n",
       "    <tr>\n",
       "      <th>1</th>\n",
       "      <td>2013-07-17 03:40:32.173842437</td>\n",
       "      <td>Michael Wang, MD</td>\n",
       "      <td>This phase 2 Acalabrutinib-Venetoclax (AV) trial that is still in recruitment phase will study how well venetoclax and acalabrutinib works in MCL patients who either relapsed or non-respondent to ...</td>\n",
       "      <td>phase,acalabrutinib,venetoclax,av,trial,still,recruitment,phase,study,well,venetoclax,acalabrutinib,works,mcl,patients,either,relapsed,non,respondent,initial,therapy,https,co,gg,g,n</td>\n",
       "    </tr>\n",
       "    <tr>\n",
       "      <th>2</th>\n",
       "      <td>2013-07-15 15:41:16.553048065</td>\n",
       "      <td>1stOncology</td>\n",
       "      <td>#NICE backs #AstraZenecas #Calquence for #CLL https://t.co/Vb5lPDoGrA</td>\n",
       "      <td>nice,backs,astrazenecas,calquence,cll,https,co,vb,lpdogra</td>\n",
       "    </tr>\n",
       "    <tr>\n",
       "      <th>3</th>\n",
       "      <td>2013-07-12 19:19:42.367813635</td>\n",
       "      <td>Toby Eyre</td>\n",
       "      <td>#acalabrutinib is a valuable option in pts intolerant to #ibrutinib. Further valuable data to help decision making in #CLL \\n\\nEarly View | Haematologica https://t.co/Z2kCLZaX0D</td>\n",
       "      <td>acalabrutinib,valuable,option,pts,intolerant,ibrutinib,valuable,data,help,decision,making,cll,early,view,haematologica,https,co,z,kclzax</td>\n",
       "    </tr>\n",
       "    <tr>\n",
       "      <th>4</th>\n",
       "      <td>2013-07-04 12:40:34.334232586</td>\n",
       "      <td>Lymphoma Hub</td>\n",
       "      <td>NICE has recommended the use of acalabrutinib for patients with treatment-naïve chronic lymphocytic leukemia. Find out more here https://t.co/6OuJptLCIN #lymsm #lymphoma</td>\n",
       "      <td>nice,recommended,use,acalabrutinib,patients,treatment,na,chronic,lymphocytic,leukemia,find,https,co,oujptlcin,lymsm,lymphoma</td>\n",
       "    </tr>\n",
       "  </tbody>\n",
       "</table>\n",
       "</div>"
      ],
      "text/plain": [
       "                       Time_Date              author  \\\n",
       "0  2013-07-18 09:39:46.071961602  Hematopoiesis News   \n",
       "1  2013-07-17 03:40:32.173842437    Michael Wang, MD   \n",
       "2  2013-07-15 15:41:16.553048065         1stOncology   \n",
       "3  2013-07-12 19:19:42.367813635           Toby Eyre   \n",
       "4  2013-07-04 12:40:34.334232586        Lymphoma Hub   \n",
       "\n",
       "                                                                                                                                                                                                      text  \\\n",
       "0  ⚕️ Scientists conducted a Phase II study of acalabrutinib in patients with relapsed/refractory #CLL who were ibrutinib-intolerant, and found an overall response rate of 73%. \\nhttps://t.co/eJ6m4Qp...   \n",
       "1  This phase 2 Acalabrutinib-Venetoclax (AV) trial that is still in recruitment phase will study how well venetoclax and acalabrutinib works in MCL patients who either relapsed or non-respondent to ...   \n",
       "2                                                                                                                                    #NICE backs #AstraZenecas #Calquence for #CLL https://t.co/Vb5lPDoGrA   \n",
       "3                        #acalabrutinib is a valuable option in pts intolerant to #ibrutinib. Further valuable data to help decision making in #CLL \\n\\nEarly View | Haematologica https://t.co/Z2kCLZaX0D   \n",
       "4                                NICE has recommended the use of acalabrutinib for patients with treatment-naïve chronic lymphocytic leukemia. Find out more here https://t.co/6OuJptLCIN #lymsm #lymphoma   \n",
       "\n",
       "                                                                                                                                                                              clean_text  \n",
       "0               scientists,conducted,phase,ii,study,acalabrutinib,patients,relapsed,refractory,cll,ibrutinib,intolerant,found,overall,response,rate,https,co,ej,qpc,p,https,co,kuzz,zo,r  \n",
       "1  phase,acalabrutinib,venetoclax,av,trial,still,recruitment,phase,study,well,venetoclax,acalabrutinib,works,mcl,patients,either,relapsed,non,respondent,initial,therapy,https,co,gg,g,n  \n",
       "2                                                                                                                              nice,backs,astrazenecas,calquence,cll,https,co,vb,lpdogra  \n",
       "3                                               acalabrutinib,valuable,option,pts,intolerant,ibrutinib,valuable,data,help,decision,making,cll,early,view,haematologica,https,co,z,kclzax  \n",
       "4                                                           nice,recommended,use,acalabrutinib,patients,treatment,na,chronic,lymphocytic,leukemia,find,https,co,oujptlcin,lymsm,lymphoma  "
      ]
     },
     "execution_count": 22,
     "metadata": {},
     "output_type": "execute_result"
    }
   ],
   "source": [
    "df.head()"
   ]
  },
  {
   "cell_type": "markdown",
   "id": "b3d2139d",
   "metadata": {},
   "source": [
    "# Removal of Hyperlinks:"
   ]
  },
  {
   "cell_type": "code",
   "execution_count": 23,
   "id": "b566b198",
   "metadata": {},
   "outputs": [],
   "source": [
    "def remove_hyperlink(word):       \n",
    "    return re.sub(r\"http\\S+\", \"\", word)"
   ]
  },
  {
   "cell_type": "code",
   "execution_count": 24,
   "id": "65800833",
   "metadata": {},
   "outputs": [],
   "source": [
    "df['clean_text']=df['clean_text'].apply(remove_hyperlink)"
   ]
  },
  {
   "cell_type": "code",
   "execution_count": 25,
   "id": "9d385b45",
   "metadata": {},
   "outputs": [
    {
     "data": {
      "text/html": [
       "<div>\n",
       "<style scoped>\n",
       "    .dataframe tbody tr th:only-of-type {\n",
       "        vertical-align: middle;\n",
       "    }\n",
       "\n",
       "    .dataframe tbody tr th {\n",
       "        vertical-align: top;\n",
       "    }\n",
       "\n",
       "    .dataframe thead th {\n",
       "        text-align: right;\n",
       "    }\n",
       "</style>\n",
       "<table border=\"1\" class=\"dataframe\">\n",
       "  <thead>\n",
       "    <tr style=\"text-align: right;\">\n",
       "      <th></th>\n",
       "      <th>Time_Date</th>\n",
       "      <th>author</th>\n",
       "      <th>text</th>\n",
       "      <th>clean_text</th>\n",
       "    </tr>\n",
       "  </thead>\n",
       "  <tbody>\n",
       "    <tr>\n",
       "      <th>0</th>\n",
       "      <td>2013-07-18 09:39:46.071961602</td>\n",
       "      <td>Hematopoiesis News</td>\n",
       "      <td>⚕️ Scientists conducted a Phase II study of acalabrutinib in patients with relapsed/refractory #CLL who were ibrutinib-intolerant, and found an overall response rate of 73%. \\nhttps://t.co/eJ6m4Qp...</td>\n",
       "      <td>scientists,conducted,phase,ii,study,acalabrutinib,patients,relapsed,refractory,cll,ibrutinib,intolerant,found,overall,response,rate,</td>\n",
       "    </tr>\n",
       "    <tr>\n",
       "      <th>1</th>\n",
       "      <td>2013-07-17 03:40:32.173842437</td>\n",
       "      <td>Michael Wang, MD</td>\n",
       "      <td>This phase 2 Acalabrutinib-Venetoclax (AV) trial that is still in recruitment phase will study how well venetoclax and acalabrutinib works in MCL patients who either relapsed or non-respondent to ...</td>\n",
       "      <td>phase,acalabrutinib,venetoclax,av,trial,still,recruitment,phase,study,well,venetoclax,acalabrutinib,works,mcl,patients,either,relapsed,non,respondent,initial,therapy,</td>\n",
       "    </tr>\n",
       "    <tr>\n",
       "      <th>2</th>\n",
       "      <td>2013-07-15 15:41:16.553048065</td>\n",
       "      <td>1stOncology</td>\n",
       "      <td>#NICE backs #AstraZenecas #Calquence for #CLL https://t.co/Vb5lPDoGrA</td>\n",
       "      <td>nice,backs,astrazenecas,calquence,cll,</td>\n",
       "    </tr>\n",
       "    <tr>\n",
       "      <th>3</th>\n",
       "      <td>2013-07-12 19:19:42.367813635</td>\n",
       "      <td>Toby Eyre</td>\n",
       "      <td>#acalabrutinib is a valuable option in pts intolerant to #ibrutinib. Further valuable data to help decision making in #CLL \\n\\nEarly View | Haematologica https://t.co/Z2kCLZaX0D</td>\n",
       "      <td>acalabrutinib,valuable,option,pts,intolerant,ibrutinib,valuable,data,help,decision,making,cll,early,view,haematologica,</td>\n",
       "    </tr>\n",
       "    <tr>\n",
       "      <th>4</th>\n",
       "      <td>2013-07-04 12:40:34.334232586</td>\n",
       "      <td>Lymphoma Hub</td>\n",
       "      <td>NICE has recommended the use of acalabrutinib for patients with treatment-naïve chronic lymphocytic leukemia. Find out more here https://t.co/6OuJptLCIN #lymsm #lymphoma</td>\n",
       "      <td>nice,recommended,use,acalabrutinib,patients,treatment,na,chronic,lymphocytic,leukemia,find,</td>\n",
       "    </tr>\n",
       "  </tbody>\n",
       "</table>\n",
       "</div>"
      ],
      "text/plain": [
       "                       Time_Date              author  \\\n",
       "0  2013-07-18 09:39:46.071961602  Hematopoiesis News   \n",
       "1  2013-07-17 03:40:32.173842437    Michael Wang, MD   \n",
       "2  2013-07-15 15:41:16.553048065         1stOncology   \n",
       "3  2013-07-12 19:19:42.367813635           Toby Eyre   \n",
       "4  2013-07-04 12:40:34.334232586        Lymphoma Hub   \n",
       "\n",
       "                                                                                                                                                                                                      text  \\\n",
       "0  ⚕️ Scientists conducted a Phase II study of acalabrutinib in patients with relapsed/refractory #CLL who were ibrutinib-intolerant, and found an overall response rate of 73%. \\nhttps://t.co/eJ6m4Qp...   \n",
       "1  This phase 2 Acalabrutinib-Venetoclax (AV) trial that is still in recruitment phase will study how well venetoclax and acalabrutinib works in MCL patients who either relapsed or non-respondent to ...   \n",
       "2                                                                                                                                    #NICE backs #AstraZenecas #Calquence for #CLL https://t.co/Vb5lPDoGrA   \n",
       "3                        #acalabrutinib is a valuable option in pts intolerant to #ibrutinib. Further valuable data to help decision making in #CLL \\n\\nEarly View | Haematologica https://t.co/Z2kCLZaX0D   \n",
       "4                                NICE has recommended the use of acalabrutinib for patients with treatment-naïve chronic lymphocytic leukemia. Find out more here https://t.co/6OuJptLCIN #lymsm #lymphoma   \n",
       "\n",
       "                                                                                                                                                               clean_text  \n",
       "0                                    scientists,conducted,phase,ii,study,acalabrutinib,patients,relapsed,refractory,cll,ibrutinib,intolerant,found,overall,response,rate,  \n",
       "1  phase,acalabrutinib,venetoclax,av,trial,still,recruitment,phase,study,well,venetoclax,acalabrutinib,works,mcl,patients,either,relapsed,non,respondent,initial,therapy,  \n",
       "2                                                                                                                                  nice,backs,astrazenecas,calquence,cll,  \n",
       "3                                                 acalabrutinib,valuable,option,pts,intolerant,ibrutinib,valuable,data,help,decision,making,cll,early,view,haematologica,  \n",
       "4                                                                             nice,recommended,use,acalabrutinib,patients,treatment,na,chronic,lymphocytic,leukemia,find,  "
      ]
     },
     "execution_count": 25,
     "metadata": {},
     "output_type": "execute_result"
    }
   ],
   "source": [
    "df.head()"
   ]
  },
  {
   "cell_type": "markdown",
   "id": "f8562785",
   "metadata": {},
   "source": [
    "# Tokenization"
   ]
  },
  {
   "cell_type": "code",
   "execution_count": 26,
   "id": "2eddb3b9",
   "metadata": {},
   "outputs": [
    {
     "name": "stderr",
     "output_type": "stream",
     "text": [
      "[nltk_data] Downloading package punkt to\n",
      "[nltk_data]     C:\\Users\\jakha\\AppData\\Roaming\\nltk_data...\n",
      "[nltk_data]   Unzipping tokenizers\\punkt.zip.\n"
     ]
    },
    {
     "data": {
      "text/plain": [
       "True"
      ]
     },
     "execution_count": 26,
     "metadata": {},
     "output_type": "execute_result"
    }
   ],
   "source": [
    "nltk.download('punkt')"
   ]
  },
  {
   "cell_type": "code",
   "execution_count": 27,
   "id": "41802d4c",
   "metadata": {},
   "outputs": [],
   "source": [
    "from nltk.tokenize import word_tokenize\n",
    "df['clean_text']=df['clean_text'].apply(word_tokenize)"
   ]
  },
  {
   "cell_type": "code",
   "execution_count": 28,
   "id": "f080d5e8",
   "metadata": {},
   "outputs": [
    {
     "data": {
      "text/html": [
       "<div>\n",
       "<style scoped>\n",
       "    .dataframe tbody tr th:only-of-type {\n",
       "        vertical-align: middle;\n",
       "    }\n",
       "\n",
       "    .dataframe tbody tr th {\n",
       "        vertical-align: top;\n",
       "    }\n",
       "\n",
       "    .dataframe thead th {\n",
       "        text-align: right;\n",
       "    }\n",
       "</style>\n",
       "<table border=\"1\" class=\"dataframe\">\n",
       "  <thead>\n",
       "    <tr style=\"text-align: right;\">\n",
       "      <th></th>\n",
       "      <th>Time_Date</th>\n",
       "      <th>author</th>\n",
       "      <th>text</th>\n",
       "      <th>clean_text</th>\n",
       "    </tr>\n",
       "  </thead>\n",
       "  <tbody>\n",
       "    <tr>\n",
       "      <th>0</th>\n",
       "      <td>2013-07-18 09:39:46.071961602</td>\n",
       "      <td>Hematopoiesis News</td>\n",
       "      <td>⚕️ Scientists conducted a Phase II study of acalabrutinib in patients with relapsed/refractory #CLL who were ibrutinib-intolerant, and found an overall response rate of 73%. \\nhttps://t.co/eJ6m4Qp...</td>\n",
       "      <td>[scientists, ,, conducted, ,, phase, ,, ii, ,, study, ,, acalabrutinib, ,, patients, ,, relapsed, ,, refractory, ,, cll, ,, ibrutinib, ,, intolerant, ,, found, ,, overall, ,, response, ,, rate, ,]</td>\n",
       "    </tr>\n",
       "    <tr>\n",
       "      <th>1</th>\n",
       "      <td>2013-07-17 03:40:32.173842437</td>\n",
       "      <td>Michael Wang, MD</td>\n",
       "      <td>This phase 2 Acalabrutinib-Venetoclax (AV) trial that is still in recruitment phase will study how well venetoclax and acalabrutinib works in MCL patients who either relapsed or non-respondent to ...</td>\n",
       "      <td>[phase, ,, acalabrutinib, ,, venetoclax, ,, av, ,, trial, ,, still, ,, recruitment, ,, phase, ,, study, ,, well, ,, venetoclax, ,, acalabrutinib, ,, works, ,, mcl, ,, patients, ,, either, ,, relap...</td>\n",
       "    </tr>\n",
       "    <tr>\n",
       "      <th>2</th>\n",
       "      <td>2013-07-15 15:41:16.553048065</td>\n",
       "      <td>1stOncology</td>\n",
       "      <td>#NICE backs #AstraZenecas #Calquence for #CLL https://t.co/Vb5lPDoGrA</td>\n",
       "      <td>[nice, ,, backs, ,, astrazenecas, ,, calquence, ,, cll, ,]</td>\n",
       "    </tr>\n",
       "    <tr>\n",
       "      <th>3</th>\n",
       "      <td>2013-07-12 19:19:42.367813635</td>\n",
       "      <td>Toby Eyre</td>\n",
       "      <td>#acalabrutinib is a valuable option in pts intolerant to #ibrutinib. Further valuable data to help decision making in #CLL \\n\\nEarly View | Haematologica https://t.co/Z2kCLZaX0D</td>\n",
       "      <td>[acalabrutinib, ,, valuable, ,, option, ,, pts, ,, intolerant, ,, ibrutinib, ,, valuable, ,, data, ,, help, ,, decision, ,, making, ,, cll, ,, early, ,, view, ,, haematologica, ,]</td>\n",
       "    </tr>\n",
       "    <tr>\n",
       "      <th>4</th>\n",
       "      <td>2013-07-04 12:40:34.334232586</td>\n",
       "      <td>Lymphoma Hub</td>\n",
       "      <td>NICE has recommended the use of acalabrutinib for patients with treatment-naïve chronic lymphocytic leukemia. Find out more here https://t.co/6OuJptLCIN #lymsm #lymphoma</td>\n",
       "      <td>[nice, ,, recommended, ,, use, ,, acalabrutinib, ,, patients, ,, treatment, ,, na, ,, chronic, ,, lymphocytic, ,, leukemia, ,, find, ,]</td>\n",
       "    </tr>\n",
       "  </tbody>\n",
       "</table>\n",
       "</div>"
      ],
      "text/plain": [
       "                       Time_Date              author  \\\n",
       "0  2013-07-18 09:39:46.071961602  Hematopoiesis News   \n",
       "1  2013-07-17 03:40:32.173842437    Michael Wang, MD   \n",
       "2  2013-07-15 15:41:16.553048065         1stOncology   \n",
       "3  2013-07-12 19:19:42.367813635           Toby Eyre   \n",
       "4  2013-07-04 12:40:34.334232586        Lymphoma Hub   \n",
       "\n",
       "                                                                                                                                                                                                      text  \\\n",
       "0  ⚕️ Scientists conducted a Phase II study of acalabrutinib in patients with relapsed/refractory #CLL who were ibrutinib-intolerant, and found an overall response rate of 73%. \\nhttps://t.co/eJ6m4Qp...   \n",
       "1  This phase 2 Acalabrutinib-Venetoclax (AV) trial that is still in recruitment phase will study how well venetoclax and acalabrutinib works in MCL patients who either relapsed or non-respondent to ...   \n",
       "2                                                                                                                                    #NICE backs #AstraZenecas #Calquence for #CLL https://t.co/Vb5lPDoGrA   \n",
       "3                        #acalabrutinib is a valuable option in pts intolerant to #ibrutinib. Further valuable data to help decision making in #CLL \\n\\nEarly View | Haematologica https://t.co/Z2kCLZaX0D   \n",
       "4                                NICE has recommended the use of acalabrutinib for patients with treatment-naïve chronic lymphocytic leukemia. Find out more here https://t.co/6OuJptLCIN #lymsm #lymphoma   \n",
       "\n",
       "                                                                                                                                                                                                clean_text  \n",
       "0     [scientists, ,, conducted, ,, phase, ,, ii, ,, study, ,, acalabrutinib, ,, patients, ,, relapsed, ,, refractory, ,, cll, ,, ibrutinib, ,, intolerant, ,, found, ,, overall, ,, response, ,, rate, ,]  \n",
       "1  [phase, ,, acalabrutinib, ,, venetoclax, ,, av, ,, trial, ,, still, ,, recruitment, ,, phase, ,, study, ,, well, ,, venetoclax, ,, acalabrutinib, ,, works, ,, mcl, ,, patients, ,, either, ,, relap...  \n",
       "2                                                                                                                                               [nice, ,, backs, ,, astrazenecas, ,, calquence, ,, cll, ,]  \n",
       "3                      [acalabrutinib, ,, valuable, ,, option, ,, pts, ,, intolerant, ,, ibrutinib, ,, valuable, ,, data, ,, help, ,, decision, ,, making, ,, cll, ,, early, ,, view, ,, haematologica, ,]  \n",
       "4                                                                  [nice, ,, recommended, ,, use, ,, acalabrutinib, ,, patients, ,, treatment, ,, na, ,, chronic, ,, lymphocytic, ,, leukemia, ,, find, ,]  "
      ]
     },
     "execution_count": 28,
     "metadata": {},
     "output_type": "execute_result"
    }
   ],
   "source": [
    "df.head()"
   ]
  },
  {
   "cell_type": "code",
   "execution_count": null,
   "id": "4de2fd3d",
   "metadata": {},
   "outputs": [],
   "source": []
  },
  {
   "cell_type": "markdown",
   "id": "a1533234",
   "metadata": {},
   "source": [
    "# Stemming "
   ]
  },
  {
   "cell_type": "code",
   "execution_count": 30,
   "id": "05acbf4a",
   "metadata": {},
   "outputs": [],
   "source": [
    "from nltk.stem.porter import PorterStemmer\n",
    "stemmer = PorterStemmer()\n",
    "def stem_words(text):       \n",
    "    return \" \".join([stemmer.stem(word) for word in text])\n"
   ]
  },
  {
   "cell_type": "code",
   "execution_count": 31,
   "id": "00918aa1",
   "metadata": {},
   "outputs": [],
   "source": [
    "df['clean_text']=df['clean_text'].apply(lambda text: stem_words(text))"
   ]
  },
  {
   "cell_type": "code",
   "execution_count": 32,
   "id": "08912a19",
   "metadata": {},
   "outputs": [
    {
     "data": {
      "text/html": [
       "<div>\n",
       "<style scoped>\n",
       "    .dataframe tbody tr th:only-of-type {\n",
       "        vertical-align: middle;\n",
       "    }\n",
       "\n",
       "    .dataframe tbody tr th {\n",
       "        vertical-align: top;\n",
       "    }\n",
       "\n",
       "    .dataframe thead th {\n",
       "        text-align: right;\n",
       "    }\n",
       "</style>\n",
       "<table border=\"1\" class=\"dataframe\">\n",
       "  <thead>\n",
       "    <tr style=\"text-align: right;\">\n",
       "      <th></th>\n",
       "      <th>Time_Date</th>\n",
       "      <th>author</th>\n",
       "      <th>text</th>\n",
       "      <th>clean_text</th>\n",
       "    </tr>\n",
       "  </thead>\n",
       "  <tbody>\n",
       "    <tr>\n",
       "      <th>0</th>\n",
       "      <td>2013-07-18 09:39:46.071961602</td>\n",
       "      <td>Hematopoiesis News</td>\n",
       "      <td>⚕️ Scientists conducted a Phase II study of acalabrutinib in patients with relapsed/refractory #CLL who were ibrutinib-intolerant, and found an overall response rate of 73%. \\nhttps://t.co/eJ6m4Qp...</td>\n",
       "      <td>scientist , conduct , phase , ii , studi , acalabrutinib , patient , relaps , refractori , cll , ibrutinib , intoler , found , overal , respons , rate ,</td>\n",
       "    </tr>\n",
       "    <tr>\n",
       "      <th>1</th>\n",
       "      <td>2013-07-17 03:40:32.173842437</td>\n",
       "      <td>Michael Wang, MD</td>\n",
       "      <td>This phase 2 Acalabrutinib-Venetoclax (AV) trial that is still in recruitment phase will study how well venetoclax and acalabrutinib works in MCL patients who either relapsed or non-respondent to ...</td>\n",
       "      <td>phase , acalabrutinib , venetoclax , av , trial , still , recruit , phase , studi , well , venetoclax , acalabrutinib , work , mcl , patient , either , relaps , non , respond , initi , therapi ,</td>\n",
       "    </tr>\n",
       "    <tr>\n",
       "      <th>2</th>\n",
       "      <td>2013-07-15 15:41:16.553048065</td>\n",
       "      <td>1stOncology</td>\n",
       "      <td>#NICE backs #AstraZenecas #Calquence for #CLL https://t.co/Vb5lPDoGrA</td>\n",
       "      <td>nice , back , astrazeneca , calquenc , cll ,</td>\n",
       "    </tr>\n",
       "    <tr>\n",
       "      <th>3</th>\n",
       "      <td>2013-07-12 19:19:42.367813635</td>\n",
       "      <td>Toby Eyre</td>\n",
       "      <td>#acalabrutinib is a valuable option in pts intolerant to #ibrutinib. Further valuable data to help decision making in #CLL \\n\\nEarly View | Haematologica https://t.co/Z2kCLZaX0D</td>\n",
       "      <td>acalabrutinib , valuabl , option , pt , intoler , ibrutinib , valuabl , data , help , decis , make , cll , earli , view , haematologica ,</td>\n",
       "    </tr>\n",
       "    <tr>\n",
       "      <th>4</th>\n",
       "      <td>2013-07-04 12:40:34.334232586</td>\n",
       "      <td>Lymphoma Hub</td>\n",
       "      <td>NICE has recommended the use of acalabrutinib for patients with treatment-naïve chronic lymphocytic leukemia. Find out more here https://t.co/6OuJptLCIN #lymsm #lymphoma</td>\n",
       "      <td>nice , recommend , use , acalabrutinib , patient , treatment , na , chronic , lymphocyt , leukemia , find ,</td>\n",
       "    </tr>\n",
       "  </tbody>\n",
       "</table>\n",
       "</div>"
      ],
      "text/plain": [
       "                       Time_Date              author  \\\n",
       "0  2013-07-18 09:39:46.071961602  Hematopoiesis News   \n",
       "1  2013-07-17 03:40:32.173842437    Michael Wang, MD   \n",
       "2  2013-07-15 15:41:16.553048065         1stOncology   \n",
       "3  2013-07-12 19:19:42.367813635           Toby Eyre   \n",
       "4  2013-07-04 12:40:34.334232586        Lymphoma Hub   \n",
       "\n",
       "                                                                                                                                                                                                      text  \\\n",
       "0  ⚕️ Scientists conducted a Phase II study of acalabrutinib in patients with relapsed/refractory #CLL who were ibrutinib-intolerant, and found an overall response rate of 73%. \\nhttps://t.co/eJ6m4Qp...   \n",
       "1  This phase 2 Acalabrutinib-Venetoclax (AV) trial that is still in recruitment phase will study how well venetoclax and acalabrutinib works in MCL patients who either relapsed or non-respondent to ...   \n",
       "2                                                                                                                                    #NICE backs #AstraZenecas #Calquence for #CLL https://t.co/Vb5lPDoGrA   \n",
       "3                        #acalabrutinib is a valuable option in pts intolerant to #ibrutinib. Further valuable data to help decision making in #CLL \\n\\nEarly View | Haematologica https://t.co/Z2kCLZaX0D   \n",
       "4                                NICE has recommended the use of acalabrutinib for patients with treatment-naïve chronic lymphocytic leukemia. Find out more here https://t.co/6OuJptLCIN #lymsm #lymphoma   \n",
       "\n",
       "                                                                                                                                                                                           clean_text  \n",
       "0                                            scientist , conduct , phase , ii , studi , acalabrutinib , patient , relaps , refractori , cll , ibrutinib , intoler , found , overal , respons , rate ,  \n",
       "1  phase , acalabrutinib , venetoclax , av , trial , still , recruit , phase , studi , well , venetoclax , acalabrutinib , work , mcl , patient , either , relaps , non , respond , initi , therapi ,  \n",
       "2                                                                                                                                                        nice , back , astrazeneca , calquenc , cll ,  \n",
       "3                                                           acalabrutinib , valuabl , option , pt , intoler , ibrutinib , valuabl , data , help , decis , make , cll , earli , view , haematologica ,  \n",
       "4                                                                                         nice , recommend , use , acalabrutinib , patient , treatment , na , chronic , lymphocyt , leukemia , find ,  "
      ]
     },
     "execution_count": 32,
     "metadata": {},
     "output_type": "execute_result"
    }
   ],
   "source": [
    "df.head()"
   ]
  },
  {
   "cell_type": "markdown",
   "id": "4537c1a5",
   "metadata": {},
   "source": [
    "# Sentiment Analysis"
   ]
  },
  {
   "cell_type": "code",
   "execution_count": 36,
   "id": "f74782fc",
   "metadata": {},
   "outputs": [
    {
     "name": "stdout",
     "output_type": "stream",
     "text": [
      "Requirement already satisfied: afinn in c:\\users\\jakha\\anaconda3\\lib\\site-packages (0.1)\n",
      "Note: you may need to restart the kernel to use updated packages.\n"
     ]
    }
   ],
   "source": [
    "pip   install  afinn"
   ]
  },
  {
   "cell_type": "code",
   "execution_count": 37,
   "id": "b6e7bbcb",
   "metadata": {},
   "outputs": [],
   "source": [
    "from afinn import Afinn"
   ]
  },
  {
   "cell_type": "code",
   "execution_count": 38,
   "id": "6cd4f36f",
   "metadata": {},
   "outputs": [],
   "source": [
    "a=Afinn()"
   ]
  },
  {
   "cell_type": "code",
   "execution_count": 39,
   "id": "1c5b052b",
   "metadata": {},
   "outputs": [],
   "source": [
    "# sentiment score"
   ]
  },
  {
   "cell_type": "code",
   "execution_count": 40,
   "id": "05d17ca7",
   "metadata": {},
   "outputs": [],
   "source": [
    "score=[a.score(i)  for i in df.clean_text]"
   ]
  },
  {
   "cell_type": "code",
   "execution_count": 44,
   "id": "d3ee5264",
   "metadata": {},
   "outputs": [],
   "source": [
    "cat=[\"positive\" if x>0 else \"Negative\" for x in score]"
   ]
  },
  {
   "cell_type": "code",
   "execution_count": 49,
   "id": "5c310d4e",
   "metadata": {},
   "outputs": [],
   "source": [
    "df1=pd.DataFrame()"
   ]
  },
  {
   "cell_type": "code",
   "execution_count": 50,
   "id": "8cf9760a",
   "metadata": {},
   "outputs": [
    {
     "data": {
      "text/html": [
       "<div>\n",
       "<style scoped>\n",
       "    .dataframe tbody tr th:only-of-type {\n",
       "        vertical-align: middle;\n",
       "    }\n",
       "\n",
       "    .dataframe tbody tr th {\n",
       "        vertical-align: top;\n",
       "    }\n",
       "\n",
       "    .dataframe thead th {\n",
       "        text-align: right;\n",
       "    }\n",
       "</style>\n",
       "<table border=\"1\" class=\"dataframe\">\n",
       "  <thead>\n",
       "    <tr style=\"text-align: right;\">\n",
       "      <th></th>\n",
       "      <th>Time_Date</th>\n",
       "      <th>author</th>\n",
       "      <th>text</th>\n",
       "      <th>clean_text</th>\n",
       "    </tr>\n",
       "  </thead>\n",
       "  <tbody>\n",
       "    <tr>\n",
       "      <th>0</th>\n",
       "      <td>2013-07-18 09:39:46.071961602</td>\n",
       "      <td>Hematopoiesis News</td>\n",
       "      <td>⚕️ Scientists conducted a Phase II study of acalabrutinib in patients with relapsed/refractory #CLL who were ibrutinib-intolerant, and found an overall response rate of 73%. \\nhttps://t.co/eJ6m4Qp...</td>\n",
       "      <td>scientist , conduct , phase , ii , studi , acalabrutinib , patient , relaps , refractori , cll , ibrutinib , intoler , found , overal , respons , rate ,</td>\n",
       "    </tr>\n",
       "    <tr>\n",
       "      <th>1</th>\n",
       "      <td>2013-07-17 03:40:32.173842437</td>\n",
       "      <td>Michael Wang, MD</td>\n",
       "      <td>This phase 2 Acalabrutinib-Venetoclax (AV) trial that is still in recruitment phase will study how well venetoclax and acalabrutinib works in MCL patients who either relapsed or non-respondent to ...</td>\n",
       "      <td>phase , acalabrutinib , venetoclax , av , trial , still , recruit , phase , studi , well , venetoclax , acalabrutinib , work , mcl , patient , either , relaps , non , respond , initi , therapi ,</td>\n",
       "    </tr>\n",
       "    <tr>\n",
       "      <th>2</th>\n",
       "      <td>2013-07-15 15:41:16.553048065</td>\n",
       "      <td>1stOncology</td>\n",
       "      <td>#NICE backs #AstraZenecas #Calquence for #CLL https://t.co/Vb5lPDoGrA</td>\n",
       "      <td>nice , back , astrazeneca , calquenc , cll ,</td>\n",
       "    </tr>\n",
       "    <tr>\n",
       "      <th>3</th>\n",
       "      <td>2013-07-12 19:19:42.367813635</td>\n",
       "      <td>Toby Eyre</td>\n",
       "      <td>#acalabrutinib is a valuable option in pts intolerant to #ibrutinib. Further valuable data to help decision making in #CLL \\n\\nEarly View | Haematologica https://t.co/Z2kCLZaX0D</td>\n",
       "      <td>acalabrutinib , valuabl , option , pt , intoler , ibrutinib , valuabl , data , help , decis , make , cll , earli , view , haematologica ,</td>\n",
       "    </tr>\n",
       "    <tr>\n",
       "      <th>4</th>\n",
       "      <td>2013-07-04 12:40:34.334232586</td>\n",
       "      <td>Lymphoma Hub</td>\n",
       "      <td>NICE has recommended the use of acalabrutinib for patients with treatment-naïve chronic lymphocytic leukemia. Find out more here https://t.co/6OuJptLCIN #lymsm #lymphoma</td>\n",
       "      <td>nice , recommend , use , acalabrutinib , patient , treatment , na , chronic , lymphocyt , leukemia , find ,</td>\n",
       "    </tr>\n",
       "    <tr>\n",
       "      <th>...</th>\n",
       "      <td>...</td>\n",
       "      <td>...</td>\n",
       "      <td>...</td>\n",
       "      <td>...</td>\n",
       "    </tr>\n",
       "    <tr>\n",
       "      <th>43342</th>\n",
       "      <td>1987-06-19 12:17:53.643945985</td>\n",
       "      <td>Joy is a Lifestyle</td>\n",
       "      <td>Hanging out with Friends! :) #FF #CLL #Happiness http://t.co/PdLEWW6Bbb</td>\n",
       "      <td>hang , friend , ff , cll , happi ,</td>\n",
       "    </tr>\n",
       "    <tr>\n",
       "      <th>43343</th>\n",
       "      <td>1987-06-19 12:06:26.675290112</td>\n",
       "      <td>𝓒𝓻𝓲𝔃𝔃𝔂 𝓟𝓮𝓻𝓻𝔂🌹</td>\n",
       "      <td>Hanging out with Friends! :) #FF #CLL #Happiness http://t.co/gynChDNUL2</td>\n",
       "      <td>hang , friend , ff , cll , happi ,</td>\n",
       "    </tr>\n",
       "    <tr>\n",
       "      <th>43344</th>\n",
       "      <td>1987-06-17 23:05:41.186953217</td>\n",
       "      <td>IQWiG</td>\n",
       "      <td>Zusatznutzen von #Idelalisib ist weder für #CLL noch für refraktäres follikuläres Lymphom belegt https://t.co/WRtTkZ0PiY</td>\n",
       "      <td>zusatznutzen , von , idelalisib , ist , weder , f , r , cll , noch , f , r , refrakt , re , follikul , re , lymphom , belegt ,</td>\n",
       "    </tr>\n",
       "    <tr>\n",
       "      <th>43345</th>\n",
       "      <td>1987-06-17 15:18:00.525635584</td>\n",
       "      <td>Medibooks</td>\n",
       "      <td>#Hematología PTK2 EXPRESSION AND IMMUNOCHEMOTHERAPY OUTCOME IN CHRONIC LYMPHOCYTIC LEUKEMIA. (2014) http://t.co/rWZIOkjnka</td>\n",
       "      <td>hematolog , ptk , express , immunochemotherapi , outcom , chronic , lymphocyt , leukemia ,</td>\n",
       "    </tr>\n",
       "    <tr>\n",
       "      <th>43346</th>\n",
       "      <td>1987-06-13 10:44:06.537678849</td>\n",
       "      <td>Medibooks</td>\n",
       "      <td>#Hematología MUTATIONS IN TLR/MYD88 PATHWAY IDENTIFY A SUBSET OF YOUNG CHRONIC LYMPHOCYTIC LEUKEMIA PATIENTS WITH… http://t.co/YzvK2n9UsZ</td>\n",
       "      <td>hematolog , mutat , tlr , myd , pathway , identifi , subset , young , chronic , lymphocyt , leukemia , patient ,</td>\n",
       "    </tr>\n",
       "  </tbody>\n",
       "</table>\n",
       "<p>43347 rows × 4 columns</p>\n",
       "</div>"
      ],
      "text/plain": [
       "                           Time_Date              author  \\\n",
       "0      2013-07-18 09:39:46.071961602  Hematopoiesis News   \n",
       "1      2013-07-17 03:40:32.173842437    Michael Wang, MD   \n",
       "2      2013-07-15 15:41:16.553048065         1stOncology   \n",
       "3      2013-07-12 19:19:42.367813635           Toby Eyre   \n",
       "4      2013-07-04 12:40:34.334232586        Lymphoma Hub   \n",
       "...                              ...                 ...   \n",
       "43342  1987-06-19 12:17:53.643945985  Joy is a Lifestyle   \n",
       "43343  1987-06-19 12:06:26.675290112       𝓒𝓻𝓲𝔃𝔃𝔂 𝓟𝓮𝓻𝓻𝔂🌹   \n",
       "43344  1987-06-17 23:05:41.186953217               IQWiG   \n",
       "43345  1987-06-17 15:18:00.525635584           Medibooks   \n",
       "43346  1987-06-13 10:44:06.537678849           Medibooks   \n",
       "\n",
       "                                                                                                                                                                                                          text  \\\n",
       "0      ⚕️ Scientists conducted a Phase II study of acalabrutinib in patients with relapsed/refractory #CLL who were ibrutinib-intolerant, and found an overall response rate of 73%. \\nhttps://t.co/eJ6m4Qp...   \n",
       "1      This phase 2 Acalabrutinib-Venetoclax (AV) trial that is still in recruitment phase will study how well venetoclax and acalabrutinib works in MCL patients who either relapsed or non-respondent to ...   \n",
       "2                                                                                                                                        #NICE backs #AstraZenecas #Calquence for #CLL https://t.co/Vb5lPDoGrA   \n",
       "3                            #acalabrutinib is a valuable option in pts intolerant to #ibrutinib. Further valuable data to help decision making in #CLL \\n\\nEarly View | Haematologica https://t.co/Z2kCLZaX0D   \n",
       "4                                    NICE has recommended the use of acalabrutinib for patients with treatment-naïve chronic lymphocytic leukemia. Find out more here https://t.co/6OuJptLCIN #lymsm #lymphoma   \n",
       "...                                                                                                                                                                                                        ...   \n",
       "43342                                                                                                                                  Hanging out with Friends! :) #FF #CLL #Happiness http://t.co/PdLEWW6Bbb   \n",
       "43343                                                                                                                                  Hanging out with Friends! :) #FF #CLL #Happiness http://t.co/gynChDNUL2   \n",
       "43344                                                                                 Zusatznutzen von #Idelalisib ist weder für #CLL noch für refraktäres follikuläres Lymphom belegt https://t.co/WRtTkZ0PiY   \n",
       "43345                                                                               #Hematología PTK2 EXPRESSION AND IMMUNOCHEMOTHERAPY OUTCOME IN CHRONIC LYMPHOCYTIC LEUKEMIA. (2014) http://t.co/rWZIOkjnka   \n",
       "43346                                                                #Hematología MUTATIONS IN TLR/MYD88 PATHWAY IDENTIFY A SUBSET OF YOUNG CHRONIC LYMPHOCYTIC LEUKEMIA PATIENTS WITH… http://t.co/YzvK2n9UsZ   \n",
       "\n",
       "                                                                                                                                                                                               clean_text  \n",
       "0                                                scientist , conduct , phase , ii , studi , acalabrutinib , patient , relaps , refractori , cll , ibrutinib , intoler , found , overal , respons , rate ,  \n",
       "1      phase , acalabrutinib , venetoclax , av , trial , still , recruit , phase , studi , well , venetoclax , acalabrutinib , work , mcl , patient , either , relaps , non , respond , initi , therapi ,  \n",
       "2                                                                                                                                                            nice , back , astrazeneca , calquenc , cll ,  \n",
       "3                                                               acalabrutinib , valuabl , option , pt , intoler , ibrutinib , valuabl , data , help , decis , make , cll , earli , view , haematologica ,  \n",
       "4                                                                                             nice , recommend , use , acalabrutinib , patient , treatment , na , chronic , lymphocyt , leukemia , find ,  \n",
       "...                                                                                                                                                                                                   ...  \n",
       "43342                                                                                                                                                                  hang , friend , ff , cll , happi ,  \n",
       "43343                                                                                                                                                                  hang , friend , ff , cll , happi ,  \n",
       "43344                                                                      zusatznutzen , von , idelalisib , ist , weder , f , r , cll , noch , f , r , refrakt , re , follikul , re , lymphom , belegt ,  \n",
       "43345                                                                                                          hematolog , ptk , express , immunochemotherapi , outcom , chronic , lymphocyt , leukemia ,  \n",
       "43346                                                                                    hematolog , mutat , tlr , myd , pathway , identifi , subset , young , chronic , lymphocyt , leukemia , patient ,  \n",
       "\n",
       "[43347 rows x 4 columns]"
      ]
     },
     "execution_count": 50,
     "metadata": {},
     "output_type": "execute_result"
    }
   ],
   "source": [
    "df"
   ]
  },
  {
   "cell_type": "code",
   "execution_count": 51,
   "id": "f6771468",
   "metadata": {},
   "outputs": [],
   "source": [
    "df1[\"Entities\"]=df.text"
   ]
  },
  {
   "cell_type": "code",
   "execution_count": 53,
   "id": "703e11c5",
   "metadata": {},
   "outputs": [],
   "source": [
    "df1[\"Author\"]=df.author"
   ]
  },
  {
   "cell_type": "code",
   "execution_count": 55,
   "id": "da9b7306",
   "metadata": {},
   "outputs": [],
   "source": [
    "df1[\"overall_polarity\"]=cat"
   ]
  },
  {
   "cell_type": "code",
   "execution_count": 57,
   "id": "6deb1931",
   "metadata": {},
   "outputs": [],
   "source": [
    "df1.to_csv(\"objective2.csv\",index=False)"
   ]
  },
  {
   "cell_type": "markdown",
   "id": "207b5a63",
   "metadata": {},
   "source": [
    "# Summary"
   ]
  },
  {
   "cell_type": "markdown",
   "id": "f733eec2",
   "metadata": {},
   "source": [
    "* We have read the data from csv to python notebook.\n",
    "* We have to pre proces the Data and prepare the data for required task.\n",
    "* We have converted the text into lower case to give the unique identification all words.\n",
    "* Then we have removed all the mentions for example @ from the text data because there is no information frokm this kind of characters.\n",
    "* Then we have removed all the special characters from the data.\n",
    "* Then we have removed the stop words(for example is ,of,the ), These kind of words does not have any meaning and they are used for grammer support for the text.\n",
    "* Then we have removed the Hyperlinks from the data(https;/) to clean the data to genrate the right output.\n",
    "* After cleaning text data we have calculated polarity score using Afinn to get the positive or negative based on the score\n",
    "predicted by afinn on basis of sentiments present in the data\n",
    "* Stored the entities ,author and overall polarity into dataframe and generate csv file for the same ."
   ]
  },
  {
   "cell_type": "code",
   "execution_count": null,
   "id": "11aa8eda",
   "metadata": {},
   "outputs": [],
   "source": []
  }
 ],
 "metadata": {
  "kernelspec": {
   "display_name": "Python 3 (ipykernel)",
   "language": "python",
   "name": "python3"
  },
  "language_info": {
   "codemirror_mode": {
    "name": "ipython",
    "version": 3
   },
   "file_extension": ".py",
   "mimetype": "text/x-python",
   "name": "python",
   "nbconvert_exporter": "python",
   "pygments_lexer": "ipython3",
   "version": "3.9.7"
  }
 },
 "nbformat": 4,
 "nbformat_minor": 5
}
